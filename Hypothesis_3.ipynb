{
 "cells": [
  {
   "cell_type": "code",
   "execution_count": 2,
   "id": "8a6324661d41e824",
   "metadata": {
    "ExecuteTime": {
     "end_time": "2024-06-23T10:52:30.015250Z",
     "start_time": "2024-06-23T10:52:29.800153Z"
    }
   },
   "outputs": [
    {
     "name": "stderr",
     "output_type": "stream",
     "text": [
      "[nltk_data] Downloading package stopwords to /home/ubuntu/nltk_data...\n",
      "[nltk_data]   Unzipping corpora/stopwords.zip.\n",
      "[nltk_data] Downloading package wordnet to /home/ubuntu/nltk_data...\n",
      "[nltk_data] Downloading package punkt to /home/ubuntu/nltk_data...\n",
      "[nltk_data]   Unzipping tokenizers/punkt.zip.\n",
      "[nltk_data] Downloading package vader_lexicon to\n",
      "[nltk_data]     /home/ubuntu/nltk_data...\n",
      "[nltk_data]   Package vader_lexicon is already up-to-date!\n",
      "[nltk_data] Downloading package averaged_perceptron_tagger to\n",
      "[nltk_data]     /home/ubuntu/nltk_data...\n",
      "[nltk_data]   Unzipping taggers/averaged_perceptron_tagger.zip.\n"
     ]
    }
   ],
   "source": [
    "import time\n",
    "\n",
    "import matplotlib.pyplot as plt\n",
    "from pymongo import MongoClient\n",
    "import pandas as pd\n",
    "from nltk.corpus import stopwords\n",
    "from nltk import WordNetLemmatizer\n",
    "from nltk.sentiment.vader import SentimentIntensityAnalyzer\n",
    "import pickle\n",
    "import nltk\n",
    "import numpy as np\n",
    "from sklearn.feature_extraction.text import CountVectorizer, TfidfVectorizer\n",
    "from sklearn.decomposition import LatentDirichletAllocation\n",
    "\n",
    "nltk.download('stopwords')\n",
    "nltk.download('wordnet')\n",
    "nltk.download('punkt')\n",
    "nltk.download('vader_lexicon')\n",
    "nltk.download('averaged_perceptron_tagger')\n",
    "stop_words = set(stopwords.words('english'))\n",
    "lemmatizer = WordNetLemmatizer()"
   ]
  },
  {
   "cell_type": "markdown",
   "id": "8dad3d7442358b36",
   "metadata": {},
   "source": [
    "# Hypothesis H1 analysis\n",
    "#### This notebook is dedicated to the exploration of the Hypotesis H1\n",
    "This hypothesis has an explorative nature. The main goal is to find out if there exists topics discussed in the reviews by aribnb users that are valued higly by users.\n",
    "To do so we first build a LDA model that is able to extract topics discussed in reviews in an unsupervised way. This was done in a previous script.\n",
    "Reviews are splitted in phrases and for each phrase the greatest topic probability is chosen as a topic score and with sentiment analyisis we give a sentiment score to each phrase. More detail later. The various phrases in a review are combined in a review topic-sentiment matrix. We have tried to predict in which price category an airbnb falls in to using this matrixes to build a predictor."
   ]
  },
  {
   "cell_type": "markdown",
   "id": "c82410251a19416e",
   "metadata": {},
   "source": [
    "## Producing the review_topic_sentiment matirx\n",
    "#### As a first thing i copy the methods used to clean and tokenize the reviews. This is done to simulate the ingestion of new reviews."
   ]
  },
  {
   "cell_type": "code",
   "execution_count": 230,
   "id": "2a031397362c00b5",
   "metadata": {
    "ExecuteTime": {
     "end_time": "2024-06-23T10:52:31.834666Z",
     "start_time": "2024-06-23T10:52:31.812370Z"
    }
   },
   "outputs": [
    {
     "name": "stdout",
     "output_type": "stream",
     "text": [
      "Loading lda...\n",
      "Loading vectorizer...\n"
     ]
    }
   ],
   "source": [
    "# preprocessing function\n",
    "\n",
    "def preprocess(text):\n",
    "    with open(r'C:\\Users\\flavi\\PycharmProjects\\lda_test\\processed_data\\host_names.pkl', 'rb') as name_file:\n",
    "        host_names = pickle.load(name_file)\n",
    "    tokens = nltk.word_tokenize(text)\n",
    "    tokens = [word for word in tokens if word.isalpha()]\n",
    "    tokens = ['host' if word in host_names else word for word in tokens]\n",
    "    tokens = [lemmatizer.lemmatize(token) for token in tokens if token.lower() not in stop_words]\n",
    "    return ' '.join(tokens)\n",
    "\n",
    "def get_topic(topic_distribution):\n",
    "    return topic_distribution.argmax()\n",
    "\n",
    "\n",
    "# loading the chosen LDA model\n",
    "lda = r'C:\\Users\\flavi\\PycharmProjects\\lda_test\\ldaS\\lda_8_Mdf90_mdf10_100EPOCHS.pkl'\n",
    "print('Loading lda...')\n",
    "with open(lda, 'rb') as lda_file:\n",
    "    LDA = pickle.load(lda_file)\n",
    "\n",
    "# creating the vectorizer \n",
    "vectorizer_file = r'C:\\Users\\flavi\\PycharmProjects\\lda_test\\ldaS\\vectorizer_8_Mdf_90_10_100EPOCHS.pkl'\n",
    "print('Loading vectorizer...')\n",
    "vectorizer = pickle.load(open(vectorizer_file, 'rb'))\n",
    " \n",
    "#vectorizer = CountVectorizer(max_df=0.90, min_df=10, stop_words='english')\n",
    "\n",
    "# loading the vader sentiment analizer\n",
    "\n",
    "sia = SentimentIntensityAnalyzer()"
   ]
  },
  {
   "cell_type": "markdown",
   "id": "f5e765867840cbf1",
   "metadata": {},
   "source": [
    "#### Here are the strategies used to translate each review in to a matrix\n",
    "1) This first strategy computes as a topic score the probability that a review talks about a given topic. then the review gets splitted in to phrases and once each phrase gets its chosen topic, a sentiment score is applied to it. Now we average the sentiment score per phrase topic and the result of this gets saved as the second column"
   ]
  },
  {
   "cell_type": "code",
   "execution_count": 231,
   "id": "25bf36a394f63192",
   "metadata": {
    "ExecuteTime": {
     "end_time": "2024-06-23T10:52:35.923021Z",
     "start_time": "2024-06-23T10:52:33.273843Z"
    }
   },
   "outputs": [
    {
     "name": "stdout",
     "output_type": "stream",
     "text": [
      "          0         1         2         3         4         5    6         7\n",
      "0  0.510827  0.496015  0.902692  0.578112  0.363342  0.854145  0.0  0.644207\n",
      "1 -0.051033  0.000000  0.293600  0.164233  0.433533  0.000000  0.0  0.318450\n"
     ]
    }
   ],
   "source": [
    "sample_rev = \"\"\"Our stay with Daniel was truly one of the highlights of mine and my partner's whirlwind European tour. Not only was the room smashingly decorated (a great example of modern Dutch living), spotlessly clean and serenely comfortable {think Zen), but having Daniel as a point of reference was our key to discovering the city. From the get-go he freely offered advice whenever we had questions about where to go or what to do in Amsterdam. \n",
    "\n",
    "The room is located at quite a distance from the heart of the city, but we didn't find this hindering. We were able to get to the center in a snap with the two bikes Daniel has available for a minimal charge or via any of the train or bus stops located within a stones throw of his front door. There are plenty of restaurants, cafes and groceries in the area. And staying here is also a great way to see how the locals are living.\n",
    "\n",
    "I would recommend Daniel's residence to anyone looking for a smart, affordable alternative to hotels or hostels. As a gay couple especially we found him extremely welcoming. \n",
    "\n",
    "P.S. You can check my YouTube page for videos of our stay in Amsterdam, which includes a peek into the room: (Website hidden by Airbnb)\"\"\"\n",
    "\n",
    "\n",
    "def get_topic(topic_distribution):\n",
    "    return topic_distribution.argmax()\n",
    "\n",
    "def review_to_matrix_1(text, LDA, vectorizer, sia):\n",
    "    \n",
    "    processed_text = [preprocess(text)]\n",
    "    vect_rev = vectorizer.transform(processed_text)\n",
    "    rev_topic_scores = LDA.transform(vect_rev)\n",
    "    n_of_topics = len(rev_topic_scores[0])\n",
    "    document_matrix = np.zeros((2, n_of_topics))\n",
    "    sentences = nltk.sent_tokenize(text=text, language='english')\n",
    "    max_topic_scores = np.zeros(n_of_topics)\n",
    "    topic_frequency = np.ones(n_of_topics)\n",
    "    topic_sentiment_accumulator = np.zeros(n_of_topics)\n",
    "    for sentence in sentences:\n",
    "        processed_sentence = [preprocess(sentence)]\n",
    "        sentence_topic_scores = LDA.transform(vectorizer.transform(processed_sentence))\n",
    "        topic = get_topic(sentence_topic_scores)\n",
    "        topic_frequency[topic] += 1\n",
    "        #('Current sentence:',sentence)\n",
    "        #print('Topic sentence:', topic)\n",
    "       # print(sentence_topic_scores[0][topic])\n",
    "        if sentence_topic_scores[0][topic] > max_topic_scores[topic]:\n",
    "            max_topic_scores[topic] = sentence_topic_scores[0][topic]\n",
    "        sentiment = sia.polarity_scores(sentence).get('compound')\n",
    "        topic_sentiment_accumulator[topic] += sentiment\n",
    "        #print('Compound sentiment:', sentiment)\n",
    "    document_matrix[0,:] = max_topic_scores\n",
    "    document_matrix[1,:] = topic_sentiment_accumulator/topic_frequency\n",
    "\n",
    "    return document_matrix\n",
    "    \n",
    "\n",
    "    \n",
    "test_rev1_df = pd.DataFrame(review_to_matrix_1(LDA=LDA, vectorizer=vectorizer,text= sample_rev, sia=sia))\n",
    "print(test_rev1_df)"
   ]
  },
  {
   "cell_type": "markdown",
   "id": "c9bbf5047ea9ad52",
   "metadata": {},
   "source": [
    "We migth need to tune vader for our specific use case. If the classifier for the prices "
   ]
  },
  {
   "cell_type": "markdown",
   "id": "be5cc4af8d0f6592",
   "metadata": {},
   "source": [
    "## Classifying the reviews\n",
    "The next step is to classify the reviews for all the documents and for each lising to compute the average review matrix"
   ]
  },
  {
   "cell_type": "code",
   "execution_count": 3,
   "id": "ec94f987-4be0-44b0-b4be-9bdbc64762de",
   "metadata": {},
   "outputs": [
    {
     "name": "stdout",
     "output_type": "stream",
     "text": [
      "   listing_id                              name  host_name   latitude  \\\n",
      "0     9996278  Stylish family house near centre       Imke  52.391568   \n",
      "1     9996278  Stylish family house near centre       Imke  52.391568   \n",
      "2     9996278  Stylish family house near centre       Imke  52.391568   \n",
      "3     9996278  Stylish family house near centre       Imke  52.391568   \n",
      "4     9992899    Cozy Canal House in the centre  Liselotte  52.375860   \n",
      "\n",
      "   longitude  price        date  \\\n",
      "0   4.926035   65.0  2016-02-22   \n",
      "1   4.926035   65.0  2016-02-07   \n",
      "2   4.926035   65.0  2016-01-24   \n",
      "3   4.926035   65.0  2015-12-31   \n",
      "4   4.893092   79.0  2016-02-21   \n",
      "\n",
      "                                             comment  \n",
      "0  My friends and I really enjoyed our stay at Im...  \n",
      "1  I enjoyed Imkes place Despite the fact that th...  \n",
      "2  Probably the coolest house in Amsterdam. All o...  \n",
      "3              Vert nice house We spend a great stay  \n",
      "4  We loved every minute of our stay here. Liselo...  \n"
     ]
    }
   ],
   "source": [
    "# Connettersi al client MongoDB\n",
    "client = MongoClient('mongodb://localhost:27017/')\n",
    "db = client['dsbda_project']\n",
    "collection = db['row']\n",
    "\n",
    "# RESTRIZIONE APPLICATA AI DATI, per gestire volume\n",
    "data_inizio = \"2009-01-01\"\n",
    "data_fine = \"2018-12-31\"\n",
    "\n",
    "# Query per selezionare i campi specificati\n",
    "query = {\n",
    "    \"date\": {\n",
    "        \"$gte\": data_inizio,\n",
    "        \"$lte\": data_fine\n",
    "    }\n",
    "}\n",
    "\n",
    "# Seleziona i campi desiderati\n",
    "projection = {\n",
    "    \"_id\": 0,  # Escludi il campo _id\n",
    "    \"listing_id\": 1,\n",
    "    \"price\" : 1,\n",
    "    \"name\" : 1,\n",
    "    \"host_name\" : 1,\n",
    "    \"host_id\" : 1,\n",
    "    \"longitude\": 1,\n",
    "    \"latitude\": 1,\n",
    "    \"date\": 1,\n",
    "    \"comment\": 1\n",
    "}\n",
    "\n",
    "cursor = collection.find(query, projection)\n",
    "data = list(cursor)\n",
    "df_reviews_full = pd.DataFrame(data)\n",
    "\n",
    "print(df_reviews_full.head())\n"
   ]
  },
  {
   "cell_type": "code",
   "execution_count": 6,
   "id": "8fee768e681afb2a",
   "metadata": {
    "ExecuteTime": {
     "end_time": "2024-06-23T21:40:13.991228Z",
     "start_time": "2024-06-23T21:40:12.104698Z"
    }
   },
   "outputs": [
    {
     "name": "stdout",
     "output_type": "stream",
     "text": [
      "    listing_id                                               name  \\\n",
      "0     22643412  Classic houseboat in the city center of Amsterdam   \n",
      "1      1056269        Your home in Amsterdam is spacious and cosy   \n",
      "2      1468473                       Light and bright appartement   \n",
      "3       683431                            Cozy Room Rivierenbuurt   \n",
      "4     21670358               Unique large design family apartment   \n",
      "5       834233              BB Mondriaan bright and modern studio   \n",
      "6     15118725                   Apartment in city centre JORDAAN   \n",
      "7      7450864                Nice apartment close to City Centre   \n",
      "8      8434745                Lovely houseboat in the old centre.   \n",
      "9     20203512                                          BSZ HOUSE   \n",
      "10    20158135                         Cosy studio great location   \n",
      "11    14568123                        Cheap room Amsterdam center   \n",
      "12     9323377                      Cozy Studios in Heart of Pijp   \n",
      "13      137026                Entire house with garden in De Pijp   \n",
      "14     9058757    Colorful 4p Apt  BALCONY  Popular Pijp District   \n",
      "15    23777337                Great apt. in the heart of the city   \n",
      "16    20405959                 Renovated Cozy Room in City Centre   \n",
      "17      734886                     Roof Terrace Apartm w. parking   \n",
      "18     5722319                     The Little House in the garden   \n",
      "19     4416539                  2 Bedroom House AmsterdamSchiphol   \n",
      "20     6734900                 Apartment City centre of Amsterdam   \n",
      "21     3761686          The white room at rooftopterrace EastAdam   \n",
      "22    17265153                          30m2 Amsterdam Canal View   \n",
      "23     3099026                     Central Amsterdam Garden Suite   \n",
      "24      594474                   Lovely apartment on TOP location   \n",
      "25    23977668             Modern yet cosy houseboat with terrace   \n",
      "26    14563423                         Great bed perfect location   \n",
      "27     9045244  Loft apartment with a roofterrace close to Jor...   \n",
      "28     9110045    Luxurious Room For One 15 Min. From City Centre   \n",
      "29     7397526                Cosy and modern studio in Amsterdam   \n",
      "30     2761156                    Comfortable sky room 12th floor   \n",
      "31     9410136                     charmante priv studio op schip   \n",
      "32      384909                 Central Loft Great Rooftop Terrace   \n",
      "33     6803889      Apt.55m2classic city souterrain inc breakfast   \n",
      "34     7213232                 Calm spacious room in vibrant area   \n",
      "35    18151254        Lovely appartment for 2  Red Light District   \n",
      "36    18747974       Bright modern studio with roof terrace  bike   \n",
      "37     4788426                    Comfy apartment at perfect spot   \n",
      "38      690757                 SPACIOUS LOFT in 17C CANAL MANSION   \n",
      "39    24742530               Lovely family apartment Jordaan area   \n",
      "40     8792547                    Nice and cosy room in Amsterdam   \n",
      "41     1223171                        The Green Loft in Amsterdam   \n",
      "42    22725257         3 floor house w patio  terrace in the West   \n",
      "43    12118092                   Cozy room in penthouse at gracht   \n",
      "44    11333667                                    Lobby Apartment   \n",
      "45    22445237              Cosy room in 16th Century Canal House   \n",
      "46    10668417                Historic canal house in city center   \n",
      "47    13072405                                   Francescos house   \n",
      "48     2668398                      Soulful roofterrace apartment   \n",
      "49     7390801                   Nice apartment at great location   \n",
      "\n",
      "             host_name   latitude  longitude   price        date  \\\n",
      "0                 Emma  52.375823   4.916550   180.0  2018-06-24   \n",
      "1           Alexandros  52.355982   4.802511    80.0  2016-12-08   \n",
      "2                Nanne  52.376738   4.850324   140.0  2015-05-13   \n",
      "3                  Ned  52.346197   4.895664    80.0  2016-07-24   \n",
      "4                Joost  52.362839   4.872926   800.0  2018-10-28   \n",
      "5               Margot  52.371357   4.905018   120.0  2014-03-20   \n",
      "6              JanDirk  52.371854   4.882358  1200.0  2017-04-12   \n",
      "7                Nikky  52.386955   4.915659    99.0  2017-04-24   \n",
      "8               Mirjam  52.374097   4.902525   225.0  2018-05-29   \n",
      "9                 Itay  52.356183   4.899039   200.0  2017-08-31   \n",
      "10            Daniella  52.354141   4.889680    75.0  2018-07-12   \n",
      "11           Malagueta  52.371755   4.900696    89.0  2018-04-23   \n",
      "12              Esther  52.351912   4.890749   130.0  2018-02-18   \n",
      "13           Ton  Fede  52.353609   4.905621   259.0  2013-05-13   \n",
      "14    Michiel And Jane  52.352624   4.906516   175.0  2016-10-16   \n",
      "15          Christiaan  52.378228   4.895099    79.0  2018-08-28   \n",
      "16               Derya  52.372773   4.897723   110.0  2017-09-03   \n",
      "17               Evert  52.375845   4.847834   130.0  2015-11-03   \n",
      "18               Nancy  52.384298   4.907689   160.0  2017-05-01   \n",
      "19              Wouter  52.353040   4.829637    99.0  2017-03-20   \n",
      "20             Pauline  52.362156   4.899446   140.0  2015-11-17   \n",
      "21              Carmen  52.353558   4.940312    99.0  2017-07-30   \n",
      "22      Ferry  Annette  52.387219   4.881993    85.0  2017-10-30   \n",
      "23                  Jo  52.364216   4.907680   110.0  2014-10-27   \n",
      "24               Laura  52.353895   4.882060   200.0  2013-05-06   \n",
      "25              Albert  52.363404   4.904985   175.0  2018-10-28   \n",
      "26               Prema  52.360900   4.912740    75.0  2018-05-19   \n",
      "27              Monika  52.378830   4.874444    80.0  2017-01-05   \n",
      "28       Eldad  Louise  52.356381   4.998135    30.0  2016-07-12   \n",
      "29             Aurelie  52.376885   4.847074    95.0  2017-10-15   \n",
      "30                Rick  52.362438   4.843051    50.0  2016-09-08   \n",
      "31              Egbert  52.372295   4.948766    90.0  2017-02-05   \n",
      "32             Lisanne  52.373928   4.877931   199.0  2017-07-13   \n",
      "33                Vera  52.351100   4.859150   200.0  2015-08-13   \n",
      "34             Yannick  52.364641   4.943839    79.0  2018-09-29   \n",
      "35              Ronald  52.375359   4.897288   169.0  2018-04-12   \n",
      "36                Chen  52.348374   4.846480    70.0  2017-08-14   \n",
      "37              Nienke  52.361246   4.850316   109.0  2015-05-31   \n",
      "38                Gijs  52.374433   4.899602   175.0  2018-01-21   \n",
      "39                Leon  52.375519   4.873343   350.0  2018-11-16   \n",
      "40              Brenda  52.383283   4.813775    85.0  2016-08-31   \n",
      "41             Valeria  52.366275   4.863148    90.0  2015-05-07   \n",
      "42  Jaqueline  Keesjan  52.367179   4.833199   170.0  2018-07-15   \n",
      "43              Melody  52.351721   4.885904    70.0  2016-07-06   \n",
      "44                Alex  52.354939   4.854506   275.0  2018-02-20   \n",
      "45              Alison  52.374249   4.896734   150.0  2018-04-02   \n",
      "46               Irene  52.358751   4.887347   220.0  2018-05-27   \n",
      "47           Francesco  52.379403   4.801791    50.0  2018-08-03   \n",
      "48               Wimie  52.365406   4.851981   125.0  2017-03-28   \n",
      "49                Arne  52.384210   4.873631   107.0  2016-06-28   \n",
      "\n",
      "                                              comment  \n",
      "0   Nice place to star for visiting Amsterdam. We ...  \n",
      "1   Alexandros was really welcoming and the room w...  \n",
      "2   Nous avons eu Nanne et moi des problmes de com...  \n",
      "3   Everything was perfect the room is located nea...  \n",
      "4   Die Unterkunft hatte natrlich ihren Preis. Daf...  \n",
      "5   Margot nous a accueilli remarquablement. Elle ...  \n",
      "6   Appartement trs bien plac  quelques pas de la ...  \n",
      "7   We loved the location close to city centre wit...  \n",
      "8   Mirjam is a great host  a perfect location and...  \n",
      "9                                           Very good  \n",
      "10  This is a really good space if you dont mind s...  \n",
      "11  La ubicacin del apartamento es perfecta. Es un...  \n",
      "12  Really pleased with our stay was flexible and ...  \n",
      "13  The house of Ton  Federica was very nice the l...  \n",
      "14  the apartment is really nice and the location ...  \n",
      "15  Cozy apartment located in the center of Amster...  \n",
      "16  The appartment is nicely located in central Am...  \n",
      "17  Our opinion of the accomodation provided by Ev...  \n",
      "18  Klein aber fein trifft es wohl am besten. Wir ...  \n",
      "19  Its a comfy quiet place not far from the city ...  \n",
      "20  Phenomenal Great location lovely flat and in t...  \n",
      "21             Had a great stay overall awesome host.  \n",
      "22  Sehr nettes kleines Zimmer mit Kchenzeile Dopp...  \n",
      "23  This have been a lovely week end in a lovely a...  \n",
      "24  My husband and I stayed in Lauras apartement f...  \n",
      "25  This place is incredible It is clean cozy quie...  \n",
      "26  Fajn apartman cca 1520min peso od centra velmi...  \n",
      "27  Nous avons pass un excellent sjour. Lapparteme...  \n",
      "28  Very nice place to stay in Amsterdam for reaso...  \n",
      "29  Lovely apartment for a couple looking for a ba...  \n",
      "30  Rick is very warm and lovely and his place has...  \n",
      "31  Egbert sent us lots of information before we a...  \n",
      "32  Great little studio in a fantastic quiet and g...  \n",
      "33  La duea de la casa  nos recibi calidamente y c...  \n",
      "34  Yannick and Floor are lovely hosts the apartme...  \n",
      "35                          .           .    .      .  \n",
      "36  We had a lot of help from Chen even before we ...  \n",
      "37  My son and i spent 5 nights in the apartment a...  \n",
      "38  Best location sweetests host and a great place...  \n",
      "39  Hi travelersWe have recently returned from our...  \n",
      "40  The host canceled this reservation 2 days befo...  \n",
      "41  Lhabitation correspond trs bien aux photos.Lap...  \n",
      "42  What an amazing space in a prime location with...  \n",
      "43  Melody and Andreas were the perfect hosts for ...  \n",
      "44                                            Perfect  \n",
      "45  Allys house is absolutely beautiful and in the...  \n",
      "46  Best airbnb Ive ever been Super stylish 3rd fl...  \n",
      "47              The host is very respectful and kind.  \n",
      "48  Wimie  stata una host molto gentile ci ha aspe...  \n",
      "49  Ctait un sjour des plus agrables  Arne a t plu...  \n"
     ]
    }
   ],
   "source": [
    "import csv\n",
    "# The first thing is to load the dataframe and check if it is correctly loaded.\n",
    "#csv_file_path= r'C:\\Users\\flavi\\PycharmProjects\\lda_test\\processed_data\\dataset.csv'\n",
    "#df_reviews_full = pd.read_csv(csv_file_path, delimiter=',', quotechar='\"', quoting=csv.QUOTE_MINIMAL)\n",
    "df_reviews_full = df_reviews_full.dropna()\n",
    "df_reviews_full = df_reviews_full.sort_values(by='listing_id')\n",
    "df_reviews_full = df_reviews_full.sample(frac=1).reset_index(drop = True)\n",
    "print(df_reviews_full.head(50))"
   ]
  },
  {
   "cell_type": "code",
   "execution_count": 329,
   "id": "5cb4881ba5bc6a2b",
   "metadata": {
    "ExecuteTime": {
     "end_time": "2024-06-23T21:40:15.410584Z",
     "start_time": "2024-06-23T21:40:15.406118Z"
    }
   },
   "outputs": [],
   "source": [
    "# imports to have a progress bar displayed\n",
    "from tqdm import tqdm\n",
    "from tqdm.auto import tqdm"
   ]
  },
  {
   "cell_type": "code",
   "execution_count": 330,
   "id": "4a2e571dd008438f",
   "metadata": {
    "ExecuteTime": {
     "end_time": "2024-06-24T04:43:10.716411Z",
     "start_time": "2024-06-23T21:40:16.213717Z"
    }
   },
   "outputs": [
    {
     "name": "stdout",
     "output_type": "stream",
     "text": [
      "340142\n",
      "Processing reviews...\n"
     ]
    },
    {
     "data": {
      "application/vnd.jupyter.widget-view+json": {
       "model_id": "7e059e926f08468eba37f95cdcd91983",
       "version_major": 2,
       "version_minor": 0
      },
      "text/plain": [
       "  0%|          | 0/340142 [00:00<?, ?it/s]"
      ]
     },
     "metadata": {},
     "output_type": "display_data"
    },
    {
     "name": "stdout",
     "output_type": "stream",
     "text": [
      "0         [[0.0, 0.0, 0.0, 0.0, 0.824761717888543, 0.0, ...\n",
      "1         [[0.0, 0.8248099216733732, 0.6900836368994313,...\n",
      "2         [[0.0, 0.0, 0.720797534597365, 0.4377783178327...\n",
      "3         [[0.0, 0.0, 0.0, 0.0, 0.8248885987743209, 0.92...\n",
      "4         [[0.9203379169222462, 0.0, 0.0, 0.537769587419...\n",
      "                                ...                        \n",
      "340137    [[0.0, 0.0, 0.0, 0.0, 0.8540444729774042, 0.56...\n",
      "340138    [[0.0, 0.0, 0.0, 0.0, 0.8248700250853411, 0.61...\n",
      "340139    [[0.0, 0.7810938519101118, 0.0, 0.0, 0.0, 0.0,...\n",
      "340140    [[0.7081212690757103, 0.9027136639122901, 0.45...\n",
      "340141    [[0.0, 0.0, 0.0, 0.0, 0.7081440664199876, 0.0,...\n",
      "Name: rev_matrix, Length: 340142, dtype: object\n"
     ]
    }
   ],
   "source": [
    "# The dataset is sorted on id now we add a column with the review matrix \n",
    "# Now we translate each review in a review matrix\n",
    "print(len(df_reviews_full))\n",
    "print('Processing reviews...')\n",
    "\n",
    "tqdm.pandas()\n",
    "\n",
    "df_reviews_full['rev_matrix'] = df_reviews_full['comments'].progress_apply(review_to_matrix_1,args=(LDA, vectorizer, sia))\n",
    "print(df_reviews_full['rev_matrix'])"
   ]
  },
  {
   "cell_type": "code",
   "execution_count": 1,
   "id": "1733e7707fee9cd5",
   "metadata": {
    "ExecuteTime": {
     "end_time": "2024-06-22T09:53:18.030967Z",
     "start_time": "2024-06-22T09:53:18.009398Z"
    }
   },
   "outputs": [
    {
     "ename": "NameError",
     "evalue": "name 'df_reviews_full' is not defined",
     "output_type": "error",
     "traceback": [
      "\u001b[1;31m---------------------------------------------------------------------------\u001b[0m",
      "\u001b[1;31mNameError\u001b[0m                                 Traceback (most recent call last)",
      "Cell \u001b[1;32mIn[1], line 2\u001b[0m\n\u001b[0;32m      1\u001b[0m \u001b[38;5;66;03m#save the output csv\u001b[39;00m\n\u001b[1;32m----> 2\u001b[0m \u001b[43mdf_reviews_full\u001b[49m\u001b[38;5;241m.\u001b[39mto_csv(\u001b[38;5;124mr\u001b[39m\u001b[38;5;124m'\u001b[39m\u001b[38;5;124mC:\u001b[39m\u001b[38;5;124m\\\u001b[39m\u001b[38;5;124mUsers\u001b[39m\u001b[38;5;124m\\\u001b[39m\u001b[38;5;124mflavi\u001b[39m\u001b[38;5;124m\\\u001b[39m\u001b[38;5;124mPycharmProjects\u001b[39m\u001b[38;5;124m\\\u001b[39m\u001b[38;5;124mlda_test\u001b[39m\u001b[38;5;124m\\\u001b[39m\u001b[38;5;124mprocessed_data\u001b[39m\u001b[38;5;124m\\\u001b[39m\u001b[38;5;124mdataset_with_rev_matrix.csv\u001b[39m\u001b[38;5;124m'\u001b[39m)\n",
      "\u001b[1;31mNameError\u001b[0m: name 'df_reviews_full' is not defined"
     ]
    }
   ],
   "source": [
    "#save the output csv\n",
    "df_reviews_full.to_csv(r'C:\\Users\\flavi\\PycharmProjects\\lda_test\\processed_data\\dataset_with_rev_matrix.csv')"
   ]
  },
  {
   "cell_type": "code",
   "execution_count": 331,
   "id": "87486dc0160ce846",
   "metadata": {
    "ExecuteTime": {
     "end_time": "2024-06-24T05:55:31.682699Z",
     "start_time": "2024-06-24T05:54:10.584512Z"
    }
   },
   "outputs": [
    {
     "data": {
      "application/vnd.jupyter.widget-view+json": {
       "model_id": "4f9a43b74f5c4901a3004cc6ccd01993",
       "version_major": 2,
       "version_minor": 0
      },
      "text/plain": [
       "  0%|          | 0/17040 [00:00<?, ?it/s]"
      ]
     },
     "metadata": {},
     "output_type": "display_data"
    },
    {
     "name": "stdout",
     "output_type": "stream",
     "text": [
      "   Unnamed: 0        id                                             name  \\\n",
      "0      119637   4349963                        Family house in Amsterdam   \n",
      "1      117835   4240895  Beautiful sunny apartment on a perfect location   \n",
      "2      217536  12451293     Hotel in the heart of Amsterdam, Single room   \n",
      "3      332990  26105238     Amsterdam Apartment With Nice Indoor Balcony   \n",
      "4      299322  19818979        lovely apartment close to Central Station   \n",
      "5      277905  17824002               Modern, luxury apt with canal view   \n",
      "6      149816   6332902                  Enjoy 17th Century Canal House!   \n",
      "7      227742  13262950       Spacious apartment with sunny roof terrace   \n",
      "8       44309    881384   Artists Studio in vivid Zeeburg (limited wifi)   \n",
      "9      268047  16700980      Great central apt for people who enjoy life   \n",
      "\n",
      "    latitude  longitude  price        host_name    host_id  listing_id  \\\n",
      "0  52.391936   4.934096  129.0           Gerard    4100544     4349963   \n",
      "1  52.380612   4.875953  150.0           Roelof   12072765     4240895   \n",
      "2  52.374682   4.898916   90.0        Feliciano   67005410    12451293   \n",
      "3  52.349996   4.862874  125.0            Shane  196217333    26105238   \n",
      "4  52.385827   4.913536  170.0            Linda  140022268    19818979   \n",
      "5  52.365115   4.874095  200.0  Adriaan Martijn  121865340    17824002   \n",
      "6  52.382837   4.887940  185.0               Ot    5093056     6332902   \n",
      "7  52.370096   4.856852  139.0           Ingrid   61401345    13262950   \n",
      "8  52.364851   4.937214   89.0        Alexander    3856517      881384   \n",
      "9  52.371685   4.930690   70.0       BnB Beheer   69971797    16700980   \n",
      "\n",
      "                                            comments  \\\n",
      "0  Hi Gerard \\nThanks for lend us your house, you...   \n",
      "1  I think I was so blessed to have found this pl...   \n",
      "2  Amazing location, and very welcoming. Very con...   \n",
      "3  This apartment is in a great neighborhood for ...   \n",
      "4  Linda is a nice host and her apartment is a pe...   \n",
      "5  Loved our stay here. Super clean and comfy spa...   \n",
      "6  House very beautifull. In the center of the ci...   \n",
      "7              Had a great stay here, great location   \n",
      "8  The apartment is really beautiful and cozy. It...   \n",
      "9  Check in was no problem and a quick tour was g...   \n",
      "\n",
      "                                          rev_matrix  \\\n",
      "0  [[0.0, 0.0, 0.0, 0.0, 0.824761717888543, 0.0, ...   \n",
      "1  [[0.0, 0.8248099216733732, 0.6900836368994313,...   \n",
      "2  [[0.0, 0.0, 0.720797534597365, 0.4377783178327...   \n",
      "3  [[0.0, 0.0, 0.0, 0.0, 0.8248885987743209, 0.92...   \n",
      "4  [[0.9203379169222462, 0.0, 0.0, 0.537769587419...   \n",
      "5  [[0.0, 0.0, 0.0, 0.4190118981353617, 0.8749034...   \n",
      "6  [[0.7082135407697511, 0.0, 0.0, 0.0, 0.0, 0.0,...   \n",
      "7  [[0.0, 0.0, 0.0, 0.0, 0.8249297945930262, 0.0,...   \n",
      "8  [[0.5569125411320491, 0.8748746384004354, 0.57...   \n",
      "9  [[0.0, 0.8248365603632791, 0.0, 0.854018480477...   \n",
      "\n",
      "                                      rev_matrix_avg  \n",
      "0  [[0.3458250709374549, 0.28876798651259367, 0.1...  \n",
      "1  [[0.07607932087890554, 0.5733613573358525, 0.2...  \n",
      "2  [[0.08568853505518714, 0.188860651860356, 0.14...  \n",
      "3  [[0.0, 0.2356732564296268, 0.0, 0.111593415085...  \n",
      "4  [[0.2975482796675867, 0.3037613650392546, 0.11...  \n",
      "5  [[0.08545641137659378, 0.19286667880079858, 0....  \n",
      "6  [[0.134959972918155, 0.13570913283417962, 0.42...  \n",
      "7  [[0.26400776444130997, 0.29537763640823345, 0....  \n",
      "8  [[0.29311458742472807, 0.42491604293537794, 0....  \n",
      "9  [[0.22468788372508008, 0.4542324037770235, 0.1...  \n"
     ]
    }
   ],
   "source": [
    "# Now we compute the average for each airbnb and save the result in a new dataframe\n",
    "tqdm.pandas()\n",
    "def calculate_avg_rev_matrix(x):\n",
    "    return np.mean(np.array(x.tolist()), axis=0)\n",
    "\n",
    "df_avg_reviews = df_reviews_full.groupby('id')['rev_matrix'].progress_apply(calculate_avg_rev_matrix)\n",
    "#print(df_avg_reviews.head(20))\n",
    "\n",
    "df_avg_reviews = df_reviews_full.merge(df_avg_reviews, on='id',suffixes=('','_avg'))\n",
    "\n",
    "#print(df_avg_reviews.head(20))\n",
    "\n",
    "df_avg_reviews['price'] = df_avg_reviews['price'].str.replace(r\"[\\$,]\", \"\", regex = True).astype(float)\n",
    "\n",
    "print(df_avg_reviews.head(10))\n",
    "\n",
    "df_avg_reviews.to_csv(r'C:\\Users\\flavi\\PycharmProjects\\lda_test\\processed_data\\dataset_with_avg_rev_matrix.csv')"
   ]
  },
  {
   "cell_type": "code",
   "execution_count": 332,
   "id": "a0ef91e2b97c7800",
   "metadata": {
    "ExecuteTime": {
     "end_time": "2024-06-24T05:55:32.980176Z",
     "start_time": "2024-06-24T05:55:31.684705Z"
    }
   },
   "outputs": [
    {
     "data": {
      "image/png": "[encoded data removed]",
      "text/plain": [
       "<Figure size 640x480 with 1 Axes>"
      ]
     },
     "metadata": {},
     "output_type": "display_data"
    },
    {
     "name": "stdout",
     "output_type": "stream",
     "text": [
      "8\n"
     ]
    }
   ],
   "source": [
    "# Now we want to decide how to bin the prices in order to decide how to best bin them\n",
    "import matplotlib.ticker as ticker\n",
    "\n",
    "price_counts = df_avg_reviews['price'].value_counts()\n",
    "price_counts = price_counts.sort_index()\n",
    "price_counts.plot(kind='bar')\n",
    "plt.title('Price Histogram')\n",
    "plt.xlabel('Prices')\n",
    "plt.ylabel('Price_occurrences')\n",
    "plt.tight_layout()\n",
    "plt.gca().xaxis.set_major_locator(ticker.MaxNLocator(nbins=15)) \n",
    "plt.show()\n",
    "print(price_counts.iloc[0])"
   ]
  },
  {
   "cell_type": "code",
   "execution_count": 239,
   "id": "d18f8fb5f0600572",
   "metadata": {
    "ExecuteTime": {
     "end_time": "2024-06-23T11:41:07.365939Z",
     "start_time": "2024-06-23T11:41:07.352824Z"
    }
   },
   "outputs": [
    {
     "name": "stdout",
     "output_type": "stream",
     "text": [
      "[   0.    8.   12.   23.   24.   25.   26.   28.   29.   30.   32.   33.\n",
      "   35.   36.   37.   38.   39.   40.   41.   42.   44.   45.   46.   47.\n",
      "   48.   49.   50.   51.   52.   53.   54.   55.   56.   57.   58.   59.\n",
      "   60.   61.   62.   63.   64.   65.   66.   67.   68.   69.   70.   71.\n",
      "   72.   73.   74.   75.   76.   77.   78.   79.   80.   81.   82.   83.\n",
      "   84.   85.   86.   87.   88.   89.   90.   91.   92.   93.   94.   95.\n",
      "   96.   97.   98.   99.  100.  101.  102.  103.  104.  105.  106.  107.\n",
      "  108.  109.  110.  111.  112.  113.  114.  115.  116.  117.  118.  119.\n",
      "  120.  121.  122.  123.  124.  125.  126.  127.  128.  129.  130.  131.\n",
      "  132.  133.  134.  135.  136.  137.  138.  139.  140.  141.  142.  143.\n",
      "  144.  145.  146.  147.  148.  149.  150.  151.  152.  153.  154.  155.\n",
      "  156.  157.  158.  159.  160.  161.  162.  163.  164.  165.  166.  167.\n",
      "  168.  169.  170.  171.  172.  173.  174.  175.  176.  177.  178.  179.\n",
      "  180.  181.  182.  183.  184.  185.  186.  187.  188.  189.  190.  191.\n",
      "  192.  193.  194.  195.  196.  197.  198.  199.  200.  201.  202.  203.\n",
      "  205.  207.  208.  209.  210.  211.  212.  213.  214.  215.  216.  217.\n",
      "  218.  219.  220.  221.  222.  223.  224.  225.  226.  227.  228.  229.\n",
      "  230.  232.  234.  235.  236.  238.  239.  240.  244.  245.  246.  247.\n",
      "  248.  249.  250.  251.  252.  254.  255.  258.  259.  260.  262.  263.\n",
      "  265.  266.  267.  269.  270.  273.  274.  275.  277.  279.  280.  284.\n",
      "  285.  287.  288.  289.  290.  291.  292.  295.  297.  298.  299.  300.\n",
      "  301.  303.  306.  307.  308.  310.  314.  315.  319.  320.  323.  325.\n",
      "  329.  330.  332.  333.  335.  336.  337.  339.  340.  343.  344.  345.\n",
      "  346.  348.  349.  350.  354.  355.  359.  360.  363.  369.  370.  375.\n",
      "  376.  377.  379.  380.  383.  385.  386.  389.  390.  395.  396.  397.\n",
      "  398.  399.  400.  405.  410.  418.  420.  425.  429.  430.  433.  440.\n",
      "  448.  449.  450.  453.  459.  460.  464.  468.  470.  475.  480.  490.\n",
      "  495.  498.  499.  500.  525.  540.  542.  545.  550.  555.  575.  595.\n",
      "  599.  600.  601.  615.  647.  650.  675.  680.  699.  700.  745.  750.\n",
      "  795.  800.  850.  900.  935.  999. 1000. 1095. 1600. 8000.]\n"
     ]
    }
   ],
   "source": [
    "prices = df_avg_reviews['price'].unique()\n",
    "prices.sort()\n",
    "print(prices)"
   ]
  },
  {
   "cell_type": "markdown",
   "id": "8a9992d8c8d54642",
   "metadata": {},
   "source": [
    "From this plot we are able to extract the bins. We have decided to hand-pick the bins in order to put a more 'human' touch on the price range choice.\n",
    "We also have discarded some absurdly high and absurdly low prices. This is done to remove the ifluence from misleading listings and listing-squatting"
   ]
  },
  {
   "cell_type": "code",
   "execution_count": 333,
   "id": "f87c7ace2badb275",
   "metadata": {
    "ExecuteTime": {
     "end_time": "2024-06-24T05:59:59.286328Z",
     "start_time": "2024-06-24T05:59:59.275854Z"
    }
   },
   "outputs": [
    {
     "name": "stdout",
     "output_type": "stream",
     "text": [
      "AFFORDABLE\n"
     ]
    }
   ],
   "source": [
    "# now we create a function that returns the bin tag given the price\n",
    "\n",
    "bin_tags_1 = ['EXTRA_CHEAP','CHEAP','AFFORDABLE','AVERAGE_PRICE','MID_HIGH','EXPENSIVE','EXTRA_EXPENSIVE','LUXURY']\n",
    "bin_intervals_1 = [(0,35),(35,55),(55,100),(100,150),(150,200),(200,300),(300,450),(450,3000)]\n",
    "\n",
    "bin_tags_2 = ['CHEAP','AFFORDABLE','MID','EXPENSIVE','LUXURY']\n",
    "\n",
    "bin_intervals_2 = [(0,75),(75,200),(200,300),(300,450),(450,3000)]\n",
    "bin_intervals_3 = [(0,50),(50,70),(70,80),(80,90),(90,95),(95,100),(100,110),(120,130),(130,140),(150,160),(160,170),(170,180),(180,190),(200,300),(300,450),(450,3000)]\n",
    "\n",
    "def price_to_bin_ID(price):\n",
    "    for i, (start, end) in enumerate(bin_intervals_2):\n",
    "        if start <= price < end:\n",
    "            return i\n",
    "    return -1\n",
    "\n",
    "print(bin_tags_2[price_to_bin_ID(90)])"
   ]
  },
  {
   "cell_type": "code",
   "execution_count": 334,
   "id": "dc0836781c6c392",
   "metadata": {
    "ExecuteTime": {
     "end_time": "2024-06-24T06:00:03.732736Z",
     "start_time": "2024-06-24T06:00:03.464491Z"
    }
   },
   "outputs": [
    {
     "name": "stdout",
     "output_type": "stream",
     "text": [
      "340142\n",
      "         id                                         rev_matrix  price_bin\n",
      "0   4349963  [[0.0, 0.0, 0.0, 0.0, 0.824761717888543, 0.0, ...          1\n",
      "1   4240895  [[0.0, 0.8248099216733732, 0.6900836368994313,...          1\n",
      "2  12451293  [[0.0, 0.0, 0.720797534597365, 0.4377783178327...          1\n",
      "3  26105238  [[0.0, 0.0, 0.0, 0.0, 0.8248885987743209, 0.92...          1\n",
      "4  19818979  [[0.9203379169222462, 0.0, 0.0, 0.537769587419...          1\n",
      "5  17824002  [[0.0, 0.0, 0.0, 0.4190118981353617, 0.8749034...          2\n",
      "6   6332902  [[0.7082135407697511, 0.0, 0.0, 0.0, 0.0, 0.0,...          1\n",
      "7  13262950  [[0.0, 0.0, 0.0, 0.0, 0.8249297945930262, 0.0,...          1\n",
      "8    881384  [[0.5569125411320491, 0.8748746384004354, 0.57...          1\n",
      "9  16700980  [[0.0, 0.8248365603632791, 0.0, 0.854018480477...          0\n",
      "340115\n"
     ]
    },
    {
     "name": "stderr",
     "output_type": "stream",
     "text": [
      "C:\\Users\\flavi\\AppData\\Local\\Temp\\ipykernel_24268\\799393400.py:7: SettingWithCopyWarning: \n",
      "A value is trying to be set on a copy of a slice from a DataFrame.\n",
      "Try using .loc[row_indexer,col_indexer] = value instead\n",
      "\n",
      "See the caveats in the documentation: https://pandas.pydata.org/pandas-docs/stable/user_guide/indexing.html#returning-a-view-versus-a-copy\n",
      "  df_cut['price_bin'] = df_cut['price'].apply(price_to_bin_ID)\n"
     ]
    }
   ],
   "source": [
    "# with the price bins defined now we proceed to start cutting the dataframe to prepare it for training\n",
    "\n",
    "useful_columns_1 = ['id','rev_matrix','price']\n",
    "df_cut = df_avg_reviews[useful_columns_1]\n",
    "#print(df_cut.head(10))\n",
    "print(df_cut.shape[0])\n",
    "df_cut['price_bin'] = df_cut['price'].apply(price_to_bin_ID)\n",
    "useful_columns_2 = ['id','rev_matrix','price_bin']\n",
    "df_cut = df_cut[useful_columns_2]\n",
    "df_cut = df_cut.loc[df_cut['price_bin']!=-1]\n",
    "\n",
    "print(df_cut.head(10))\n",
    "print(df_cut.shape[0])"
   ]
  },
  {
   "cell_type": "markdown",
   "id": "9e427262b2a4c93e",
   "metadata": {},
   "source": [
    "The next operation is to explode the matrix in the rev_matrix field. The matrix gets flattened by multiplying each value of the first row by the corresponding one in the second row. This is just one strategy to take in to account the weigh of the topic in each review. I could also just use the topic probabilities or the overall sentiment of each topic alone."
   ]
  },
  {
   "cell_type": "code",
   "execution_count": 335,
   "id": "2915a4d4d485e7bc",
   "metadata": {
    "ExecuteTime": {
     "end_time": "2024-06-24T06:00:07.517237Z",
     "start_time": "2024-06-24T06:00:07.511459Z"
    }
   },
   "outputs": [
    {
     "name": "stdout",
     "output_type": "stream",
     "text": [
      "Multiplication test: [ 1  4  9 16]\n"
     ]
    }
   ],
   "source": [
    "def multiply_rev_matrix(rev_matrix):\n",
    "    return np.multiply(rev_matrix[0],rev_matrix[1])\n",
    "\n",
    "print('Multiplication test:', multiply_rev_matrix(np.array([[1,2,3,4],[1,2,3,4]])))"
   ]
  },
  {
   "cell_type": "code",
   "execution_count": 336,
   "id": "14a5ae3445ec93c",
   "metadata": {
    "ExecuteTime": {
     "end_time": "2024-06-24T06:00:08.279609Z",
     "start_time": "2024-06-24T06:00:08.274897Z"
    }
   },
   "outputs": [],
   "source": [
    "def multiply_and_normalize(rev_matrix):\n",
    "    return np.multiply(rev_matrix[0],(rev_matrix[1]+1))"
   ]
  },
  {
   "cell_type": "code",
   "execution_count": 337,
   "id": "efe75fde34a648fe",
   "metadata": {
    "ExecuteTime": {
     "end_time": "2024-06-24T06:00:08.825404Z",
     "start_time": "2024-06-24T06:00:08.821187Z"
    }
   },
   "outputs": [],
   "source": [
    "def just_topic_scores(rev_matrix):\n",
    "    return rev_matrix[0]"
   ]
  },
  {
   "cell_type": "code",
   "execution_count": 338,
   "id": "9e5391e860e5c7eb",
   "metadata": {
    "ExecuteTime": {
     "end_time": "2024-06-24T06:00:09.993800Z",
     "start_time": "2024-06-24T06:00:09.989793Z"
    }
   },
   "outputs": [],
   "source": [
    "def just_sentiment(rev_matrix):\n",
    "    return rev_matrix[1]"
   ]
  },
  {
   "cell_type": "code",
   "execution_count": 339,
   "id": "b173657a811f31da",
   "metadata": {
    "ExecuteTime": {
     "end_time": "2024-06-24T06:00:15.321134Z",
     "start_time": "2024-06-24T06:00:12.070573Z"
    }
   },
   "outputs": [
    {
     "name": "stdout",
     "output_type": "stream",
     "text": [
      "0    [[0.0, 0.0, 0.0, 0.0, 0.824761717888543, 0.0, ...\n",
      "1    [[0.0, 0.8248099216733732, 0.6900836368994313,...\n",
      "2    [[0.0, 0.0, 0.720797534597365, 0.4377783178327...\n",
      "3    [[0.0, 0.0, 0.0, 0.0, 0.8248885987743209, 0.92...\n",
      "4    [[0.9203379169222462, 0.0, 0.0, 0.537769587419...\n",
      "5    [[0.0, 0.0, 0.0, 0.4190118981353617, 0.8749034...\n",
      "6    [[0.7082135407697511, 0.0, 0.0, 0.0, 0.0, 0.0,...\n",
      "7    [[0.0, 0.0, 0.0, 0.0, 0.8249297945930262, 0.0,...\n",
      "8    [[0.5569125411320491, 0.8748746384004354, 0.57...\n",
      "9    [[0.0, 0.8248365603632791, 0.0, 0.854018480477...\n",
      "Name: rev_matrix, dtype: object\n",
      "         id                                         rev_matrix  price_bin\n",
      "0   4349963  [0.0, 0.0, 0.0, 0.0, 1.1654295454624057, 0.0, ...          1\n",
      "1   4240895  [0.0, 0.9602712044761967, 0.8349666964664669, ...          1\n",
      "2  12451293  [0.0, 0.0, 0.720797534597365, 0.60597274754405...          1\n",
      "3  26105238  [0.0, 0.0, 0.0, 0.0, 0.9906499626980206, 1.293...          1\n",
      "4  19818979  [0.9203379169222462, 0.0, 0.0, 0.6915448009417...          1\n",
      "5  17824002  [0.0, 0.0, 0.0, 0.4190118981353617, 1.20962398...          2\n",
      "6   6332902  [0.7082135407697511, 0.0, 0.0, 0.0, 0.0, 0.0, ...          1\n",
      "7  13262950  [0.0, 0.0, 0.0, 0.0, 1.174741273990199, 0.0, 0...          1\n",
      "8    881384  [0.5569125411320491, 1.2351771769816813, 0.842...          1\n",
      "9  16700980  [0.0, 0.9905874671682801, 0.0, 0.5980691418784...          0\n",
      "          0         1         2         3         4         5         6  \\\n",
      "0  0.000000  0.000000  0.000000  0.000000  1.165430  0.000000  0.000000   \n",
      "1  0.000000  0.960271  0.834967  0.578748  0.602304  0.899617  0.802460   \n",
      "2  0.000000  0.000000  0.720798  0.605973  1.152521  0.000000  0.666877   \n",
      "3  0.000000  0.000000  0.000000  0.000000  0.990650  1.293472  0.000000   \n",
      "4  0.920338  0.000000  0.000000  0.691545  1.227562  0.000000  0.000000   \n",
      "5  0.000000  0.000000  0.000000  0.419012  1.209624  0.755664  0.000000   \n",
      "6  0.708214  0.000000  0.000000  0.000000  0.000000  0.000000  0.000000   \n",
      "7  0.000000  0.000000  0.000000  0.000000  1.174741  0.000000  0.000000   \n",
      "8  0.556913  1.235177  0.842394  0.000000  1.087536  0.000000  0.000000   \n",
      "9  0.000000  0.990587  0.000000  0.598069  0.695023  0.902676  0.000000   \n",
      "\n",
      "          7  \n",
      "0  1.280742  \n",
      "1  0.000000  \n",
      "2  0.000000  \n",
      "3  0.706600  \n",
      "4  0.000000  \n",
      "5  0.000000  \n",
      "6  0.846287  \n",
      "7  0.000000  \n",
      "8  0.000000  \n",
      "9  0.000000  \n",
      "         id  price_bin      Ts_0      Ts_1      Ts_2      Ts_3      Ts_4  \\\n",
      "0   4349963          1  0.000000  0.000000  0.000000  0.000000  1.165430   \n",
      "1   4240895          1  0.000000  0.960271  0.834967  0.578748  0.602304   \n",
      "2  12451293          1  0.000000  0.000000  0.720798  0.605973  1.152521   \n",
      "3  26105238          1  0.000000  0.000000  0.000000  0.000000  0.990650   \n",
      "4  19818979          1  0.920338  0.000000  0.000000  0.691545  1.227562   \n",
      "5  17824002          2  0.000000  0.000000  0.000000  0.419012  1.209624   \n",
      "6   6332902          1  0.708214  0.000000  0.000000  0.000000  0.000000   \n",
      "7  13262950          1  0.000000  0.000000  0.000000  0.000000  1.174741   \n",
      "8    881384          1  0.556913  1.235177  0.842394  0.000000  1.087536   \n",
      "9  16700980          0  0.000000  0.990587  0.000000  0.598069  0.695023   \n",
      "\n",
      "       Ts_5      Ts_6      Ts_7  \n",
      "0  0.000000  0.000000  1.280742  \n",
      "1  0.899617  0.802460  0.000000  \n",
      "2  0.000000  0.666877  0.000000  \n",
      "3  1.293472  0.000000  0.706600  \n",
      "4  0.000000  0.000000  0.000000  \n",
      "5  0.755664  0.000000  0.000000  \n",
      "6  0.000000  0.000000  0.846287  \n",
      "7  0.000000  0.000000  0.000000  \n",
      "8  0.000000  0.000000  0.000000  \n",
      "9  0.902676  0.000000  0.000000  \n"
     ]
    }
   ],
   "source": [
    "#print(df_cut.head(10))\n",
    "print(df_cut['rev_matrix'].head(10))\n",
    "#df_cut['rev_matrix'] = df_cut['rev_matrix'].apply(multiply_rev_matrix)\n",
    "#df_cut['rev_matrix'] = df_cut['rev_matrix'].apply(just_sentiment)\n",
    "#df_cut['rev_matrix'] = df_cut['rev_matrix'].apply(just_topic_scores)\n",
    "df_cut['rev_matrix'] = df_cut['rev_matrix'].apply(multiply_and_normalize)\n",
    "print(df_cut.head(10))\n",
    "\n",
    "scores_df = pd.DataFrame(df_cut['rev_matrix'].tolist(),index=df_cut.index)\n",
    "print(scores_df.head(10))\n",
    "\n",
    "scores_df.columns = ['Ts_0','Ts_1','Ts_2','Ts_3','Ts_4','Ts_5','Ts_6','Ts_7']\n",
    "df_cut = pd.concat([df_cut.drop(columns = ['rev_matrix']),scores_df], axis=1)\n",
    "df_cut.to_csv(r'C:\\Users\\flavi\\PycharmProjects\\lda_test\\processed_data\\dataset_for_training.csv')\n",
    "zeros = (df_cut == 0.0).all(axis=1)\n",
    "df_cut = df_cut[~zeros]\n",
    "zeros = df_cut.eq(0.0).any(axis = 1)\n",
    "#df_cut = df_cut[~zeros]\n",
    "print(df_cut.head(10))"
   ]
  },
  {
   "cell_type": "code",
   "execution_count": 340,
   "id": "46a86b9ad4a7ad6c",
   "metadata": {
    "ExecuteTime": {
     "end_time": "2024-06-24T06:00:17.939802Z",
     "start_time": "2024-06-24T06:00:17.928359Z"
    }
   },
   "outputs": [
    {
     "name": "stdout",
     "output_type": "stream",
     "text": [
      "         id  price_bin      Ts_0      Ts_1      Ts_2      Ts_3      Ts_4  \\\n",
      "0   4349963          1  0.000000  0.000000  0.000000  0.000000  1.165430   \n",
      "1   4240895          1  0.000000  0.960271  0.834967  0.578748  0.602304   \n",
      "2  12451293          1  0.000000  0.000000  0.720798  0.605973  1.152521   \n",
      "3  26105238          1  0.000000  0.000000  0.000000  0.000000  0.990650   \n",
      "4  19818979          1  0.920338  0.000000  0.000000  0.691545  1.227562   \n",
      "5  17824002          2  0.000000  0.000000  0.000000  0.419012  1.209624   \n",
      "6   6332902          1  0.708214  0.000000  0.000000  0.000000  0.000000   \n",
      "7  13262950          1  0.000000  0.000000  0.000000  0.000000  1.174741   \n",
      "8    881384          1  0.556913  1.235177  0.842394  0.000000  1.087536   \n",
      "9  16700980          0  0.000000  0.990587  0.000000  0.598069  0.695023   \n",
      "\n",
      "       Ts_5      Ts_6      Ts_7  \n",
      "0  0.000000  0.000000  1.280742  \n",
      "1  0.899617  0.802460  0.000000  \n",
      "2  0.000000  0.666877  0.000000  \n",
      "3  1.293472  0.000000  0.706600  \n",
      "4  0.000000  0.000000  0.000000  \n",
      "5  0.755664  0.000000  0.000000  \n",
      "6  0.000000  0.000000  0.846287  \n",
      "7  0.000000  0.000000  0.000000  \n",
      "8  0.000000  0.000000  0.000000  \n",
      "9  0.902676  0.000000  0.000000  \n",
      "340115\n"
     ]
    }
   ],
   "source": [
    "print(df_cut.head(10))\n",
    "print(df_cut.shape[0])"
   ]
  },
  {
   "cell_type": "markdown",
   "id": "2c4448b21f0188b3",
   "metadata": {},
   "source": [
    "Now we could try different techniques to fit the model I am splitting the dataset with a 80, 20 configuration"
   ]
  },
  {
   "cell_type": "code",
   "execution_count": 341,
   "id": "e146e4c1115a9a95",
   "metadata": {
    "ExecuteTime": {
     "end_time": "2024-06-24T06:00:19.890464Z",
     "start_time": "2024-06-24T06:00:19.788824Z"
    }
   },
   "outputs": [
    {
     "name": "stdout",
     "output_type": "stream",
     "text": [
      "[[0.95925323 0.         1.20924276 ... 0.         0.53602229 1.37511887]\n",
      " [0.         0.         0.         ... 0.         0.         0.        ]\n",
      " [0.         0.         0.         ... 1.0664071  0.         0.        ]\n",
      " ...\n",
      " [0.78495832 0.         0.         ... 0.         0.71570476 0.        ]\n",
      " [0.         0.         0.70776306 ... 0.62261382 0.82473786 0.93340562]\n",
      " [0.70624305 0.         0.         ... 0.         0.         0.        ]]\n",
      "[1 1 1 ... 0 1 1]\n"
     ]
    }
   ],
   "source": [
    "Train_80 = df_cut.sample(frac = 0.8)\n",
    "Xt_df = Train_80[['Ts_0','Ts_1','Ts_2','Ts_3','Ts_4','Ts_5','Ts_6','Ts_7']]\n",
    "Xt = Xt_df.to_numpy()\n",
    "Yt = Train_80['price_bin'].to_numpy()\n",
    "print(Xt)\n",
    "print(Yt)\n",
    "Test_20 = df_cut.drop(Train_80.index)\n",
    "Xtest = Test_20[['Ts_0','Ts_1','Ts_2','Ts_3','Ts_4','Ts_5','Ts_6','Ts_7']].to_numpy()\n",
    "Ytest = Test_20['price_bin'].to_numpy()"
   ]
  },
  {
   "cell_type": "code",
   "execution_count": 342,
   "id": "c8b85918cea01ddf",
   "metadata": {
    "ExecuteTime": {
     "end_time": "2024-06-24T06:00:22.573292Z",
     "start_time": "2024-06-24T06:00:20.919715Z"
    }
   },
   "outputs": [
    {
     "name": "stdout",
     "output_type": "stream",
     "text": [
      "  Feature       VIF\n",
      "0    Ts_0  1.359688\n",
      "1    Ts_1  1.347015\n",
      "2    Ts_2  1.384571\n",
      "3    Ts_3  1.352921\n",
      "4    Ts_4  1.922917\n",
      "5    Ts_5  1.471732\n",
      "6    Ts_6  1.382493\n",
      "7    Ts_7  1.442757\n"
     ]
    },
    {
     "data": {
      "image/png": "[encoded data removed]",
      "text/plain": [
       "<Figure size 1000x1000 with 4 Axes>"
      ]
     },
     "metadata": {},
     "output_type": "display_data"
    }
   ],
   "source": [
    "#investigating the correlation\n",
    "from statsmodels.stats.outliers_influence import variance_inflation_factor\n",
    "import seaborn as sns\n",
    "\n",
    "sns_plot = sns.clustermap(Xt_df.corr(), cmap=\"rocket_r\")\n",
    "vif_data = pd.DataFrame()\n",
    "vif_data[\"Feature\"] = Xt_df.columns\n",
    "vif_data[\"VIF\"] = [variance_inflation_factor(Xt_df.values, i) for i in range(len(Xt_df.columns))]\n",
    "\n",
    "print(vif_data)"
   ]
  },
  {
   "cell_type": "markdown",
   "id": "822a0a6a00cb065d",
   "metadata": {},
   "source": [
    "Let's try with randoom forest! "
   ]
  },
  {
   "cell_type": "code",
   "execution_count": 343,
   "id": "4a03f01603098742",
   "metadata": {
    "ExecuteTime": {
     "end_time": "2024-06-24T06:00:32.271460Z",
     "start_time": "2024-06-24T06:00:28.220380Z"
    }
   },
   "outputs": [
    {
     "name": "stdout",
     "output_type": "stream",
     "text": [
      "[[ 2.07841093 -0.86318233  2.41561299 ... -0.70666653  0.79691086\n",
      "   2.30444794]\n",
      " [-0.59197879 -0.86318233 -0.55836687 ... -0.70666653 -0.56599225\n",
      "  -0.72139324]\n",
      " [-0.59197879 -0.86318233 -0.55836687 ...  1.58536417 -0.56599225\n",
      "  -0.72139324]\n",
      " ...\n",
      " [ 1.59320501 -0.86318233 -0.55836687 ... -0.70666653  1.25377579\n",
      "  -0.72139324]\n",
      " [-0.59197879 -0.86318233  1.18228701 ...  0.63151848  1.53100598\n",
      "   1.33249258]\n",
      " [ 1.37407576 -0.86318233 -0.55836687 ... -0.70666653 -0.56599225\n",
      "  -0.72139324]]\n",
      "[[ 0.93688132  1.38812663 -0.55537009 ...  1.68847063  1.61948688\n",
      "  -0.72003766]\n",
      " [-0.58968367  0.86051148 -0.55537009 ... -0.00854794 -0.56291402\n",
      "  -0.72003766]\n",
      " [-0.58968367 -0.85827304 -0.55537009 ... -0.7041813  -0.56291402\n",
      "  -0.72003766]\n",
      " ...\n",
      " [-0.58968367  1.78918037 -0.55537009 ... -0.7041813   1.22366721\n",
      "  -0.72003766]\n",
      " [-0.58968367 -0.85827304 -0.55537009 ... -0.7041813  -0.56291402\n",
      "   0.21637537]\n",
      " [ 1.38087007  1.43673602  0.57875647 ... -0.7041813  -0.56291402\n",
      "   1.28759139]]\n",
      "Number of training samples:  272092\n"
     ]
    },
    {
     "data": {
      "text/html": [
       "<style>#sk-container-id-27 {\n",
       "  /* Definition of color scheme common for light and dark mode */\n",
       "  --sklearn-color-text: black;\n",
       "  --sklearn-color-line: gray;\n",
       "  /* Definition of color scheme for unfitted estimators */\n",
       "  --sklearn-color-unfitted-level-0: #fff5e6;\n",
       "  --sklearn-color-unfitted-level-1: #f6e4d2;\n",
       "  --sklearn-color-unfitted-level-2: #ffe0b3;\n",
       "  --sklearn-color-unfitted-level-3: chocolate;\n",
       "  /* Definition of color scheme for fitted estimators */\n",
       "  --sklearn-color-fitted-level-0: #f0f8ff;\n",
       "  --sklearn-color-fitted-level-1: #d4ebff;\n",
       "  --sklearn-color-fitted-level-2: #b3dbfd;\n",
       "  --sklearn-color-fitted-level-3: cornflowerblue;\n",
       "\n",
       "  /* Specific color for light theme */\n",
       "  --sklearn-color-text-on-default-background: var(--sg-text-color, var(--theme-code-foreground, var(--jp-content-font-color1, black)));\n",
       "  --sklearn-color-background: var(--sg-background-color, var(--theme-background, var(--jp-layout-color0, white)));\n",
       "  --sklearn-color-border-box: var(--sg-text-color, var(--theme-code-foreground, var(--jp-content-font-color1, black)));\n",
       "  --sklearn-color-icon: #696969;\n",
       "\n",
       "  @media (prefers-color-scheme: dark) {\n",
       "    /* Redefinition of color scheme for dark theme */\n",
       "    --sklearn-color-text-on-default-background: var(--sg-text-color, var(--theme-code-foreground, var(--jp-content-font-color1, white)));\n",
       "    --sklearn-color-background: var(--sg-background-color, var(--theme-background, var(--jp-layout-color0, #111)));\n",
       "    --sklearn-color-border-box: var(--sg-text-color, var(--theme-code-foreground, var(--jp-content-font-color1, white)));\n",
       "    --sklearn-color-icon: #878787;\n",
       "  }\n",
       "}\n",
       "\n",
       "#sk-container-id-27 {\n",
       "  color: var(--sklearn-color-text);\n",
       "}\n",
       "\n",
       "#sk-container-id-27 pre {\n",
       "  padding: 0;\n",
       "}\n",
       "\n",
       "#sk-container-id-27 input.sk-hidden--visually {\n",
       "  border: 0;\n",
       "  clip: rect(1px 1px 1px 1px);\n",
       "  clip: rect(1px, 1px, 1px, 1px);\n",
       "  height: 1px;\n",
       "  margin: -1px;\n",
       "  overflow: hidden;\n",
       "  padding: 0;\n",
       "  position: absolute;\n",
       "  width: 1px;\n",
       "}\n",
       "\n",
       "#sk-container-id-27 div.sk-dashed-wrapped {\n",
       "  border: 1px dashed var(--sklearn-color-line);\n",
       "  margin: 0 0.4em 0.5em 0.4em;\n",
       "  box-sizing: border-box;\n",
       "  padding-bottom: 0.4em;\n",
       "  background-color: var(--sklearn-color-background);\n",
       "}\n",
       "\n",
       "#sk-container-id-27 div.sk-container {\n",
       "  /* jupyter's `normalize.less` sets `[hidden] { display: none; }`\n",
       "     but bootstrap.min.css set `[hidden] { display: none !important; }`\n",
       "     so we also need the `!important` here to be able to override the\n",
       "     default hidden behavior on the sphinx rendered scikit-learn.org.\n",
       "     See: https://github.com/scikit-learn/scikit-learn/issues/21755 */\n",
       "  display: inline-block !important;\n",
       "  position: relative;\n",
       "}\n",
       "\n",
       "#sk-container-id-27 div.sk-text-repr-fallback {\n",
       "  display: none;\n",
       "}\n",
       "\n",
       "div.sk-parallel-item,\n",
       "div.sk-serial,\n",
       "div.sk-item {\n",
       "  /* draw centered vertical line to link estimators */\n",
       "  background-image: linear-gradient(var(--sklearn-color-text-on-default-background), var(--sklearn-color-text-on-default-background));\n",
       "  background-size: 2px 100%;\n",
       "  background-repeat: no-repeat;\n",
       "  background-position: center center;\n",
       "}\n",
       "\n",
       "/* Parallel-specific style estimator block */\n",
       "\n",
       "#sk-container-id-27 div.sk-parallel-item::after {\n",
       "  content: \"\";\n",
       "  width: 100%;\n",
       "  border-bottom: 2px solid var(--sklearn-color-text-on-default-background);\n",
       "  flex-grow: 1;\n",
       "}\n",
       "\n",
       "#sk-container-id-27 div.sk-parallel {\n",
       "  display: flex;\n",
       "  align-items: stretch;\n",
       "  justify-content: center;\n",
       "  background-color: var(--sklearn-color-background);\n",
       "  position: relative;\n",
       "}\n",
       "\n",
       "#sk-container-id-27 div.sk-parallel-item {\n",
       "  display: flex;\n",
       "  flex-direction: column;\n",
       "}\n",
       "\n",
       "#sk-container-id-27 div.sk-parallel-item:first-child::after {\n",
       "  align-self: flex-end;\n",
       "  width: 50%;\n",
       "}\n",
       "\n",
       "#sk-container-id-27 div.sk-parallel-item:last-child::after {\n",
       "  align-self: flex-start;\n",
       "  width: 50%;\n",
       "}\n",
       "\n",
       "#sk-container-id-27 div.sk-parallel-item:only-child::after {\n",
       "  width: 0;\n",
       "}\n",
       "\n",
       "/* Serial-specific style estimator block */\n",
       "\n",
       "#sk-container-id-27 div.sk-serial {\n",
       "  display: flex;\n",
       "  flex-direction: column;\n",
       "  align-items: center;\n",
       "  background-color: var(--sklearn-color-background);\n",
       "  padding-right: 1em;\n",
       "  padding-left: 1em;\n",
       "}\n",
       "\n",
       "\n",
       "/* Toggleable style: style used for estimator/Pipeline/ColumnTransformer box that is\n",
       "clickable and can be expanded/collapsed.\n",
       "- Pipeline and ColumnTransformer use this feature and define the default style\n",
       "- Estimators will overwrite some part of the style using the `sk-estimator` class\n",
       "*/\n",
       "\n",
       "/* Pipeline and ColumnTransformer style (default) */\n",
       "\n",
       "#sk-container-id-27 div.sk-toggleable {\n",
       "  /* Default theme specific background. It is overwritten whether we have a\n",
       "  specific estimator or a Pipeline/ColumnTransformer */\n",
       "  background-color: var(--sklearn-color-background);\n",
       "}\n",
       "\n",
       "/* Toggleable label */\n",
       "#sk-container-id-27 label.sk-toggleable__label {\n",
       "  cursor: pointer;\n",
       "  display: block;\n",
       "  width: 100%;\n",
       "  margin-bottom: 0;\n",
       "  padding: 0.5em;\n",
       "  box-sizing: border-box;\n",
       "  text-align: center;\n",
       "}\n",
       "\n",
       "#sk-container-id-27 label.sk-toggleable__label-arrow:before {\n",
       "  /* Arrow on the left of the label */\n",
       "  content: \"▸\";\n",
       "  float: left;\n",
       "  margin-right: 0.25em;\n",
       "  color: var(--sklearn-color-icon);\n",
       "}\n",
       "\n",
       "#sk-container-id-27 label.sk-toggleable__label-arrow:hover:before {\n",
       "  color: var(--sklearn-color-text);\n",
       "}\n",
       "\n",
       "/* Toggleable content - dropdown */\n",
       "\n",
       "#sk-container-id-27 div.sk-toggleable__content {\n",
       "  max-height: 0;\n",
       "  max-width: 0;\n",
       "  overflow: hidden;\n",
       "  text-align: left;\n",
       "  /* unfitted */\n",
       "  background-color: var(--sklearn-color-unfitted-level-0);\n",
       "}\n",
       "\n",
       "#sk-container-id-27 div.sk-toggleable__content.fitted {\n",
       "  /* fitted */\n",
       "  background-color: var(--sklearn-color-fitted-level-0);\n",
       "}\n",
       "\n",
       "#sk-container-id-27 div.sk-toggleable__content pre {\n",
       "  margin: 0.2em;\n",
       "  border-radius: 0.25em;\n",
       "  color: var(--sklearn-color-text);\n",
       "  /* unfitted */\n",
       "  background-color: var(--sklearn-color-unfitted-level-0);\n",
       "}\n",
       "\n",
       "#sk-container-id-27 div.sk-toggleable__content.fitted pre {\n",
       "  /* unfitted */\n",
       "  background-color: var(--sklearn-color-fitted-level-0);\n",
       "}\n",
       "\n",
       "#sk-container-id-27 input.sk-toggleable__control:checked~div.sk-toggleable__content {\n",
       "  /* Expand drop-down */\n",
       "  max-height: 200px;\n",
       "  max-width: 100%;\n",
       "  overflow: auto;\n",
       "}\n",
       "\n",
       "#sk-container-id-27 input.sk-toggleable__control:checked~label.sk-toggleable__label-arrow:before {\n",
       "  content: \"▾\";\n",
       "}\n",
       "\n",
       "/* Pipeline/ColumnTransformer-specific style */\n",
       "\n",
       "#sk-container-id-27 div.sk-label input.sk-toggleable__control:checked~label.sk-toggleable__label {\n",
       "  color: var(--sklearn-color-text);\n",
       "  background-color: var(--sklearn-color-unfitted-level-2);\n",
       "}\n",
       "\n",
       "#sk-container-id-27 div.sk-label.fitted input.sk-toggleable__control:checked~label.sk-toggleable__label {\n",
       "  background-color: var(--sklearn-color-fitted-level-2);\n",
       "}\n",
       "\n",
       "/* Estimator-specific style */\n",
       "\n",
       "/* Colorize estimator box */\n",
       "#sk-container-id-27 div.sk-estimator input.sk-toggleable__control:checked~label.sk-toggleable__label {\n",
       "  /* unfitted */\n",
       "  background-color: var(--sklearn-color-unfitted-level-2);\n",
       "}\n",
       "\n",
       "#sk-container-id-27 div.sk-estimator.fitted input.sk-toggleable__control:checked~label.sk-toggleable__label {\n",
       "  /* fitted */\n",
       "  background-color: var(--sklearn-color-fitted-level-2);\n",
       "}\n",
       "\n",
       "#sk-container-id-27 div.sk-label label.sk-toggleable__label,\n",
       "#sk-container-id-27 div.sk-label label {\n",
       "  /* The background is the default theme color */\n",
       "  color: var(--sklearn-color-text-on-default-background);\n",
       "}\n",
       "\n",
       "/* On hover, darken the color of the background */\n",
       "#sk-container-id-27 div.sk-label:hover label.sk-toggleable__label {\n",
       "  color: var(--sklearn-color-text);\n",
       "  background-color: var(--sklearn-color-unfitted-level-2);\n",
       "}\n",
       "\n",
       "/* Label box, darken color on hover, fitted */\n",
       "#sk-container-id-27 div.sk-label.fitted:hover label.sk-toggleable__label.fitted {\n",
       "  color: var(--sklearn-color-text);\n",
       "  background-color: var(--sklearn-color-fitted-level-2);\n",
       "}\n",
       "\n",
       "/* Estimator label */\n",
       "\n",
       "#sk-container-id-27 div.sk-label label {\n",
       "  font-family: monospace;\n",
       "  font-weight: bold;\n",
       "  display: inline-block;\n",
       "  line-height: 1.2em;\n",
       "}\n",
       "\n",
       "#sk-container-id-27 div.sk-label-container {\n",
       "  text-align: center;\n",
       "}\n",
       "\n",
       "/* Estimator-specific */\n",
       "#sk-container-id-27 div.sk-estimator {\n",
       "  font-family: monospace;\n",
       "  border: 1px dotted var(--sklearn-color-border-box);\n",
       "  border-radius: 0.25em;\n",
       "  box-sizing: border-box;\n",
       "  margin-bottom: 0.5em;\n",
       "  /* unfitted */\n",
       "  background-color: var(--sklearn-color-unfitted-level-0);\n",
       "}\n",
       "\n",
       "#sk-container-id-27 div.sk-estimator.fitted {\n",
       "  /* fitted */\n",
       "  background-color: var(--sklearn-color-fitted-level-0);\n",
       "}\n",
       "\n",
       "/* on hover */\n",
       "#sk-container-id-27 div.sk-estimator:hover {\n",
       "  /* unfitted */\n",
       "  background-color: var(--sklearn-color-unfitted-level-2);\n",
       "}\n",
       "\n",
       "#sk-container-id-27 div.sk-estimator.fitted:hover {\n",
       "  /* fitted */\n",
       "  background-color: var(--sklearn-color-fitted-level-2);\n",
       "}\n",
       "\n",
       "/* Specification for estimator info (e.g. \"i\" and \"?\") */\n",
       "\n",
       "/* Common style for \"i\" and \"?\" */\n",
       "\n",
       ".sk-estimator-doc-link,\n",
       "a:link.sk-estimator-doc-link,\n",
       "a:visited.sk-estimator-doc-link {\n",
       "  float: right;\n",
       "  font-size: smaller;\n",
       "  line-height: 1em;\n",
       "  font-family: monospace;\n",
       "  background-color: var(--sklearn-color-background);\n",
       "  border-radius: 1em;\n",
       "  height: 1em;\n",
       "  width: 1em;\n",
       "  text-decoration: none !important;\n",
       "  margin-left: 1ex;\n",
       "  /* unfitted */\n",
       "  border: var(--sklearn-color-unfitted-level-1) 1pt solid;\n",
       "  color: var(--sklearn-color-unfitted-level-1);\n",
       "}\n",
       "\n",
       ".sk-estimator-doc-link.fitted,\n",
       "a:link.sk-estimator-doc-link.fitted,\n",
       "a:visited.sk-estimator-doc-link.fitted {\n",
       "  /* fitted */\n",
       "  border: var(--sklearn-color-fitted-level-1) 1pt solid;\n",
       "  color: var(--sklearn-color-fitted-level-1);\n",
       "}\n",
       "\n",
       "/* On hover */\n",
       "div.sk-estimator:hover .sk-estimator-doc-link:hover,\n",
       ".sk-estimator-doc-link:hover,\n",
       "div.sk-label-container:hover .sk-estimator-doc-link:hover,\n",
       ".sk-estimator-doc-link:hover {\n",
       "  /* unfitted */\n",
       "  background-color: var(--sklearn-color-unfitted-level-3);\n",
       "  color: var(--sklearn-color-background);\n",
       "  text-decoration: none;\n",
       "}\n",
       "\n",
       "div.sk-estimator.fitted:hover .sk-estimator-doc-link.fitted:hover,\n",
       ".sk-estimator-doc-link.fitted:hover,\n",
       "div.sk-label-container:hover .sk-estimator-doc-link.fitted:hover,\n",
       ".sk-estimator-doc-link.fitted:hover {\n",
       "  /* fitted */\n",
       "  background-color: var(--sklearn-color-fitted-level-3);\n",
       "  color: var(--sklearn-color-background);\n",
       "  text-decoration: none;\n",
       "}\n",
       "\n",
       "/* Span, style for the box shown on hovering the info icon */\n",
       ".sk-estimator-doc-link span {\n",
       "  display: none;\n",
       "  z-index: 9999;\n",
       "  position: relative;\n",
       "  font-weight: normal;\n",
       "  right: .2ex;\n",
       "  padding: .5ex;\n",
       "  margin: .5ex;\n",
       "  width: min-content;\n",
       "  min-width: 20ex;\n",
       "  max-width: 50ex;\n",
       "  color: var(--sklearn-color-text);\n",
       "  box-shadow: 2pt 2pt 4pt #999;\n",
       "  /* unfitted */\n",
       "  background: var(--sklearn-color-unfitted-level-0);\n",
       "  border: .5pt solid var(--sklearn-color-unfitted-level-3);\n",
       "}\n",
       "\n",
       ".sk-estimator-doc-link.fitted span {\n",
       "  /* fitted */\n",
       "  background: var(--sklearn-color-fitted-level-0);\n",
       "  border: var(--sklearn-color-fitted-level-3);\n",
       "}\n",
       "\n",
       ".sk-estimator-doc-link:hover span {\n",
       "  display: block;\n",
       "}\n",
       "\n",
       "/* \"?\"-specific style due to the `<a>` HTML tag */\n",
       "\n",
       "#sk-container-id-27 a.estimator_doc_link {\n",
       "  float: right;\n",
       "  font-size: 1rem;\n",
       "  line-height: 1em;\n",
       "  font-family: monospace;\n",
       "  background-color: var(--sklearn-color-background);\n",
       "  border-radius: 1rem;\n",
       "  height: 1rem;\n",
       "  width: 1rem;\n",
       "  text-decoration: none;\n",
       "  /* unfitted */\n",
       "  color: var(--sklearn-color-unfitted-level-1);\n",
       "  border: var(--sklearn-color-unfitted-level-1) 1pt solid;\n",
       "}\n",
       "\n",
       "#sk-container-id-27 a.estimator_doc_link.fitted {\n",
       "  /* fitted */\n",
       "  border: var(--sklearn-color-fitted-level-1) 1pt solid;\n",
       "  color: var(--sklearn-color-fitted-level-1);\n",
       "}\n",
       "\n",
       "/* On hover */\n",
       "#sk-container-id-27 a.estimator_doc_link:hover {\n",
       "  /* unfitted */\n",
       "  background-color: var(--sklearn-color-unfitted-level-3);\n",
       "  color: var(--sklearn-color-background);\n",
       "  text-decoration: none;\n",
       "}\n",
       "\n",
       "#sk-container-id-27 a.estimator_doc_link.fitted:hover {\n",
       "  /* fitted */\n",
       "  background-color: var(--sklearn-color-fitted-level-3);\n",
       "}\n",
       "</style><div id=\"sk-container-id-27\" class=\"sk-top-container\"><div class=\"sk-text-repr-fallback\"><pre>RandomForestClassifier(n_estimators=30, n_jobs=-1, random_state=42)</pre><b>In a Jupyter environment, please rerun this cell to show the HTML representation or trust the notebook. <br />On GitHub, the HTML representation is unable to render, please try loading this page with nbviewer.org.</b></div><div class=\"sk-container\" hidden><div class=\"sk-item\"><div class=\"sk-estimator fitted sk-toggleable\"><input class=\"sk-toggleable__control sk-hidden--visually\" id=\"sk-estimator-id-27\" type=\"checkbox\" checked><label for=\"sk-estimator-id-27\" class=\"sk-toggleable__label fitted sk-toggleable__label-arrow fitted\">&nbsp;&nbsp;RandomForestClassifier<a class=\"sk-estimator-doc-link fitted\" rel=\"noreferrer\" target=\"_blank\" href=\"https://scikit-learn.org/1.5/modules/generated/sklearn.ensemble.RandomForestClassifier.html\">?<span>Documentation for RandomForestClassifier</span></a><span class=\"sk-estimator-doc-link fitted\">i<span>Fitted</span></span></label><div class=\"sk-toggleable__content fitted\"><pre>RandomForestClassifier(n_estimators=30, n_jobs=-1, random_state=42)</pre></div> </div></div></div></div>"
      ],
      "text/plain": [
       "RandomForestClassifier(n_estimators=30, n_jobs=-1, random_state=42)"
      ]
     },
     "execution_count": 343,
     "metadata": {},
     "output_type": "execute_result"
    }
   ],
   "source": [
    "from sklearn.datasets import load_iris\n",
    "from sklearn.model_selection import train_test_split\n",
    "from sklearn.ensemble import RandomForestClassifier\n",
    "from sklearn.metrics import accuracy_score, classification_report\n",
    "from sklearn.preprocessing import StandardScaler\n",
    "from sklearn.preprocessing import MaxAbsScaler\n",
    "\n",
    "scaler = StandardScaler()\n",
    "Xt = scaler.fit_transform(Xt)\n",
    "print(Xt)\n",
    "Xtest = scaler.fit_transform(Xtest)\n",
    "print(Xtest)\n",
    "\n",
    "print('Number of training samples: ',Xt.shape[0])\n",
    "\n",
    "rf_classifier = RandomForestClassifier(n_estimators=30,random_state=42, n_jobs=-1)\n",
    "rf_classifier.fit(Xt,Yt)\n"
   ]
  },
  {
   "cell_type": "code",
   "execution_count": 344,
   "id": "294d7871c71b901",
   "metadata": {
    "ExecuteTime": {
     "end_time": "2024-06-24T06:01:12.176245Z",
     "start_time": "2024-06-24T06:01:11.363234Z"
    }
   },
   "outputs": [
    {
     "name": "stdout",
     "output_type": "stream",
     "text": [
      "Train accuracy: 0.9899482527968482\n"
     ]
    }
   ],
   "source": [
    "y_pred = rf_classifier.predict(Xt)\n",
    "accuracy = accuracy_score(Yt, y_pred)\n",
    "print(f'Train accuracy: {accuracy}')"
   ]
  },
  {
   "cell_type": "code",
   "execution_count": 345,
   "id": "16fac281c119f07d",
   "metadata": {
    "ExecuteTime": {
     "end_time": "2024-06-24T06:01:13.914876Z",
     "start_time": "2024-06-24T06:01:13.679733Z"
    }
   },
   "outputs": [
    {
     "name": "stdout",
     "output_type": "stream",
     "text": [
      "Test accuracy: 0.6579686282580892\n",
      "[[  740  9304   245    61    36]\n",
      " [ 2830 43823  1312   294   133]\n",
      " [  361  5993   183    56    12]\n",
      " [  126  1731    73    10     8]\n",
      " [   41   626    18     6     1]]\n"
     ]
    }
   ],
   "source": [
    "from sklearn.metrics import accuracy_score, classification_report, confusion_matrix\n",
    "\n",
    "y_pred_test = rf_classifier.predict(Xtest)\n",
    "test_accuracy = accuracy_score(Ytest, y_pred_test)\n",
    "conf_matrix = confusion_matrix(Ytest,y_pred_test)\n",
    "print(f'Test accuracy: {test_accuracy}')\n",
    "print(conf_matrix)"
   ]
  },
  {
   "cell_type": "code",
   "execution_count": 327,
   "id": "13867d06dfa07e20",
   "metadata": {
    "ExecuteTime": {
     "end_time": "2024-06-23T20:00:23.902134Z",
     "start_time": "2024-06-23T20:00:21.806807Z"
    }
   },
   "outputs": [
    {
     "ename": "ExecutableNotFound",
     "evalue": "failed to execute WindowsPath('dot'), make sure the Graphviz executables are on your systems' PATH",
     "output_type": "error",
     "traceback": [
      "\u001b[1;31m---------------------------------------------------------------------------\u001b[0m",
      "\u001b[1;31mFileNotFoundError\u001b[0m                         Traceback (most recent call last)",
      "File \u001b[1;32m~\\PycharmProjects\\lda_test\\.venv\\Lib\\site-packages\\graphviz\\backend\\execute.py:78\u001b[0m, in \u001b[0;36mrun_check\u001b[1;34m(cmd, input_lines, encoding, quiet, **kwargs)\u001b[0m\n\u001b[0;32m     77\u001b[0m     \u001b[38;5;28;01melse\u001b[39;00m:\n\u001b[1;32m---> 78\u001b[0m         proc \u001b[38;5;241m=\u001b[39m \u001b[43msubprocess\u001b[49m\u001b[38;5;241;43m.\u001b[39;49m\u001b[43mrun\u001b[49m\u001b[43m(\u001b[49m\u001b[43mcmd\u001b[49m\u001b[43m,\u001b[49m\u001b[43m \u001b[49m\u001b[38;5;241;43m*\u001b[39;49m\u001b[38;5;241;43m*\u001b[39;49m\u001b[43mkwargs\u001b[49m\u001b[43m)\u001b[49m\n\u001b[0;32m     79\u001b[0m \u001b[38;5;28;01mexcept\u001b[39;00m \u001b[38;5;167;01mOSError\u001b[39;00m \u001b[38;5;28;01mas\u001b[39;00m e:\n",
      "File \u001b[1;32mC:\\Program Files\\WindowsApps\\PythonSoftwareFoundation.Python.3.12_3.12.1008.0_x64__qbz5n2kfra8p0\\Lib\\subprocess.py:548\u001b[0m, in \u001b[0;36mrun\u001b[1;34m(input, capture_output, timeout, check, *popenargs, **kwargs)\u001b[0m\n\u001b[0;32m    546\u001b[0m     kwargs[\u001b[38;5;124m'\u001b[39m\u001b[38;5;124mstderr\u001b[39m\u001b[38;5;124m'\u001b[39m] \u001b[38;5;241m=\u001b[39m PIPE\n\u001b[1;32m--> 548\u001b[0m \u001b[38;5;28;01mwith\u001b[39;00m \u001b[43mPopen\u001b[49m\u001b[43m(\u001b[49m\u001b[38;5;241;43m*\u001b[39;49m\u001b[43mpopenargs\u001b[49m\u001b[43m,\u001b[49m\u001b[43m \u001b[49m\u001b[38;5;241;43m*\u001b[39;49m\u001b[38;5;241;43m*\u001b[39;49m\u001b[43mkwargs\u001b[49m\u001b[43m)\u001b[49m \u001b[38;5;28;01mas\u001b[39;00m process:\n\u001b[0;32m    549\u001b[0m     \u001b[38;5;28;01mtry\u001b[39;00m:\n",
      "File \u001b[1;32mC:\\Program Files\\WindowsApps\\PythonSoftwareFoundation.Python.3.12_3.12.1008.0_x64__qbz5n2kfra8p0\\Lib\\subprocess.py:1026\u001b[0m, in \u001b[0;36mPopen.__init__\u001b[1;34m(self, args, bufsize, executable, stdin, stdout, stderr, preexec_fn, close_fds, shell, cwd, env, universal_newlines, startupinfo, creationflags, restore_signals, start_new_session, pass_fds, user, group, extra_groups, encoding, errors, text, umask, pipesize, process_group)\u001b[0m\n\u001b[0;32m   1023\u001b[0m             \u001b[38;5;28mself\u001b[39m\u001b[38;5;241m.\u001b[39mstderr \u001b[38;5;241m=\u001b[39m io\u001b[38;5;241m.\u001b[39mTextIOWrapper(\u001b[38;5;28mself\u001b[39m\u001b[38;5;241m.\u001b[39mstderr,\n\u001b[0;32m   1024\u001b[0m                     encoding\u001b[38;5;241m=\u001b[39mencoding, errors\u001b[38;5;241m=\u001b[39merrors)\n\u001b[1;32m-> 1026\u001b[0m     \u001b[38;5;28;43mself\u001b[39;49m\u001b[38;5;241;43m.\u001b[39;49m\u001b[43m_execute_child\u001b[49m\u001b[43m(\u001b[49m\u001b[43margs\u001b[49m\u001b[43m,\u001b[49m\u001b[43m \u001b[49m\u001b[43mexecutable\u001b[49m\u001b[43m,\u001b[49m\u001b[43m \u001b[49m\u001b[43mpreexec_fn\u001b[49m\u001b[43m,\u001b[49m\u001b[43m \u001b[49m\u001b[43mclose_fds\u001b[49m\u001b[43m,\u001b[49m\n\u001b[0;32m   1027\u001b[0m \u001b[43m                        \u001b[49m\u001b[43mpass_fds\u001b[49m\u001b[43m,\u001b[49m\u001b[43m \u001b[49m\u001b[43mcwd\u001b[49m\u001b[43m,\u001b[49m\u001b[43m \u001b[49m\u001b[43menv\u001b[49m\u001b[43m,\u001b[49m\n\u001b[0;32m   1028\u001b[0m \u001b[43m                        \u001b[49m\u001b[43mstartupinfo\u001b[49m\u001b[43m,\u001b[49m\u001b[43m \u001b[49m\u001b[43mcreationflags\u001b[49m\u001b[43m,\u001b[49m\u001b[43m \u001b[49m\u001b[43mshell\u001b[49m\u001b[43m,\u001b[49m\n\u001b[0;32m   1029\u001b[0m \u001b[43m                        \u001b[49m\u001b[43mp2cread\u001b[49m\u001b[43m,\u001b[49m\u001b[43m \u001b[49m\u001b[43mp2cwrite\u001b[49m\u001b[43m,\u001b[49m\n\u001b[0;32m   1030\u001b[0m \u001b[43m                        \u001b[49m\u001b[43mc2pread\u001b[49m\u001b[43m,\u001b[49m\u001b[43m \u001b[49m\u001b[43mc2pwrite\u001b[49m\u001b[43m,\u001b[49m\n\u001b[0;32m   1031\u001b[0m \u001b[43m                        \u001b[49m\u001b[43merrread\u001b[49m\u001b[43m,\u001b[49m\u001b[43m \u001b[49m\u001b[43merrwrite\u001b[49m\u001b[43m,\u001b[49m\n\u001b[0;32m   1032\u001b[0m \u001b[43m                        \u001b[49m\u001b[43mrestore_signals\u001b[49m\u001b[43m,\u001b[49m\n\u001b[0;32m   1033\u001b[0m \u001b[43m                        \u001b[49m\u001b[43mgid\u001b[49m\u001b[43m,\u001b[49m\u001b[43m \u001b[49m\u001b[43mgids\u001b[49m\u001b[43m,\u001b[49m\u001b[43m \u001b[49m\u001b[43muid\u001b[49m\u001b[43m,\u001b[49m\u001b[43m \u001b[49m\u001b[43mumask\u001b[49m\u001b[43m,\u001b[49m\n\u001b[0;32m   1034\u001b[0m \u001b[43m                        \u001b[49m\u001b[43mstart_new_session\u001b[49m\u001b[43m,\u001b[49m\u001b[43m \u001b[49m\u001b[43mprocess_group\u001b[49m\u001b[43m)\u001b[49m\n\u001b[0;32m   1035\u001b[0m \u001b[38;5;28;01mexcept\u001b[39;00m:\n\u001b[0;32m   1036\u001b[0m     \u001b[38;5;66;03m# Cleanup if the child failed starting.\u001b[39;00m\n",
      "File \u001b[1;32mC:\\Program Files\\WindowsApps\\PythonSoftwareFoundation.Python.3.12_3.12.1008.0_x64__qbz5n2kfra8p0\\Lib\\subprocess.py:1538\u001b[0m, in \u001b[0;36mPopen._execute_child\u001b[1;34m(self, args, executable, preexec_fn, close_fds, pass_fds, cwd, env, startupinfo, creationflags, shell, p2cread, p2cwrite, c2pread, c2pwrite, errread, errwrite, unused_restore_signals, unused_gid, unused_gids, unused_uid, unused_umask, unused_start_new_session, unused_process_group)\u001b[0m\n\u001b[0;32m   1537\u001b[0m \u001b[38;5;28;01mtry\u001b[39;00m:\n\u001b[1;32m-> 1538\u001b[0m     hp, ht, pid, tid \u001b[38;5;241m=\u001b[39m \u001b[43m_winapi\u001b[49m\u001b[38;5;241;43m.\u001b[39;49m\u001b[43mCreateProcess\u001b[49m\u001b[43m(\u001b[49m\u001b[43mexecutable\u001b[49m\u001b[43m,\u001b[49m\u001b[43m \u001b[49m\u001b[43margs\u001b[49m\u001b[43m,\u001b[49m\n\u001b[0;32m   1539\u001b[0m \u001b[43m                             \u001b[49m\u001b[38;5;66;43;03m# no special security\u001b[39;49;00m\n\u001b[0;32m   1540\u001b[0m \u001b[43m                             \u001b[49m\u001b[38;5;28;43;01mNone\u001b[39;49;00m\u001b[43m,\u001b[49m\u001b[43m \u001b[49m\u001b[38;5;28;43;01mNone\u001b[39;49;00m\u001b[43m,\u001b[49m\n\u001b[0;32m   1541\u001b[0m \u001b[43m                             \u001b[49m\u001b[38;5;28;43mint\u001b[39;49m\u001b[43m(\u001b[49m\u001b[38;5;129;43;01mnot\u001b[39;49;00m\u001b[43m \u001b[49m\u001b[43mclose_fds\u001b[49m\u001b[43m)\u001b[49m\u001b[43m,\u001b[49m\n\u001b[0;32m   1542\u001b[0m \u001b[43m                             \u001b[49m\u001b[43mcreationflags\u001b[49m\u001b[43m,\u001b[49m\n\u001b[0;32m   1543\u001b[0m \u001b[43m                             \u001b[49m\u001b[43menv\u001b[49m\u001b[43m,\u001b[49m\n\u001b[0;32m   1544\u001b[0m \u001b[43m                             \u001b[49m\u001b[43mcwd\u001b[49m\u001b[43m,\u001b[49m\n\u001b[0;32m   1545\u001b[0m \u001b[43m                             \u001b[49m\u001b[43mstartupinfo\u001b[49m\u001b[43m)\u001b[49m\n\u001b[0;32m   1546\u001b[0m \u001b[38;5;28;01mfinally\u001b[39;00m:\n\u001b[0;32m   1547\u001b[0m     \u001b[38;5;66;03m# Child is launched. Close the parent's copy of those pipe\u001b[39;00m\n\u001b[0;32m   1548\u001b[0m     \u001b[38;5;66;03m# handles that only the child should have open.  You need\u001b[39;00m\n\u001b[1;32m   (...)\u001b[0m\n\u001b[0;32m   1551\u001b[0m     \u001b[38;5;66;03m# pipe will not close when the child process exits and the\u001b[39;00m\n\u001b[0;32m   1552\u001b[0m     \u001b[38;5;66;03m# ReadFile will hang.\u001b[39;00m\n",
      "\u001b[1;31mFileNotFoundError\u001b[0m: [WinError 2] Impossibile trovare il file specificato",
      "\nThe above exception was the direct cause of the following exception:\n",
      "\u001b[1;31mExecutableNotFound\u001b[0m                        Traceback (most recent call last)",
      "Cell \u001b[1;32mIn[327], line 9\u001b[0m\n\u001b[0;32m      6\u001b[0m dot_data \u001b[38;5;241m=\u001b[39m export_graphviz(tree, out_file\u001b[38;5;241m=\u001b[39m\u001b[38;5;28;01mNone\u001b[39;00m,filled\u001b[38;5;241m=\u001b[39m\u001b[38;5;28;01mTrue\u001b[39;00m,rounded\u001b[38;5;241m=\u001b[39m\u001b[38;5;28;01mTrue\u001b[39;00m, special_characters\u001b[38;5;241m=\u001b[39m\u001b[38;5;28;01mTrue\u001b[39;00m) \n\u001b[0;32m      8\u001b[0m graph \u001b[38;5;241m=\u001b[39m graphviz\u001b[38;5;241m.\u001b[39mSource(dot_data)  \n\u001b[1;32m----> 9\u001b[0m \u001b[43mgraph\u001b[49m\u001b[38;5;241;43m.\u001b[39;49m\u001b[43mrender\u001b[49m\u001b[43m(\u001b[49m\u001b[38;5;124;43m\"\u001b[39;49m\u001b[38;5;124;43miris_tree\u001b[39;49m\u001b[38;5;124;43m\"\u001b[39;49m\u001b[43m)\u001b[49m  \u001b[38;5;66;03m# Save the tree as a file\u001b[39;00m\n\u001b[0;32m     10\u001b[0m graph\u001b[38;5;241m.\u001b[39mview()\n",
      "File \u001b[1;32m~\\PycharmProjects\\lda_test\\.venv\\Lib\\site-packages\\graphviz\\_tools.py:171\u001b[0m, in \u001b[0;36mdeprecate_positional_args.<locals>.decorator.<locals>.wrapper\u001b[1;34m(*args, **kwargs)\u001b[0m\n\u001b[0;32m    162\u001b[0m     wanted \u001b[38;5;241m=\u001b[39m \u001b[38;5;124m'\u001b[39m\u001b[38;5;124m, \u001b[39m\u001b[38;5;124m'\u001b[39m\u001b[38;5;241m.\u001b[39mjoin(\u001b[38;5;124mf\u001b[39m\u001b[38;5;124m'\u001b[39m\u001b[38;5;132;01m{\u001b[39;00mname\u001b[38;5;132;01m}\u001b[39;00m\u001b[38;5;124m=\u001b[39m\u001b[38;5;132;01m{\u001b[39;00mvalue\u001b[38;5;132;01m!r}\u001b[39;00m\u001b[38;5;124m'\u001b[39m\n\u001b[0;32m    163\u001b[0m                        \u001b[38;5;28;01mfor\u001b[39;00m name, value \u001b[38;5;129;01min\u001b[39;00m deprecated\u001b[38;5;241m.\u001b[39mitems())\n\u001b[0;32m    164\u001b[0m     warnings\u001b[38;5;241m.\u001b[39mwarn(\u001b[38;5;124mf\u001b[39m\u001b[38;5;124m'\u001b[39m\u001b[38;5;124mThe signature of \u001b[39m\u001b[38;5;132;01m{\u001b[39;00mfunc\u001b[38;5;241m.\u001b[39m\u001b[38;5;18m__name__\u001b[39m\u001b[38;5;132;01m}\u001b[39;00m\u001b[38;5;124m will be reduced\u001b[39m\u001b[38;5;124m'\u001b[39m\n\u001b[0;32m    165\u001b[0m                   \u001b[38;5;124mf\u001b[39m\u001b[38;5;124m'\u001b[39m\u001b[38;5;124m to \u001b[39m\u001b[38;5;132;01m{\u001b[39;00msupported_number\u001b[38;5;132;01m}\u001b[39;00m\u001b[38;5;124m positional args\u001b[39m\u001b[38;5;124m'\u001b[39m\n\u001b[0;32m    166\u001b[0m                   \u001b[38;5;124mf\u001b[39m\u001b[38;5;124m'\u001b[39m\u001b[38;5;124m \u001b[39m\u001b[38;5;132;01m{\u001b[39;00m\u001b[38;5;28mlist\u001b[39m(supported)\u001b[38;5;132;01m}\u001b[39;00m\u001b[38;5;124m: pass \u001b[39m\u001b[38;5;132;01m{\u001b[39;00mwanted\u001b[38;5;132;01m}\u001b[39;00m\u001b[38;5;124m'\u001b[39m\n\u001b[0;32m    167\u001b[0m                   \u001b[38;5;124m'\u001b[39m\u001b[38;5;124m as keyword arg(s)\u001b[39m\u001b[38;5;124m'\u001b[39m,\n\u001b[0;32m    168\u001b[0m                   stacklevel\u001b[38;5;241m=\u001b[39mstacklevel,\n\u001b[0;32m    169\u001b[0m                   category\u001b[38;5;241m=\u001b[39mcategory)\n\u001b[1;32m--> 171\u001b[0m \u001b[38;5;28;01mreturn\u001b[39;00m \u001b[43mfunc\u001b[49m\u001b[43m(\u001b[49m\u001b[38;5;241;43m*\u001b[39;49m\u001b[43margs\u001b[49m\u001b[43m,\u001b[49m\u001b[43m \u001b[49m\u001b[38;5;241;43m*\u001b[39;49m\u001b[38;5;241;43m*\u001b[39;49m\u001b[43mkwargs\u001b[49m\u001b[43m)\u001b[49m\n",
      "File \u001b[1;32m~\\PycharmProjects\\lda_test\\.venv\\Lib\\site-packages\\graphviz\\rendering.py:122\u001b[0m, in \u001b[0;36mRender.render\u001b[1;34m(self, filename, directory, view, cleanup, format, renderer, formatter, neato_no_op, quiet, quiet_view, outfile, engine, raise_if_result_exists, overwrite_source)\u001b[0m\n\u001b[0;32m    118\u001b[0m filepath \u001b[38;5;241m=\u001b[39m \u001b[38;5;28mself\u001b[39m\u001b[38;5;241m.\u001b[39msave(filename, directory\u001b[38;5;241m=\u001b[39mdirectory, skip_existing\u001b[38;5;241m=\u001b[39m\u001b[38;5;28;01mNone\u001b[39;00m)\n\u001b[0;32m    120\u001b[0m args\u001b[38;5;241m.\u001b[39mappend(filepath)\n\u001b[1;32m--> 122\u001b[0m rendered \u001b[38;5;241m=\u001b[39m \u001b[38;5;28;43mself\u001b[39;49m\u001b[38;5;241;43m.\u001b[39;49m\u001b[43m_render\u001b[49m\u001b[43m(\u001b[49m\u001b[38;5;241;43m*\u001b[39;49m\u001b[43margs\u001b[49m\u001b[43m,\u001b[49m\u001b[43m \u001b[49m\u001b[38;5;241;43m*\u001b[39;49m\u001b[38;5;241;43m*\u001b[39;49m\u001b[43mkwargs\u001b[49m\u001b[43m)\u001b[49m\n\u001b[0;32m    124\u001b[0m \u001b[38;5;28;01mif\u001b[39;00m cleanup:\n\u001b[0;32m    125\u001b[0m     log\u001b[38;5;241m.\u001b[39mdebug(\u001b[38;5;124m'\u001b[39m\u001b[38;5;124mdelete \u001b[39m\u001b[38;5;132;01m%r\u001b[39;00m\u001b[38;5;124m'\u001b[39m, filepath)\n",
      "File \u001b[1;32m~\\PycharmProjects\\lda_test\\.venv\\Lib\\site-packages\\graphviz\\_tools.py:171\u001b[0m, in \u001b[0;36mdeprecate_positional_args.<locals>.decorator.<locals>.wrapper\u001b[1;34m(*args, **kwargs)\u001b[0m\n\u001b[0;32m    162\u001b[0m     wanted \u001b[38;5;241m=\u001b[39m \u001b[38;5;124m'\u001b[39m\u001b[38;5;124m, \u001b[39m\u001b[38;5;124m'\u001b[39m\u001b[38;5;241m.\u001b[39mjoin(\u001b[38;5;124mf\u001b[39m\u001b[38;5;124m'\u001b[39m\u001b[38;5;132;01m{\u001b[39;00mname\u001b[38;5;132;01m}\u001b[39;00m\u001b[38;5;124m=\u001b[39m\u001b[38;5;132;01m{\u001b[39;00mvalue\u001b[38;5;132;01m!r}\u001b[39;00m\u001b[38;5;124m'\u001b[39m\n\u001b[0;32m    163\u001b[0m                        \u001b[38;5;28;01mfor\u001b[39;00m name, value \u001b[38;5;129;01min\u001b[39;00m deprecated\u001b[38;5;241m.\u001b[39mitems())\n\u001b[0;32m    164\u001b[0m     warnings\u001b[38;5;241m.\u001b[39mwarn(\u001b[38;5;124mf\u001b[39m\u001b[38;5;124m'\u001b[39m\u001b[38;5;124mThe signature of \u001b[39m\u001b[38;5;132;01m{\u001b[39;00mfunc\u001b[38;5;241m.\u001b[39m\u001b[38;5;18m__name__\u001b[39m\u001b[38;5;132;01m}\u001b[39;00m\u001b[38;5;124m will be reduced\u001b[39m\u001b[38;5;124m'\u001b[39m\n\u001b[0;32m    165\u001b[0m                   \u001b[38;5;124mf\u001b[39m\u001b[38;5;124m'\u001b[39m\u001b[38;5;124m to \u001b[39m\u001b[38;5;132;01m{\u001b[39;00msupported_number\u001b[38;5;132;01m}\u001b[39;00m\u001b[38;5;124m positional args\u001b[39m\u001b[38;5;124m'\u001b[39m\n\u001b[0;32m    166\u001b[0m                   \u001b[38;5;124mf\u001b[39m\u001b[38;5;124m'\u001b[39m\u001b[38;5;124m \u001b[39m\u001b[38;5;132;01m{\u001b[39;00m\u001b[38;5;28mlist\u001b[39m(supported)\u001b[38;5;132;01m}\u001b[39;00m\u001b[38;5;124m: pass \u001b[39m\u001b[38;5;132;01m{\u001b[39;00mwanted\u001b[38;5;132;01m}\u001b[39;00m\u001b[38;5;124m'\u001b[39m\n\u001b[0;32m    167\u001b[0m                   \u001b[38;5;124m'\u001b[39m\u001b[38;5;124m as keyword arg(s)\u001b[39m\u001b[38;5;124m'\u001b[39m,\n\u001b[0;32m    168\u001b[0m                   stacklevel\u001b[38;5;241m=\u001b[39mstacklevel,\n\u001b[0;32m    169\u001b[0m                   category\u001b[38;5;241m=\u001b[39mcategory)\n\u001b[1;32m--> 171\u001b[0m \u001b[38;5;28;01mreturn\u001b[39;00m \u001b[43mfunc\u001b[49m\u001b[43m(\u001b[49m\u001b[38;5;241;43m*\u001b[39;49m\u001b[43margs\u001b[49m\u001b[43m,\u001b[49m\u001b[43m \u001b[49m\u001b[38;5;241;43m*\u001b[39;49m\u001b[38;5;241;43m*\u001b[39;49m\u001b[43mkwargs\u001b[49m\u001b[43m)\u001b[49m\n",
      "File \u001b[1;32m~\\PycharmProjects\\lda_test\\.venv\\Lib\\site-packages\\graphviz\\backend\\rendering.py:326\u001b[0m, in \u001b[0;36mrender\u001b[1;34m(engine, format, filepath, renderer, formatter, neato_no_op, quiet, outfile, raise_if_result_exists, overwrite_filepath)\u001b[0m\n\u001b[0;32m    322\u001b[0m cmd \u001b[38;5;241m+\u001b[39m\u001b[38;5;241m=\u001b[39m args\n\u001b[0;32m    324\u001b[0m \u001b[38;5;28;01massert\u001b[39;00m filepath \u001b[38;5;129;01mis\u001b[39;00m \u001b[38;5;129;01mnot\u001b[39;00m \u001b[38;5;28;01mNone\u001b[39;00m, \u001b[38;5;124m'\u001b[39m\u001b[38;5;124mwork around pytype false alarm\u001b[39m\u001b[38;5;124m'\u001b[39m\n\u001b[1;32m--> 326\u001b[0m \u001b[43mexecute\u001b[49m\u001b[38;5;241;43m.\u001b[39;49m\u001b[43mrun_check\u001b[49m\u001b[43m(\u001b[49m\u001b[43mcmd\u001b[49m\u001b[43m,\u001b[49m\n\u001b[0;32m    327\u001b[0m \u001b[43m                  \u001b[49m\u001b[43mcwd\u001b[49m\u001b[38;5;241;43m=\u001b[39;49m\u001b[43mfilepath\u001b[49m\u001b[38;5;241;43m.\u001b[39;49m\u001b[43mparent\u001b[49m\u001b[43m \u001b[49m\u001b[38;5;28;43;01mif\u001b[39;49;00m\u001b[43m \u001b[49m\u001b[43mfilepath\u001b[49m\u001b[38;5;241;43m.\u001b[39;49m\u001b[43mparent\u001b[49m\u001b[38;5;241;43m.\u001b[39;49m\u001b[43mparts\u001b[49m\u001b[43m \u001b[49m\u001b[38;5;28;43;01melse\u001b[39;49;00m\u001b[43m \u001b[49m\u001b[38;5;28;43;01mNone\u001b[39;49;00m\u001b[43m,\u001b[49m\n\u001b[0;32m    328\u001b[0m \u001b[43m                  \u001b[49m\u001b[43mquiet\u001b[49m\u001b[38;5;241;43m=\u001b[39;49m\u001b[43mquiet\u001b[49m\u001b[43m,\u001b[49m\n\u001b[0;32m    329\u001b[0m \u001b[43m                  \u001b[49m\u001b[43mcapture_output\u001b[49m\u001b[38;5;241;43m=\u001b[39;49m\u001b[38;5;28;43;01mTrue\u001b[39;49;00m\u001b[43m)\u001b[49m\n\u001b[0;32m    331\u001b[0m \u001b[38;5;28;01mreturn\u001b[39;00m os\u001b[38;5;241m.\u001b[39mfspath(outfile)\n",
      "File \u001b[1;32m~\\PycharmProjects\\lda_test\\.venv\\Lib\\site-packages\\graphviz\\backend\\execute.py:81\u001b[0m, in \u001b[0;36mrun_check\u001b[1;34m(cmd, input_lines, encoding, quiet, **kwargs)\u001b[0m\n\u001b[0;32m     79\u001b[0m \u001b[38;5;28;01mexcept\u001b[39;00m \u001b[38;5;167;01mOSError\u001b[39;00m \u001b[38;5;28;01mas\u001b[39;00m e:\n\u001b[0;32m     80\u001b[0m     \u001b[38;5;28;01mif\u001b[39;00m e\u001b[38;5;241m.\u001b[39merrno \u001b[38;5;241m==\u001b[39m errno\u001b[38;5;241m.\u001b[39mENOENT:\n\u001b[1;32m---> 81\u001b[0m         \u001b[38;5;28;01mraise\u001b[39;00m ExecutableNotFound(cmd) \u001b[38;5;28;01mfrom\u001b[39;00m \u001b[38;5;21;01me\u001b[39;00m\n\u001b[0;32m     82\u001b[0m     \u001b[38;5;28;01mraise\u001b[39;00m\n\u001b[0;32m     84\u001b[0m \u001b[38;5;28;01mif\u001b[39;00m \u001b[38;5;129;01mnot\u001b[39;00m quiet \u001b[38;5;129;01mand\u001b[39;00m proc\u001b[38;5;241m.\u001b[39mstderr:\n",
      "\u001b[1;31mExecutableNotFound\u001b[0m: failed to execute WindowsPath('dot'), make sure the Graphviz executables are on your systems' PATH"
     ]
    }
   ],
   "source": [
    "import graphviz\n",
    "from sklearn.tree import export_graphviz\n",
    "\n",
    "tree = rf_classifier.estimators_[0]\n",
    "\n",
    "dot_data = export_graphviz(tree, out_file=None,filled=True,rounded=True, special_characters=True) \n",
    "\n",
    "graph = graphviz.Source(dot_data)  \n",
    "graph.render(\"iris_tree\")  # Save the tree as a file\n",
    "graph.view()\n"
   ]
  },
  {
   "cell_type": "markdown",
   "id": "feb5357be6b5aadf",
   "metadata": {},
   "source": [
    "Let's try QDA"
   ]
  },
  {
   "cell_type": "code",
   "execution_count": 308,
   "id": "f60a93a6cf31539d",
   "metadata": {
    "ExecuteTime": {
     "end_time": "2024-06-23T19:51:37.527675Z",
     "start_time": "2024-06-23T19:51:37.432054Z"
    }
   },
   "outputs": [
    {
     "name": "stdout",
     "output_type": "stream",
     "text": [
      "Train accuracy: 0.704667401690555\n",
      "[[   88  4070     0     0     0]\n",
      " [  147 19086     0     0     0]\n",
      " [   12  2705     0     0     0]\n",
      " [    4   837     0     0     0]\n",
      " [    2   259     0     0     0]]\n",
      "Test accuracy: 0.7064530354255476\n"
     ]
    },
    {
     "ename": "TypeError",
     "evalue": "'numpy.ndarray' object is not callable",
     "output_type": "error",
     "traceback": [
      "\u001b[1;31m---------------------------------------------------------------------------\u001b[0m",
      "\u001b[1;31mTypeError\u001b[0m                                 Traceback (most recent call last)",
      "Cell \u001b[1;32mIn[308], line 14\u001b[0m\n\u001b[0;32m     12\u001b[0m \u001b[38;5;28mprint\u001b[39m(confusion_matrix(Yt,y_qda_predict))\n\u001b[0;32m     13\u001b[0m \u001b[38;5;28mprint\u001b[39m(\u001b[38;5;124mf\u001b[39m\u001b[38;5;124m'\u001b[39m\u001b[38;5;124mTest accuracy: \u001b[39m\u001b[38;5;132;01m{\u001b[39;00mqda_test_accuracy\u001b[38;5;132;01m}\u001b[39;00m\u001b[38;5;124m'\u001b[39m)\n\u001b[1;32m---> 14\u001b[0m \u001b[38;5;28mprint\u001b[39m(\u001b[43mconf_matrix\u001b[49m\u001b[43m(\u001b[49m\u001b[43mYtest\u001b[49m\u001b[43m,\u001b[49m\u001b[43my_pred_qda_test\u001b[49m\u001b[43m)\u001b[49m)\n",
      "\u001b[1;31mTypeError\u001b[0m: 'numpy.ndarray' object is not callable"
     ]
    }
   ],
   "source": [
    "from sklearn.discriminant_analysis import QuadraticDiscriminantAnalysis\n",
    "from sklearn.metrics import accuracy_score, classification_report\n",
    "\n",
    "qda = QuadraticDiscriminantAnalysis()\n",
    "\n",
    "qda.fit(Xt,Yt)\n",
    "y_qda_predict = qda.predict(Xt)\n",
    "qda_train_accuracy = accuracy_score(Yt,y_qda_predict)\n",
    "y_pred_qda_test = qda.predict(Xtest)\n",
    "qda_test_accuracy = accuracy_score(Ytest,y_pred_qda_test)\n",
    "print(f'Train accuracy: {qda_train_accuracy}')\n",
    "print(confusion_matrix(Yt,y_qda_predict))\n",
    "print(f'Test accuracy: {qda_test_accuracy}')\n",
    "print(conf_matrix(Ytest,y_pred_qda_test))\n"
   ]
  },
  {
   "cell_type": "markdown",
   "id": "1aba504d4f310bc4",
   "metadata": {},
   "source": [
    "Maybe svm with a radial kernel"
   ]
  },
  {
   "cell_type": "code",
   "execution_count": 307,
   "id": "29dde9ec48460024",
   "metadata": {
    "ExecuteTime": {
     "end_time": "2024-06-23T19:50:14.675572Z",
     "start_time": "2024-06-23T19:45:49.925331Z"
    }
   },
   "outputs": [
    {
     "name": "stdout",
     "output_type": "stream",
     "text": [
      "Train accuracy: 0.7089672914369717\n",
      "[[   39  4119     0     0     0]\n",
      " [    1 19232     0     0     0]\n",
      " [    2  2698    17     0     0]\n",
      " [    1   837     1     2     0]\n",
      " [    0   260     0     0     1]]\n",
      "Test accuracy: 0.7088049389975011\n",
      "[[   4 1051    0    0    0]\n",
      " [   5 4818    1    0    0]\n",
      " [   1  658    0    0    0]\n",
      " [   0  196    0    0    0]\n",
      " [   0   69    0    0    0]]\n"
     ]
    }
   ],
   "source": [
    "from sklearn.model_selection import train_test_split, GridSearchCV\n",
    "from sklearn.svm import SVC\n",
    "from sklearn.preprocessing import StandardScaler\n",
    "from sklearn.metrics import accuracy_score, classification_report, confusion_matrix\n",
    "\n",
    "\n",
    "scaler =MaxAbsScaler()\n",
    "Xt_scaled = scaler.fit_transform(Xt)\n",
    "Xtest_scaled = scaler.fit_transform(Xtest)\n",
    "\n",
    "svm = SVC(kernel='rbf',C=20.0, gamma='scale',degree=5)\n",
    "svm.fit(Xt,Yt)\n",
    "Y_svm_pred = svm.predict(Xt)\n",
    "print(f'Train accuracy:', accuracy_score(Yt,Y_svm_pred))\n",
    "conf_matrix_svm = confusion_matrix(Yt,Y_svm_pred)\n",
    "print(conf_matrix_svm)\n",
    "Y_svm_pred_test = svm.predict(Xtest)\n",
    "conf_matrix_svm = confusion_matrix(Ytest,Y_svm_pred_test)\n",
    "print('Test accuracy:', accuracy_score(Ytest,Y_svm_pred_test))\n",
    "print(conf_matrix_svm)\n"
   ]
  },
  {
   "cell_type": "code",
   "execution_count": 307,
   "id": "ca104739049a26a3",
   "metadata": {
    "ExecuteTime": {
     "end_time": "2024-06-23T19:50:14.681137Z",
     "start_time": "2024-06-23T19:50:14.677584Z"
    }
   },
   "outputs": [],
   "source": []
  },
  {
   "cell_type": "code",
   "execution_count": null,
   "id": "b5437a18c3ee3129",
   "metadata": {},
   "outputs": [],
   "source": []
  }
 ],
 "metadata": {
  "kernelspec": {
   "display_name": "Python 3 (ipykernel)",
   "language": "python",
   "name": "python3"
  },
  "language_info": {
   "codemirror_mode": {
    "name": "ipython",
    "version": 3
   },
   "file_extension": ".py",
   "mimetype": "text/x-python",
   "name": "python",
   "nbconvert_exporter": "python",
   "pygments_lexer": "ipython3",
   "version": "3.8.10"
  }
 },
 "nbformat": 4,
 "nbformat_minor": 5
}
