{
 "cells": [
  {
   "cell_type": "code",
   "execution_count": null,
   "id": "b1549424-fb0c-43e9-9759-9b49fdacb68a",
   "metadata": {},
   "outputs": [],
   "source": [
    "hdfs://localhost:54310/user/ubuntu/ciao/reviews_details_cleaned.csv\n",
    "hadoop fs -put outputmapreduce.tsv hdfs://localhost:54310/user/ubuntu/ciao/"
   ]
  },
  {
   "cell_type": "code",
   "execution_count": null,
   "id": "b58955a8-0bd3-43cd-8471-e4d3baa9490a",
   "metadata": {},
   "outputs": [],
   "source": [
    "#Comando per map reduce\n",
    "cat listings_details.csv reviews_details.csv|./mapper.py|sort -r|./reducer2.py   "
   ]
  }
 ],
 "metadata": {
  "kernelspec": {
   "display_name": "Python 3 (ipykernel)",
   "language": "python",
   "name": "python3"
  },
  "language_info": {
   "codemirror_mode": {
    "name": "ipython",
    "version": 3
   },
   "file_extension": ".py",
   "mimetype": "text/x-python",
   "name": "python",
   "nbconvert_exporter": "python",
   "pygments_lexer": "ipython3",
   "version": "3.8.10"
  }
 },
 "nbformat": 4,
 "nbformat_minor": 5
}
