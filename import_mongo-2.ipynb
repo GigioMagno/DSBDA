{
 "cells": [
  {
   "cell_type": "code",
   "execution_count": 1,
   "id": "57c91da2-17a0-4e2b-a3f1-959ecfee2f80",
   "metadata": {},
   "outputs": [],
   "source": [
    "import pandas as pd\n",
    "from pymongo import MongoClient\n",
    "import csv"
   ]
  },
  {
   "cell_type": "code",
   "execution_count": 2,
   "id": "f3a09764-6563-4a04-b83c-42f5f33ca10a",
   "metadata": {},
   "outputs": [],
   "source": [
    "pd.set_option('display.float_format', lambda x: '%.12f' % x)"
   ]
  },
  {
   "cell_type": "code",
   "execution_count": 3,
   "id": "3e3a4dab-97ad-4778-a78f-ff018fadaa15",
   "metadata": {},
   "outputs": [],
   "source": [
    "def isfloat(value):\n",
    "    try:\n",
    "        float(value)\n",
    "        return True\n",
    "    except ValueError:\n",
    "        return False\n",
    "\n",
    "def is_valid_date(date_str):\n",
    "    try:\n",
    "        pd.to_datetime(date_str, format=\"%Y-%m-%d\", errors='raise')\n",
    "        return True\n",
    "    except ValueError:\n",
    "        return False"
   ]
  },
  {
   "cell_type": "code",
   "execution_count": 4,
   "id": "c239f2fd-909d-4169-b06f-dcc3d0bad518",
   "metadata": {},
   "outputs": [],
   "source": [
    "dtype_spec = {\n",
    "    \"listing_id\":int,\n",
    "    \"name\": str,\n",
    "    \"host_name\": str,\n",
    "    \"neighborhood\": str,\n",
    "    \"latitude\": str,\n",
    "    \"longitude\": str,\n",
    "    \"property_type\" : str,\n",
    "    \"room_type\" : str,\n",
    "    \"price\" : str,\n",
    "    \"review_scores_rating\" : str,\n",
    "    \"review_scores_accuracy\" : str,\n",
    "    \"review_scores_cleanliness\" : str,\n",
    "    \"review_scores_checkin\" : str,\n",
    "    \"review_scores_communication\" : str,\n",
    "    \"review_scores_location\" : str,\n",
    "    \"review_scores_value\" : str,\n",
    "    \"review_per_month\" : str,\n",
    "    \"date\" : str,\n",
    "    \"comment\" :str\n",
    "}\n",
    "\n",
    "column_names = [\"listing_id\",\"name\",\"host_name\",\"neighborhood\",\"latitude\",\n",
    "                \"longitude\",\"property_type\",\"room_type\",\"price\",\"review_scores_rating\",\n",
    "                \"review_scores_accuracy\",\"review_scores_cleanliness\",\"review_scores_checkin\",\n",
    "                \"review_scores_communication\",\"review_scores_location\",\"review_scores_value\",\n",
    "                \"review_per_month\",\"date\",\"comment\"]\n",
    "#df = pd.read_csv('/home/ubuntu/DATASET/outputmapreduce.csv', sep=',', header=None, names=column_names, dtype=dtype_spec, parse_dates=['date'])\n",
    "df = pd.read_csv('/home/ubuntu/DATASET/outputmapreduce.csv', sep=',',\n",
    "                 header=None, names=column_names, dtype=dtype_spec)\n",
    "\n",
    "#-1 come prezzo al posto del - per poi dropparle nel momento del training dei classifier\n",
    "df['price'] = df['price'].apply(lambda x: -1 if x == \"-\" else float(x))\n",
    "df['latitude'] = df['latitude'].apply(lambda x: None if x == \"-\" else float(x))\n",
    "df['longitude'] = df['longitude'].apply(lambda x: None if x == \"-\" else float(x))\n",
    "df['listing_id'] = df['listing_id'].apply(lambda x: None if x == \"-\" else int(x))\n",
    "df['review_scores_rating'] = df['review_scores_rating'].apply(lambda x: -1 if not x.isdigit() else float(x))\n",
    "df['review_scores_accuracy'] = df['review_scores_accuracy'].apply(lambda x: -1 if not x.isdigit() else float(x))\n",
    "df['review_scores_cleanliness'] = df['review_scores_cleanliness'].apply(lambda x: -1 if not x.isdigit() else float(x))\n",
    "df['review_scores_checkin'] = df['review_scores_checkin'].apply(lambda x: -1 if not x.isdigit() else float(x))\n",
    "df['review_scores_communication'] = df['review_scores_communication'].apply(lambda x: -1 if not x.isdigit() else float(x))\n",
    "df['review_scores_location'] = df['review_scores_location'].apply(lambda x: -1 if not x.isdigit() else float(x))\n",
    "df['review_scores_value'] = df['review_scores_value'].apply(lambda x: -1 if not x.isdigit() else float(x))\n",
    "df['review_per_month'] = df['review_per_month'].apply(lambda x: float(x) if isfloat(x) else -1)\n",
    "df['date'] = df['date'].apply(lambda x: x if is_valid_date(x) else None)\n"
   ]
  },
  {
   "cell_type": "code",
   "execution_count": 5,
   "id": "f42b6d78-985f-47b8-81c9-c4f81fcd8c6b",
   "metadata": {},
   "outputs": [
    {
     "data": {
      "text/html": [
       "<div>\n",
       "<style scoped>\n",
       "    .dataframe tbody tr th:only-of-type {\n",
       "        vertical-align: middle;\n",
       "    }\n",
       "\n",
       "    .dataframe tbody tr th {\n",
       "        vertical-align: top;\n",
       "    }\n",
       "\n",
       "    .dataframe thead th {\n",
       "        text-align: right;\n",
       "    }\n",
       "</style>\n",
       "<table border=\"1\" class=\"dataframe\">\n",
       "  <thead>\n",
       "    <tr style=\"text-align: right;\">\n",
       "      <th></th>\n",
       "      <th>listing_id</th>\n",
       "      <th>name</th>\n",
       "      <th>host_name</th>\n",
       "      <th>neighborhood</th>\n",
       "      <th>latitude</th>\n",
       "      <th>longitude</th>\n",
       "      <th>property_type</th>\n",
       "      <th>room_type</th>\n",
       "      <th>price</th>\n",
       "      <th>review_scores_rating</th>\n",
       "      <th>review_scores_accuracy</th>\n",
       "      <th>review_scores_cleanliness</th>\n",
       "      <th>review_scores_checkin</th>\n",
       "      <th>review_scores_communication</th>\n",
       "      <th>review_scores_location</th>\n",
       "      <th>review_scores_value</th>\n",
       "      <th>review_per_month</th>\n",
       "      <th>date</th>\n",
       "      <th>comment</th>\n",
       "    </tr>\n",
       "  </thead>\n",
       "  <tbody>\n",
       "    <tr>\n",
       "      <th>0</th>\n",
       "      <td>9996278</td>\n",
       "      <td>Stylish family house near centre</td>\n",
       "      <td>Imke</td>\n",
       "      <td>OudNoord</td>\n",
       "      <td>52.391567597720</td>\n",
       "      <td>4.926034915463</td>\n",
       "      <td>House</td>\n",
       "      <td>Private room</td>\n",
       "      <td>65.000000000000</td>\n",
       "      <td>90.000000000000</td>\n",
       "      <td>9.000000000000</td>\n",
       "      <td>9.000000000000</td>\n",
       "      <td>7.000000000000</td>\n",
       "      <td>9.000000000000</td>\n",
       "      <td>9.000000000000</td>\n",
       "      <td>9.000000000000</td>\n",
       "      <td>0.110000000000</td>\n",
       "      <td>2016-02-22</td>\n",
       "      <td>My friends and I really enjoyed our stay at Im...</td>\n",
       "    </tr>\n",
       "    <tr>\n",
       "      <th>1</th>\n",
       "      <td>9996278</td>\n",
       "      <td>Stylish family house near centre</td>\n",
       "      <td>Imke</td>\n",
       "      <td>OudNoord</td>\n",
       "      <td>52.391567597720</td>\n",
       "      <td>4.926034915463</td>\n",
       "      <td>House</td>\n",
       "      <td>Private room</td>\n",
       "      <td>65.000000000000</td>\n",
       "      <td>90.000000000000</td>\n",
       "      <td>9.000000000000</td>\n",
       "      <td>9.000000000000</td>\n",
       "      <td>7.000000000000</td>\n",
       "      <td>9.000000000000</td>\n",
       "      <td>9.000000000000</td>\n",
       "      <td>9.000000000000</td>\n",
       "      <td>0.110000000000</td>\n",
       "      <td>2016-02-07</td>\n",
       "      <td>I enjoyed Imkes place Despite the fact that th...</td>\n",
       "    </tr>\n",
       "    <tr>\n",
       "      <th>2</th>\n",
       "      <td>9996278</td>\n",
       "      <td>Stylish family house near centre</td>\n",
       "      <td>Imke</td>\n",
       "      <td>OudNoord</td>\n",
       "      <td>52.391567597720</td>\n",
       "      <td>4.926034915463</td>\n",
       "      <td>House</td>\n",
       "      <td>Private room</td>\n",
       "      <td>65.000000000000</td>\n",
       "      <td>90.000000000000</td>\n",
       "      <td>9.000000000000</td>\n",
       "      <td>9.000000000000</td>\n",
       "      <td>7.000000000000</td>\n",
       "      <td>9.000000000000</td>\n",
       "      <td>9.000000000000</td>\n",
       "      <td>9.000000000000</td>\n",
       "      <td>0.110000000000</td>\n",
       "      <td>2016-01-24</td>\n",
       "      <td>Probably the coolest house in Amsterdam. All o...</td>\n",
       "    </tr>\n",
       "    <tr>\n",
       "      <th>3</th>\n",
       "      <td>9996278</td>\n",
       "      <td>Stylish family house near centre</td>\n",
       "      <td>Imke</td>\n",
       "      <td>OudNoord</td>\n",
       "      <td>52.391567597720</td>\n",
       "      <td>4.926034915463</td>\n",
       "      <td>House</td>\n",
       "      <td>Private room</td>\n",
       "      <td>65.000000000000</td>\n",
       "      <td>90.000000000000</td>\n",
       "      <td>9.000000000000</td>\n",
       "      <td>9.000000000000</td>\n",
       "      <td>7.000000000000</td>\n",
       "      <td>9.000000000000</td>\n",
       "      <td>9.000000000000</td>\n",
       "      <td>9.000000000000</td>\n",
       "      <td>0.110000000000</td>\n",
       "      <td>2015-12-31</td>\n",
       "      <td>Vert nice house We spend a great stay</td>\n",
       "    </tr>\n",
       "    <tr>\n",
       "      <th>4</th>\n",
       "      <td>9992899</td>\n",
       "      <td>Cozy Canal House in the centre</td>\n",
       "      <td>Liselotte</td>\n",
       "      <td>CentrumWest</td>\n",
       "      <td>52.375859759374</td>\n",
       "      <td>4.893092078023</td>\n",
       "      <td>Apartment</td>\n",
       "      <td>Private room</td>\n",
       "      <td>79.000000000000</td>\n",
       "      <td>95.000000000000</td>\n",
       "      <td>9.000000000000</td>\n",
       "      <td>10.000000000000</td>\n",
       "      <td>10.000000000000</td>\n",
       "      <td>10.000000000000</td>\n",
       "      <td>10.000000000000</td>\n",
       "      <td>9.000000000000</td>\n",
       "      <td>0.340000000000</td>\n",
       "      <td>2016-02-21</td>\n",
       "      <td>We loved every minute of our stay here. Liselo...</td>\n",
       "    </tr>\n",
       "  </tbody>\n",
       "</table>\n",
       "</div>"
      ],
      "text/plain": [
       "   listing_id                              name  host_name neighborhood  \\\n",
       "0     9996278  Stylish family house near centre       Imke     OudNoord   \n",
       "1     9996278  Stylish family house near centre       Imke     OudNoord   \n",
       "2     9996278  Stylish family house near centre       Imke     OudNoord   \n",
       "3     9996278  Stylish family house near centre       Imke     OudNoord   \n",
       "4     9992899    Cozy Canal House in the centre  Liselotte  CentrumWest   \n",
       "\n",
       "         latitude      longitude property_type     room_type           price  \\\n",
       "0 52.391567597720 4.926034915463         House  Private room 65.000000000000   \n",
       "1 52.391567597720 4.926034915463         House  Private room 65.000000000000   \n",
       "2 52.391567597720 4.926034915463         House  Private room 65.000000000000   \n",
       "3 52.391567597720 4.926034915463         House  Private room 65.000000000000   \n",
       "4 52.375859759374 4.893092078023     Apartment  Private room 79.000000000000   \n",
       "\n",
       "   review_scores_rating  review_scores_accuracy  review_scores_cleanliness  \\\n",
       "0       90.000000000000          9.000000000000             9.000000000000   \n",
       "1       90.000000000000          9.000000000000             9.000000000000   \n",
       "2       90.000000000000          9.000000000000             9.000000000000   \n",
       "3       90.000000000000          9.000000000000             9.000000000000   \n",
       "4       95.000000000000          9.000000000000            10.000000000000   \n",
       "\n",
       "   review_scores_checkin  review_scores_communication  review_scores_location  \\\n",
       "0         7.000000000000               9.000000000000          9.000000000000   \n",
       "1         7.000000000000               9.000000000000          9.000000000000   \n",
       "2         7.000000000000               9.000000000000          9.000000000000   \n",
       "3         7.000000000000               9.000000000000          9.000000000000   \n",
       "4        10.000000000000              10.000000000000         10.000000000000   \n",
       "\n",
       "   review_scores_value  review_per_month        date  \\\n",
       "0       9.000000000000    0.110000000000  2016-02-22   \n",
       "1       9.000000000000    0.110000000000  2016-02-07   \n",
       "2       9.000000000000    0.110000000000  2016-01-24   \n",
       "3       9.000000000000    0.110000000000  2015-12-31   \n",
       "4       9.000000000000    0.340000000000  2016-02-21   \n",
       "\n",
       "                                             comment  \n",
       "0  My friends and I really enjoyed our stay at Im...  \n",
       "1  I enjoyed Imkes place Despite the fact that th...  \n",
       "2  Probably the coolest house in Amsterdam. All o...  \n",
       "3              Vert nice house We spend a great stay  \n",
       "4  We loved every minute of our stay here. Liselo...  "
      ]
     },
     "execution_count": 5,
     "metadata": {},
     "output_type": "execute_result"
    }
   ],
   "source": [
    "df.head()"
   ]
  },
  {
   "cell_type": "code",
   "execution_count": 6,
   "id": "95eff530-6fce-4289-9e2a-2f6ac40d5fd0",
   "metadata": {},
   "outputs": [
    {
     "data": {
      "text/plain": [
       "listing_id                       int64\n",
       "name                            object\n",
       "host_name                       object\n",
       "neighborhood                    object\n",
       "latitude                       float64\n",
       "longitude                      float64\n",
       "property_type                   object\n",
       "room_type                       object\n",
       "price                          float64\n",
       "review_scores_rating           float64\n",
       "review_scores_accuracy         float64\n",
       "review_scores_cleanliness      float64\n",
       "review_scores_checkin          float64\n",
       "review_scores_communication    float64\n",
       "review_scores_location         float64\n",
       "review_scores_value            float64\n",
       "review_per_month               float64\n",
       "date                            object\n",
       "comment                         object\n",
       "dtype: object"
      ]
     },
     "execution_count": 6,
     "metadata": {},
     "output_type": "execute_result"
    }
   ],
   "source": [
    "df.dtypes"
   ]
  },
  {
   "cell_type": "code",
   "execution_count": 8,
   "id": "be0529a9-e1f1-4760-ac4f-108ecc880065",
   "metadata": {},
   "outputs": [
    {
     "data": {
      "text/plain": [
       "['admin', 'config', 'dsbda_project', 'local']"
      ]
     },
     "execution_count": 8,
     "metadata": {},
     "output_type": "execute_result"
    }
   ],
   "source": [
    "client = MongoClient('mongodb://localhost:27017/')\n",
    "db = client['dsbda_project'] \n",
    "collection = db['row']\n",
    "client.list_database_names()"
   ]
  },
  {
   "cell_type": "code",
   "execution_count": 30,
   "id": "368cf06b-bff3-448b-b1e4-9e6b9bc6aa57",
   "metadata": {},
   "outputs": [],
   "source": [
    "dictionary = df.to_dict(orient='records')\n",
    "result = collection.insert_many(dictionary)"
   ]
  },
  {
   "cell_type": "code",
   "execution_count": 9,
   "id": "e4963327-0504-4747-b7ae-b9907599d7cc",
   "metadata": {},
   "outputs": [
    {
     "name": "stdout",
     "output_type": "stream",
     "text": [
      "Numero di documenti in 'dsbda_project': 431828\n"
     ]
    }
   ],
   "source": [
    "document_count = collection.count_documents({})\n",
    "print(f\"Numero di documenti in 'dsbda_project': {document_count}\")"
   ]
  },
  {
   "cell_type": "code",
   "execution_count": 25,
   "id": "caca7b9b-14f9-421e-ac84-b09221843f10",
   "metadata": {},
   "outputs": [],
   "source": [
    "cursor = db.row.find()"
   ]
  },
  {
   "cell_type": "code",
   "execution_count": 26,
   "id": "de104d79-7f28-4422-9023-52479433bd0b",
   "metadata": {},
   "outputs": [
    {
     "name": "stdout",
     "output_type": "stream",
     "text": [
      "{'_id': ObjectId('6675ec2320e6600681d48dde'), 'listing_id': 9996278, 'name': 'Stylish family house near centre', 'host_name': 'Imke', 'neighborhood': 'OudNoord', 'latitude': 52.3915675977199, 'longitude': 4.926034915462951, 'property_type': 'House', 'room_type': 'Private room', 'price': 65.0, 'review_scores_rating': 90.0, 'review_scores_accuracy': 9.0, 'review_scores_cleanliness': 9.0, 'review_scores_checkin': 7.0, 'review_scores_communication': 9.0, 'review_scores_location': 9.0, 'review_scores_value': 9.0, 'review_per_month': 0.11, 'date': '2016-02-22', 'comment': 'My friends and I really enjoyed our stay at Imkes house. She was very welcoming and answered all the questions we had about the city. She also provided many recommendations about the city and the area she lives in i.e visiting eating tourist locations etc.... We were all very pleased with our stay and didnt have any complaints leaving. The house was also very easily accessible by bus from the Amsterdam central station. Although it did take around 30 minutes it was a very straightforward route'}\n",
      "{'_id': ObjectId('6675ec2320e6600681d48ddf'), 'listing_id': 9996278, 'name': 'Stylish family house near centre', 'host_name': 'Imke', 'neighborhood': 'OudNoord', 'latitude': 52.3915675977199, 'longitude': 4.926034915462951, 'property_type': 'House', 'room_type': 'Private room', 'price': 65.0, 'review_scores_rating': 90.0, 'review_scores_accuracy': 9.0, 'review_scores_cleanliness': 9.0, 'review_scores_checkin': 7.0, 'review_scores_communication': 9.0, 'review_scores_location': 9.0, 'review_scores_value': 9.0, 'review_per_month': 0.11, 'date': '2016-02-07', 'comment': 'I enjoyed Imkes place Despite the fact that this place is a bit outside the city center its still very easy to get to and the neighborhood is fine. I didnt even bother with the bus I just took the IJplein ferry from behind the Central Station and then its maybe a 1520 minute walk. I liked the place too felt welcome there and the kitchen we could use is just awesome loved the vinyl collection there. Just dont touch the cats if youre allergic.'}\n",
      "{'_id': ObjectId('6675ec2320e6600681d48de0'), 'listing_id': 9996278, 'name': 'Stylish family house near centre', 'host_name': 'Imke', 'neighborhood': 'OudNoord', 'latitude': 52.3915675977199, 'longitude': 4.926034915462951, 'property_type': 'House', 'room_type': 'Private room', 'price': 65.0, 'review_scores_rating': 90.0, 'review_scores_accuracy': 9.0, 'review_scores_cleanliness': 9.0, 'review_scores_checkin': 7.0, 'review_scores_communication': 9.0, 'review_scores_location': 9.0, 'review_scores_value': 9.0, 'review_per_month': 0.11, 'date': '2016-01-24', 'comment': 'Probably the coolest house in Amsterdam. All of Imkes housemates were pretty cool and very welcoming. We were super fortunate to find this gem and can wholeheartedly recommend it.'}\n",
      "{'_id': ObjectId('6675ec2320e6600681d48de1'), 'listing_id': 9996278, 'name': 'Stylish family house near centre', 'host_name': 'Imke', 'neighborhood': 'OudNoord', 'latitude': 52.3915675977199, 'longitude': 4.926034915462951, 'property_type': 'House', 'room_type': 'Private room', 'price': 65.0, 'review_scores_rating': 90.0, 'review_scores_accuracy': 9.0, 'review_scores_cleanliness': 9.0, 'review_scores_checkin': 7.0, 'review_scores_communication': 9.0, 'review_scores_location': 9.0, 'review_scores_value': 9.0, 'review_per_month': 0.11, 'date': '2015-12-31', 'comment': 'Vert nice house We spend a great stay'}\n",
      "{'_id': ObjectId('6675ec2320e6600681d48de2'), 'listing_id': 9992899, 'name': 'Cozy Canal House in the centre', 'host_name': 'Liselotte', 'neighborhood': 'CentrumWest', 'latitude': 52.37585975937402, 'longitude': 4.893092078022822, 'property_type': 'Apartment', 'room_type': 'Private room', 'price': 79.0, 'review_scores_rating': 95.0, 'review_scores_accuracy': 9.0, 'review_scores_cleanliness': 10.0, 'review_scores_checkin': 10.0, 'review_scores_communication': 10.0, 'review_scores_location': 10.0, 'review_scores_value': 9.0, 'review_per_month': 0.34, 'date': '2016-02-21', 'comment': 'We loved every minute of our stay here. Liselotte was an amazing host with an amazing place. Great location in walking distance for everything we wanted to do Liselotte left a lovely list of recommendations of the area and greeted us with a warm welcome  Hopefully we will stay here again as we had the best time'}\n",
      "{'_id': ObjectId('6675ec2320e6600681d48de3'), 'listing_id': 9992899, 'name': 'Cozy Canal House in the centre', 'host_name': 'Liselotte', 'neighborhood': 'CentrumWest', 'latitude': 52.37585975937402, 'longitude': 4.893092078022822, 'property_type': 'Apartment', 'room_type': 'Private room', 'price': 79.0, 'review_scores_rating': 95.0, 'review_scores_accuracy': 9.0, 'review_scores_cleanliness': 10.0, 'review_scores_checkin': 10.0, 'review_scores_communication': 10.0, 'review_scores_location': 10.0, 'review_scores_value': 9.0, 'review_per_month': 0.34, 'date': '2016-02-15', 'comment': 'Liselotte Esther  Lindsay are three amazing hosts with a beautiful home. The propertys location is very central and everything is within walking distance plus it has a great view of the canals from the living room and kitchen Our room was cozy and clean and we felt very welcomed in the house. Good value for money would definitely recommend'}\n",
      "{'_id': ObjectId('6675ec2320e6600681d48de4'), 'listing_id': 9992899, 'name': 'Cozy Canal House in the centre', 'host_name': 'Liselotte', 'neighborhood': 'CentrumWest', 'latitude': 52.37585975937402, 'longitude': 4.893092078022822, 'property_type': 'Apartment', 'room_type': 'Private room', 'price': 79.0, 'review_scores_rating': 95.0, 'review_scores_accuracy': 9.0, 'review_scores_cleanliness': 10.0, 'review_scores_checkin': 10.0, 'review_scores_communication': 10.0, 'review_scores_location': 10.0, 'review_scores_value': 9.0, 'review_per_month': 0.34, 'date': '2016-02-12', 'comment': 'I received a warm welcome  the apartment is very central and has a beautiful view.'}\n",
      "{'_id': ObjectId('6675ec2320e6600681d48de5'), 'listing_id': 9992899, 'name': 'Cozy Canal House in the centre', 'host_name': 'Liselotte', 'neighborhood': 'CentrumWest', 'latitude': 52.37585975937402, 'longitude': 4.893092078022822, 'property_type': 'Apartment', 'room_type': 'Private room', 'price': 79.0, 'review_scores_rating': 95.0, 'review_scores_accuracy': 9.0, 'review_scores_cleanliness': 10.0, 'review_scores_checkin': 10.0, 'review_scores_communication': 10.0, 'review_scores_location': 10.0, 'review_scores_value': 9.0, 'review_per_month': 0.34, 'date': '2016-02-09', 'comment': 'We stayed in AMS overnight Liselottes place is really cozy with typical Amsterdam building style. And its close to city center and central station. So if you are looking for a traditional house while wanna stay close to transportation hub this could be best choice'}\n",
      "{'_id': ObjectId('6675ec2320e6600681d48de6'), 'listing_id': 9992899, 'name': 'Cozy Canal House in the centre', 'host_name': 'Liselotte', 'neighborhood': 'CentrumWest', 'latitude': 52.37585975937402, 'longitude': 4.893092078022822, 'property_type': 'Apartment', 'room_type': 'Private room', 'price': 79.0, 'review_scores_rating': 95.0, 'review_scores_accuracy': 9.0, 'review_scores_cleanliness': 10.0, 'review_scores_checkin': 10.0, 'review_scores_communication': 10.0, 'review_scores_location': 10.0, 'review_scores_value': 9.0, 'review_per_month': 0.34, 'date': '2016-02-07', 'comment': 'Liselotte and her Hidden by Airbnb arme great hosts very flexible and easily accessible  they also wrote down some great locations to eat and drinkThe small apartment is centrally located tidy and clean. A private bathroom is available.We were completely satisfied'}\n",
      "{'_id': ObjectId('6675ec2320e6600681d48de7'), 'listing_id': 9992899, 'name': 'Cozy Canal House in the centre', 'host_name': 'Liselotte', 'neighborhood': 'CentrumWest', 'latitude': 52.37585975937402, 'longitude': 4.893092078022822, 'property_type': 'Apartment', 'room_type': 'Private room', 'price': 79.0, 'review_scores_rating': 95.0, 'review_scores_accuracy': 9.0, 'review_scores_cleanliness': 10.0, 'review_scores_checkin': 10.0, 'review_scores_communication': 10.0, 'review_scores_location': 10.0, 'review_scores_value': 9.0, 'review_per_month': 0.34, 'date': '2016-02-02', 'comment': 'In a few words Very nice very cozy and very welcoming.'}\n"
     ]
    }
   ],
   "source": [
    "for document in cursor[:10]:\n",
    "    print(document)"
   ]
  },
  {
   "cell_type": "code",
   "execution_count": 27,
   "id": "f7cdf13a-af57-4d23-b05b-f8444f2a3ccc",
   "metadata": {},
   "outputs": [],
   "source": [
    "cursor = db.row.find({\"price\": {\"$gt\": 2000}})"
   ]
  },
  {
   "cell_type": "code",
   "execution_count": 14,
   "id": "03d8c2af-a790-4f42-9484-241cc8f837a7",
   "metadata": {},
   "outputs": [
    {
     "name": "stdout",
     "output_type": "stream",
     "text": [
      "{'_id': ObjectId('6675ec2420e6600681d63fc6'), 'listing_id': 5587500, 'name': 'Crane Hotel Faralda Amsterdam', 'host_name': 'Faralda', 'neighborhood': 'OudNoord', 'latitude': 52.399452260913016, 'longitude': 4.8946751097429555, 'property_type': 'Other', 'room_type': 'Entire homeapt', 'price': 4500.0, 'review_scores_rating': 100.0, 'review_scores_accuracy': 10.0, 'review_scores_cleanliness': 10.0, 'review_scores_checkin': 10.0, 'review_scores_communication': 10.0, 'review_scores_location': 10.0, 'review_scores_value': 9.0, 'review_per_month': 0.05, 'date': '2016-09-16', 'comment': 'The crane wow what an experience... a crazy and yet wonderful experience in a world of same same... this is something incredibly unique and different... the location is uber cool... lots of bars and chill out spaces close by... Brood the bread shop at the ferry terminal has great coffee...and the pastries are to die for. Thank you Faralda for a wonderful experience.'}\n",
      "{'_id': ObjectId('6675ec2420e6600681d63fc7'), 'listing_id': 5587500, 'name': 'Crane Hotel Faralda Amsterdam', 'host_name': 'Faralda', 'neighborhood': 'OudNoord', 'latitude': 52.399452260913016, 'longitude': 4.8946751097429555, 'property_type': 'Other', 'room_type': 'Entire homeapt', 'price': 4500.0, 'review_scores_rating': 100.0, 'review_scores_accuracy': 10.0, 'review_scores_cleanliness': 10.0, 'review_scores_checkin': 10.0, 'review_scores_communication': 10.0, 'review_scores_location': 10.0, 'review_scores_value': 9.0, 'review_per_month': 0.05, 'date': '2015-10-18', 'comment': 'Edwin is amazing. Great guy and a great host. Could not have been better. Easily my best Airbnb experience.'}\n",
      "{'_id': ObjectId('6675ec2420e6600681d741cc'), 'listing_id': 29926643, 'name': 'Lovely place', 'host_name': 'Anubisdelvalle', 'neighborhood': 'CentrumWest', 'latitude': 52.38205426553993, 'longitude': 4.883831373525745, 'property_type': 'Apartment', 'room_type': 'Entire homeapt', 'price': 5040.0, 'review_scores_rating': 100.0, 'review_scores_accuracy': 9.0, 'review_scores_cleanliness': 10.0, 'review_scores_checkin': 10.0, 'review_scores_communication': 10.0, 'review_scores_location': 10.0, 'review_scores_value': 10.0, 'review_per_month': 3.0, 'date': '2018-11-25', 'comment': 'An amazing welcome and introduction.  The attention to detail was also spot onGreat studio apartment so closely located to the heart of Amsterdam. Fantastic value and comfort. Thank you Anubis for being such a warm host'}\n",
      "{'_id': ObjectId('6675ec2420e6600681d741cd'), 'listing_id': 29926643, 'name': 'Lovely place', 'host_name': 'Anubisdelvalle', 'neighborhood': 'CentrumWest', 'latitude': 52.38205426553993, 'longitude': 4.883831373525745, 'property_type': 'Apartment', 'room_type': 'Entire homeapt', 'price': 5040.0, 'review_scores_rating': 100.0, 'review_scores_accuracy': 9.0, 'review_scores_cleanliness': 10.0, 'review_scores_checkin': 10.0, 'review_scores_communication': 10.0, 'review_scores_location': 10.0, 'review_scores_value': 10.0, 'review_per_month': 3.0, 'date': '2018-11-19', 'comment': 'Anubis is an exceptionally warm and welcoming host. We checked in after a pleasant stroll from Amsterdan Centraal 15 min to find a cozy space complete with some wonderful touches designed to make us feel at home which we most certainly did. Before leaving we discussed plans for our next trip to Amsterdam which most definitely included another stay with Anubis.'}\n",
      "{'_id': ObjectId('6675ec2420e6600681d741ce'), 'listing_id': 29926643, 'name': 'Lovely place', 'host_name': 'Anubisdelvalle', 'neighborhood': 'CentrumWest', 'latitude': 52.38205426553993, 'longitude': 4.883831373525745, 'property_type': 'Apartment', 'room_type': 'Entire homeapt', 'price': 5040.0, 'review_scores_rating': 100.0, 'review_scores_accuracy': 9.0, 'review_scores_cleanliness': 10.0, 'review_scores_checkin': 10.0, 'review_scores_communication': 10.0, 'review_scores_location': 10.0, 'review_scores_value': 10.0, 'review_per_month': 3.0, 'date': '2018-11-17', 'comment': 'Awesome location We felt really welcomed by Anubis. She is one of a kind.  And the place and neighborhood are awesome. Some minutes away from Amsterdam Central in the Joordan neighborhood. Would definitely recommend her and her place over and over again'}\n",
      "{'_id': ObjectId('6675ec2420e6600681d7591e'), 'listing_id': 28651212, 'name': 'No available', 'host_name': 'David', 'neighborhood': 'De Baarsjes  OudWest', 'latitude': 52.367938823308265, 'longitude': 4.866656605088739, 'property_type': 'Apartment', 'room_type': 'Entire homeapt', 'price': 3000.0, 'review_scores_rating': 96.0, 'review_scores_accuracy': 9.0, 'review_scores_cleanliness': 10.0, 'review_scores_checkin': 9.0, 'review_scores_communication': 10.0, 'review_scores_location': 9.0, 'review_scores_value': 8.0, 'review_per_month': 4.76, 'date': '2018-11-06', 'comment': 'This flat is in a great neighborhood and has everything one would need for a wonderful holiday. I enjoyed visiting the market downstairs cooking dinner the big comfy bed and oversized bathtub. De Hallen is nearby and it was easy to walk to museums and restaurants in Amsterdam. The location couldnt be any better and I felt safe travelling alone. Aline was very helpful. She even mailed me back my favorite jewelry I forgot on the windowsill. Thanks David and Aline'}\n",
      "{'_id': ObjectId('6675ec2420e6600681d7591f'), 'listing_id': 28651212, 'name': 'No available', 'host_name': 'David', 'neighborhood': 'De Baarsjes  OudWest', 'latitude': 52.367938823308265, 'longitude': 4.866656605088739, 'property_type': 'Apartment', 'room_type': 'Entire homeapt', 'price': 3000.0, 'review_scores_rating': 96.0, 'review_scores_accuracy': 9.0, 'review_scores_cleanliness': 10.0, 'review_scores_checkin': 9.0, 'review_scores_communication': 10.0, 'review_scores_location': 9.0, 'review_scores_value': 8.0, 'review_per_month': 4.76, 'date': '2018-11-02', 'comment': 'Het appartement was zeer mooi en heel goed gelegen Prijskwaliteit is topZeker een aanrader'}\n",
      "{'_id': ObjectId('6675ec2420e6600681d75920'), 'listing_id': 28651212, 'name': 'No available', 'host_name': 'David', 'neighborhood': 'De Baarsjes  OudWest', 'latitude': 52.367938823308265, 'longitude': 4.866656605088739, 'property_type': 'Apartment', 'room_type': 'Entire homeapt', 'price': 3000.0, 'review_scores_rating': 96.0, 'review_scores_accuracy': 9.0, 'review_scores_cleanliness': 10.0, 'review_scores_checkin': 9.0, 'review_scores_communication': 10.0, 'review_scores_location': 9.0, 'review_scores_value': 8.0, 'review_per_month': 4.76, 'date': '2018-10-31', 'comment': 'Appartement trs agrable  vivre trs lumineux et bien quip. Lemplacement permet de bien visiter la ville  pied. Les propritaires sont attentionns et trs arrangeants.'}\n",
      "{'_id': ObjectId('6675ec2420e6600681d75921'), 'listing_id': 28651212, 'name': 'No available', 'host_name': 'David', 'neighborhood': 'De Baarsjes  OudWest', 'latitude': 52.367938823308265, 'longitude': 4.866656605088739, 'property_type': 'Apartment', 'room_type': 'Entire homeapt', 'price': 3000.0, 'review_scores_rating': 96.0, 'review_scores_accuracy': 9.0, 'review_scores_cleanliness': 10.0, 'review_scores_checkin': 9.0, 'review_scores_communication': 10.0, 'review_scores_location': 9.0, 'review_scores_value': 8.0, 'review_per_month': 4.76, 'date': '2018-10-25', 'comment': 'We really enjoyed our stay and found the apartment clean ad airy. We would love to return in the future'}\n",
      "{'_id': ObjectId('6675ec2420e6600681d75922'), 'listing_id': 28651212, 'name': 'No available', 'host_name': 'David', 'neighborhood': 'De Baarsjes  OudWest', 'latitude': 52.367938823308265, 'longitude': 4.866656605088739, 'property_type': 'Apartment', 'room_type': 'Entire homeapt', 'price': 3000.0, 'review_scores_rating': 96.0, 'review_scores_accuracy': 9.0, 'review_scores_cleanliness': 10.0, 'review_scores_checkin': 9.0, 'review_scores_communication': 10.0, 'review_scores_location': 9.0, 'review_scores_value': 8.0, 'review_per_month': 4.76, 'date': '2018-10-23', 'comment': 'David and Aline were fabulous hosts.  They were flexible with our checkin time we had a very early flight arrival provided quick responses to my many questions recommended incredible restaurants to try and the apartment was perfect for a place to rest  get ready for the day.  A positive experience thanks to them'}\n"
     ]
    }
   ],
   "source": [
    "for document in cursor[:10]:\n",
    "    print(document)"
   ]
  },
  {
   "cell_type": "code",
   "execution_count": 28,
   "id": "f534b85b-9ad2-4d2f-a4c5-6d8c7dd744ce",
   "metadata": {},
   "outputs": [],
   "source": [
    "client.drop_database(\"dsbda_project\")"
   ]
  },
  {
   "cell_type": "code",
   "execution_count": 10,
   "id": "67177d53-5e98-470c-89bf-f6dfc793e327",
   "metadata": {},
   "outputs": [
    {
     "name": "stdout",
     "output_type": "stream",
     "text": [
      "{'_id': 'Boat'}\n",
      "{'_id': 'Serviced apartment'}\n",
      "{'_id': 'Hostel'}\n",
      "{'_id': 'Loft'}\n",
      "{'_id': 'Bed and breakfast'}\n",
      "{'_id': 'Cabin'}\n",
      "{'_id': 'Houseboat'}\n",
      "{'_id': 'Guest suite'}\n",
      "{'_id': 'House'}\n",
      "{'_id': 'Condominium'}\n",
      "{'_id': 'Townhouse'}\n",
      "{'_id': 'Apartment'}\n"
     ]
    }
   ],
   "source": [
    "ops = [\n",
    "    { \"$match\": { \"neighborhood\": \"Bos en Lommer\" } },\n",
    "    { \"$group\": {\"_id\" : \"$property_type\" }}\n",
    "]\n",
    "\n",
    "cursor = db.row.aggregate(ops)\n",
    "\n",
    "for document in cursor:\n",
    "    print(document)"
   ]
  },
  {
   "cell_type": "code",
   "execution_count": null,
   "id": "44d4ea8e-449a-4a63-8f28-09d691ce42a2",
   "metadata": {},
   "outputs": [],
   "source": []
  }
 ],
 "metadata": {
  "kernelspec": {
   "display_name": "Python 3 (ipykernel)",
   "language": "python",
   "name": "python3"
  },
  "language_info": {
   "codemirror_mode": {
    "name": "ipython",
    "version": 3
   },
   "file_extension": ".py",
   "mimetype": "text/x-python",
   "name": "python",
   "nbconvert_exporter": "python",
   "pygments_lexer": "ipython3",
   "version": "3.8.10"
  }
 },
 "nbformat": 4,
 "nbformat_minor": 5
}
