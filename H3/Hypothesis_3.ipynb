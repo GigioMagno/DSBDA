{
 "cells": [
  {
   "metadata": {
    "ExecuteTime": {
     "end_time": "2024-06-25T12:57:16.672887Z",
     "start_time": "2024-06-25T12:57:15.416293Z"
    }
   },
   "cell_type": "code",
   "source": [
    "import time\n",
    "\n",
    "import matplotlib.pyplot as plt\n",
    "import pandas as pd\n",
    "from nltk.corpus import stopwords\n",
    "from nltk import WordNetLemmatizer\n",
    "from nltk.sentiment.vader import SentimentIntensityAnalyzer\n",
    "import pickle\n",
    "import nltk\n",
    "import numpy as np\n",
    "from sklearn.feature_extraction.text import CountVectorizer, TfidfVectorizer\n",
    "from sklearn.decomposition import LatentDirichletAllocation\n",
    "\n",
    "nltk.download('stopwords')\n",
    "nltk.download('wordnet')\n",
    "nltk.download('punkt')\n",
    "nltk.download('vader_lexicon')\n",
    "nltk.download('averaged_perceptron_tagger')\n",
    "stop_words = set(stopwords.words('english'))\n",
    "lemmatizer = WordNetLemmatizer()"
   ],
   "id": "8a6324661d41e824",
   "outputs": [
    {
     "name": "stderr",
     "output_type": "stream",
     "text": [
      "[nltk_data] Downloading package stopwords to\n",
      "[nltk_data]     C:\\Users\\flavi\\AppData\\Roaming\\nltk_data...\n",
      "[nltk_data]   Package stopwords is already up-to-date!\n",
      "[nltk_data] Downloading package wordnet to\n",
      "[nltk_data]     C:\\Users\\flavi\\AppData\\Roaming\\nltk_data...\n",
      "[nltk_data]   Package wordnet is already up-to-date!\n",
      "[nltk_data] Downloading package punkt to\n",
      "[nltk_data]     C:\\Users\\flavi\\AppData\\Roaming\\nltk_data...\n",
      "[nltk_data]   Package punkt is already up-to-date!\n",
      "[nltk_data] Downloading package vader_lexicon to\n",
      "[nltk_data]     C:\\Users\\flavi\\AppData\\Roaming\\nltk_data...\n",
      "[nltk_data]   Package vader_lexicon is already up-to-date!\n",
      "[nltk_data] Downloading package averaged_perceptron_tagger to\n",
      "[nltk_data]     C:\\Users\\flavi\\AppData\\Roaming\\nltk_data...\n",
      "[nltk_data]   Package averaged_perceptron_tagger is already up-to-\n",
      "[nltk_data]       date!\n"
     ]
    }
   ],
   "execution_count": 2
  },
  {
   "metadata": {},
   "cell_type": "markdown",
   "source": [
    "# Hypothesis H1 analysis\n",
    "#### This notebook is dedicated to the exploration of the Hypotesis H1\n",
    "This hypothesis has an explorative nature. The main goal is to find out if there exists topics discussed in the reviews by aribnb users that are valued higly by users.\n",
    "To do so we first build a LDA model that is able to extract topics discussed in reviews in an unsupervised way. This was done in a previous script.\n",
    "Reviews are splitted in phrases and for each phrase the greatest topic probability is chosen as a topic score and with sentiment analyisis we give a sentiment score to each phrase. More detail later. The various phrases in a review are combined in a review topic-sentiment matrix. We have tried to predict in which price category an airbnb falls in to using this matrixes to build a predictor."
   ],
   "id": "8dad3d7442358b36"
  },
  {
   "metadata": {},
   "cell_type": "markdown",
   "source": [
    "## Producing the review_topic_sentiment matirx\n",
    "#### As a first thing i copy the methods used to clean and tokenize the reviews. This is done to simulate the ingestion of new reviews."
   ],
   "id": "c82410251a19416e"
  },
  {
   "metadata": {
    "ExecuteTime": {
     "end_time": "2024-06-25T12:57:18.446248Z",
     "start_time": "2024-06-25T12:57:18.389398Z"
    }
   },
   "cell_type": "code",
   "source": [
    "# preprocessing function\n",
    "\n",
    "def preprocess(text):\n",
    "    with open(r'C:\\Users\\flavi\\PycharmProjects\\lda_test\\processed_data\\host_names.pkl', 'rb') as name_file:\n",
    "        host_names = pickle.load(name_file)\n",
    "    tokens = nltk.word_tokenize(text)\n",
    "    tokens = [word for word in tokens if word.isalpha()]\n",
    "    tokens = ['host' if word in host_names else word for word in tokens]\n",
    "    tokens = [lemmatizer.lemmatize(token) for token in tokens if token.lower() not in stop_words]\n",
    "    return ' '.join(tokens)\n",
    "\n",
    "def get_topic(topic_distribution):\n",
    "    return topic_distribution.argmax()\n",
    "\n",
    "\n",
    "# loading the chosen LDA model\n",
    "lda = r'C:\\Users\\flavi\\PycharmProjects\\lda_test\\ldaS\\lda_8_Mdf90_mdf10_100EPOCHS.pkl'\n",
    "print('Loading lda...')\n",
    "with open(lda, 'rb') as lda_file:\n",
    "    LDA = pickle.load(lda_file)\n",
    "\n",
    "# creating the vectorizer \n",
    "vectorizer_file = r'C:\\Users\\flavi\\PycharmProjects\\lda_test\\ldaS\\vectorizer_8_Mdf_90_10_100EPOCHS.pkl'\n",
    "print('Loading vectorizer...')\n",
    "vectorizer = pickle.load(open(vectorizer_file, 'rb'))\n",
    " \n",
    "#vectorizer = CountVectorizer(max_df=0.90, min_df=10, stop_words='english')\n",
    "\n",
    "# loading the vader sentiment analizer\n",
    "\n",
    "sia = SentimentIntensityAnalyzer()"
   ],
   "id": "2a031397362c00b5",
   "outputs": [
    {
     "name": "stdout",
     "output_type": "stream",
     "text": [
      "Loading lda...\n",
      "Loading vectorizer...\n"
     ]
    }
   ],
   "execution_count": 3
  },
  {
   "metadata": {},
   "cell_type": "markdown",
   "source": [
    "#### Here are the strategies used to translate each review in to a matrix\n",
    "1) This first strategy computes as a topic score the probability that a review talks about a given topic. then the review gets splitted in to phrases and once each phrase gets its chosen topic, a sentiment score is applied to it. Now we average the sentiment score per phrase topic and the result of this gets saved as the second column"
   ],
   "id": "f5e765867840cbf1"
  },
  {
   "metadata": {
    "ExecuteTime": {
     "end_time": "2024-06-25T12:57:23.937199Z",
     "start_time": "2024-06-25T12:57:19.594727Z"
    }
   },
   "cell_type": "code",
   "source": [
    "sample_rev = \"\"\"Our stay with Daniel was truly one of the highlights of mine and my partner's whirlwind European tour. Not only was the room smashingly decorated (a great example of modern Dutch living), spotlessly clean and serenely comfortable {think Zen), but having Daniel as a point of reference was our key to discovering the city. From the get-go he freely offered advice whenever we had questions about where to go or what to do in Amsterdam. \n",
    "\n",
    "The room is located at quite a distance from the heart of the city, but we didn't find this hindering. We were able to get to the center in a snap with the two bikes Daniel has available for a minimal charge or via any of the train or bus stops located within a stones throw of his front door. There are plenty of restaurants, cafes and groceries in the area. And staying here is also a great way to see how the locals are living.\n",
    "\n",
    "I would recommend Daniel's residence to anyone looking for a smart, affordable alternative to hotels or hostels. As a gay couple especially we found him extremely welcoming. \n",
    "\n",
    "P.S. You can check my YouTube page for videos of our stay in Amsterdam, which includes a peek into the room: (Website hidden by Airbnb)\"\"\"\n",
    "\n",
    "\n",
    "def get_topic(topic_distribution):\n",
    "    return topic_distribution.argmax()\n",
    "\n",
    "def review_to_matrix_1(text, LDA, vectorizer, sia):\n",
    "    \n",
    "    processed_text = [preprocess(text)]\n",
    "    vect_rev = vectorizer.transform(processed_text)\n",
    "    rev_topic_scores = LDA.transform(vect_rev)\n",
    "    n_of_topics = len(rev_topic_scores[0])\n",
    "    document_matrix = np.zeros((2, n_of_topics))\n",
    "    sentences = nltk.sent_tokenize(text=text, language='english')\n",
    "    max_topic_scores = np.zeros(n_of_topics)\n",
    "    topic_frequency = np.ones(n_of_topics)\n",
    "    topic_sentiment_accumulator = np.zeros(n_of_topics)\n",
    "    for sentence in sentences:\n",
    "        processed_sentence = [preprocess(sentence)]\n",
    "        sentence_topic_scores = LDA.transform(vectorizer.transform(processed_sentence))\n",
    "        topic = get_topic(sentence_topic_scores)\n",
    "        topic_frequency[topic] += 1\n",
    "        #('Current sentence:',sentence)\n",
    "        #print('Topic sentence:', topic)\n",
    "       # print(sentence_topic_scores[0][topic])\n",
    "        if sentence_topic_scores[0][topic] > max_topic_scores[topic]:\n",
    "            max_topic_scores[topic] = sentence_topic_scores[0][topic]\n",
    "        sentiment = sia.polarity_scores(sentence).get('compound')\n",
    "        topic_sentiment_accumulator[topic] += sentiment\n",
    "        #print('Compound sentiment:', sentiment)\n",
    "    document_matrix[0,:] = max_topic_scores\n",
    "    document_matrix[1,:] = topic_sentiment_accumulator/topic_frequency\n",
    "\n",
    "    return document_matrix\n",
    "    \n",
    "\n",
    "    \n",
    "test_rev1_df = pd.DataFrame(review_to_matrix_1(LDA=LDA, vectorizer=vectorizer,text= sample_rev, sia=sia))\n",
    "print(test_rev1_df)"
   ],
   "id": "25bf36a394f63192",
   "outputs": [
    {
     "name": "stdout",
     "output_type": "stream",
     "text": [
      "       0         1    2         3         4         5         6         7\n",
      "0  0.125  0.510183  0.0  0.902688  0.854133  0.700418  0.495911  0.853895\n",
      "1  0.000  0.212300  0.0  0.293600 -0.051033  0.000000  0.389467  0.312450\n"
     ]
    }
   ],
   "execution_count": 4
  },
  {
   "metadata": {},
   "cell_type": "markdown",
   "source": "We migth need to tune vader for our specific use case. If the classifier for the prices ",
   "id": "c9bbf5047ea9ad52"
  },
  {
   "metadata": {},
   "cell_type": "code",
   "outputs": [],
   "execution_count": null,
   "source": [
    "# Connection to mongoDb\n",
    "from pymongo import MongoClient\n",
    "# Connettersi al client MongoDB\n",
    "client = MongoClient('mongodb://localhost:27017/')\n",
    "db = client['dsbda_project']\n",
    "collection = db['row']\n",
    "\n",
    "# RESTRIZIONE APPLICATA AI DATI, per gestire volume\n",
    "data_inizio = \"2009-01-01\"\n",
    "data_fine = \"2018-12-31\"\n",
    "\n",
    "# Query per selezionare i campi specificati\n",
    "query = {\n",
    "    \"date\": {\n",
    "        \"$gte\": data_inizio,\n",
    "        \"$lte\": data_fine\n",
    "    }\n",
    "}\n",
    "\n",
    "# Seleziona i campi desiderati\n",
    "projection = {\n",
    "    \"_id\": 0,  # Escludi il campo _id\n",
    "    \"listing_id\": 1,\n",
    "    \"price\" : 1,\n",
    "    \"name\" : 1,\n",
    "    \"host_name\" : 1,\n",
    "    \"host_id\" : 1,\n",
    "    \"longitude\": 1,\n",
    "    \"latitude\": 1,\n",
    "    \"date\": 1,\n",
    "    \"comment\": 1\n",
    "}\n",
    "\n",
    "cursor = collection.find(query, projection)\n",
    "data = list(cursor)\n",
    "df_reviews_full = pd.DataFrame(data)\n",
    "\n",
    "print(df_reviews_full.head())"
   ],
   "id": "5d269672d823e4ba"
  },
  {
   "metadata": {},
   "cell_type": "markdown",
   "source": [
    "## Classifying the reviews\n",
    "The next step is to classify the reviews for all the documents and for each lising to compute the average review matrix"
   ],
   "id": "be5cc4af8d0f6592"
  },
  {
   "metadata": {
    "ExecuteTime": {
     "end_time": "2024-06-25T12:57:26.385850Z",
     "start_time": "2024-06-25T12:57:24.637470Z"
    }
   },
   "cell_type": "code",
   "source": [
    "import csv\n",
    "# The first thing is to load the dataframe and check if it is correctly loaded.\n",
    "csv_file_path= r'C:\\Users\\flavi\\PycharmProjects\\lda_test\\processed_data\\dataset.csv'\n",
    "df_reviews_full = pd.read_csv(csv_file_path, delimiter=',', quotechar='\"', quoting=csv.QUOTE_MINIMAL)\n",
    "df_reviews_full = df_reviews_full.dropna()\n",
    "df_reviews_full = df_reviews_full.sort_values(by='id')\n",
    "df_reviews_full = df_reviews_full.sample(frac=0.3).reset_index(drop = True) # not a good implementation, maybe changhe it\n",
    "print(df_reviews_full.head(50))"
   ],
   "id": "8fee768e681afb2a",
   "outputs": [
    {
     "name": "stdout",
     "output_type": "stream",
     "text": [
      "    Unnamed: 0        id                                               name  \\\n",
      "0        41010    846281                     Stylish studio in canal house    \n",
      "1       118010   4248769      Citycentre, Canal-house, 5 Star, Room+Ensuite   \n",
      "2        82918   2206038                      Lovely 4p apartment in Center   \n",
      "3         8630    118117           Lovely self contained studio in Oud West   \n",
      "4       128933   4892972                   Stylish, super central apartment   \n",
      "5        80267   2080040             Centrally located apt. near Vondelpark   \n",
      "6       258741  15814593  Modern apt, direct line to popular sights, che...   \n",
      "7       218681  12549908                Luxury family home Amsterdam Oud-Zu   \n",
      "8          870     28658                Cosy guest room near city centre -1   \n",
      "9       330808  25220875   Spacious and Cosy flat in the heart of Amsterdam   \n",
      "10      170912   7814872                       Little House Near the Amstel   \n",
      "11       75064   1863202                         Vondel House, Guest Room 1   \n",
      "12      196583  10098550                  Double room in luminous penthouse   \n",
      "13      146173   6124335                 Private room at very good location   \n",
      "14      107804   3729804                  Sunny wine lovers' place + garden   \n",
      "15      130389   5009598                       Lovely comfortable apartment   \n",
      "16       49904   1025835                 Private room Amsterdam simply good   \n",
      "17      174250   8084800      Houseboat Trijntje, Prinsengracht, Amsterdam,   \n",
      "18       51625   1071414    AMSTEL FAB APART Centre Quiet near Amstel Hotel   \n",
      "19       11970    239647                Central location private attic room   \n",
      "20      113774   4011691                      Museumsquare Luxury Apartment   \n",
      "21       48936   1010056                          Luxury duplex along canal   \n",
      "22      291276  18986818      Cozy, romantic, captain's corner in Amsterdam   \n",
      "23       47444    978852                      Lovely Room in nice apartment   \n",
      "24      230968  13482208  Private studio, shower, wc, great central loca...   \n",
      "25      309084  21008630  Cosy apartment walking distance to the city ce...   \n",
      "26       25447    600983                   floating room on amsterdam canal   \n",
      "27      258850  15826391  Nice apartment in quiet area close to Amstel R...   \n",
      "28      270243  16975861                          Canalhouse private studio   \n",
      "29      283251  18269139  Spacious & modern apartment close to city cent...   \n",
      "30       28372    654931  A-location, ensuite bathroom, centre - Milkmaid -   \n",
      "31      187156   9181640                   Nice room in center of Amsterdam   \n",
      "32      257306  15653533         Bright private rooms | Centre of Amsterdam   \n",
      "33      156344   6803270                 Beautiful 2-storey apt. Vondelpark   \n",
      "34      153922   6616892                  Nice large apartment in Amsterdam   \n",
      "35      278134  17839063  Cosy apartment with garden | edge of the Jordaan!   \n",
      "36      336974  27569498                Newly Renovated Amsterdam Apartment   \n",
      "37       16586    356220  City Centre/Canalzone, comfy, cozy and quiet r...   \n",
      "38      220160  12691805  Nice loft apartment  (15’ by tram to Center Adam)   \n",
      "39      281437  18135424            Beautiful private apartment in hip area   \n",
      "40      214227  12098879                 Spacious apartment near the centre   \n",
      "41      272171  17245058         Cozy studio in vibrant old west + 2 Bikes!   \n",
      "42      288730  18718306                 Entire Apartment with roof terrace   \n",
      "43      207178  11328772                 Basic, nice and clean in \"de pijp\"   \n",
      "44       62768   1406133                       Wonderful 2 floor apartment!   \n",
      "45      109774   3835253                  Amazing appartment  with Jacuzzi!   \n",
      "46      128470   4864384               2-Person Balcony Room + Free Parking   \n",
      "47      250856  15030853         Grote Bickers Apartment 2. Haarlemmerbuurt   \n",
      "48      170726   7812285                Apartment with garden at Vondelpark   \n",
      "49      237362  13929944  Luxurious Apartment in Popular District \"De Pijp\"   \n",
      "\n",
      "     latitude  longitude    price         host_name    host_id  listing_id  \\\n",
      "0   52.375980   4.887675   $85.00          Bastiaan    4418792      846281   \n",
      "1   52.370514   4.902550  $130.00            Gerard   22047244     4248769   \n",
      "2   52.376915   4.861912  $180.00             Merel    6514651     2206038   \n",
      "3   52.368883   4.869548   $87.00   Nina & Benjamin     596513      118117   \n",
      "4   52.355095   4.884252  $155.00             Jutka   20674116     4892972   \n",
      "5   52.354934   4.847173  $130.00             Guido    8226123     2080040   \n",
      "6   52.349422   4.830788   $90.00        BnB-Beheer   39113987    15814593   \n",
      "7   52.353783   4.871543  $220.00             Lilly   17975563    12549908   \n",
      "8   52.375342   4.857289   $65.00           Michele     123414       28658   \n",
      "9   52.365568   4.868008  $280.00           Maurine   14197515    25220875   \n",
      "10  52.346141   4.928205   $81.00          Laetitia   41141933     7814872   \n",
      "11  52.360139   4.865618   $84.00           Wilbert    7261788     1863202   \n",
      "12  52.354954   4.843077   $55.00      Martin&Lauri    8510828    10098550   \n",
      "13  52.375988   4.837928   $80.00              Reza   31662477     6124335   \n",
      "14  52.348165   4.860598   $92.00             Anouk   16863369     3729804   \n",
      "15  52.366313   4.942781  $125.00             Guido   19779116     5009598   \n",
      "16  52.361031   4.975123   $69.00           Michael    3040855     1025835   \n",
      "17  52.361035   4.893565  $200.00     Olaf And Mark   42698391     8084800   \n",
      "18  52.358431   4.907641  $119.00              Joke    5893654     1071414   \n",
      "19  52.364517   4.875873   $86.00              Harm    1232843      239647   \n",
      "20  52.354812   4.881094  $168.00            Jurjen   20800124     4011691   \n",
      "21  52.371131   4.909834  $210.00               Rob    5557171     1010056   \n",
      "22  52.392825   4.887397  $120.00              Dana  131743048    18986818   \n",
      "23  52.373982   4.862960   $76.00           Sjoukje    3879155      978852   \n",
      "24  52.384127   4.879025   $87.00            Helena   33796743    13482208   \n",
      "25  52.361522   4.890499  $110.00            Sjoerd   39861071    21008630   \n",
      "26  52.367156   4.926898   $90.00               Ben    2974208      600983   \n",
      "27  52.350791   4.906997   $91.00  Michiel And Jane    1464510    15826391   \n",
      "28  52.369654   4.914636   $94.00               Bas   61094269    16975861   \n",
      "29  52.406605   4.896428   $80.00             Julia   28802597    18269139   \n",
      "30  52.371457   4.893752   $85.00          Matthijs    3278419      654931   \n",
      "31  52.373622   4.873211   $95.00             Jesse   23060282     9181640   \n",
      "32  52.381930   4.888781  $100.00    Nora & Corinne  101026697    15653533   \n",
      "33  52.360917   4.866083  $289.00           Marlies   35146234     6803270   \n",
      "34  52.343697   4.906699   $99.00           Jessica   34631053     6616892   \n",
      "35  52.373724   4.870110   $95.00            Myrthe   88643333    17839063   \n",
      "36  52.362254   4.924499  $130.00            Annick   20210302    27569498   \n",
      "37  52.359892   4.893966  $120.00            Ingrid    1801815      356220   \n",
      "38  52.352157   4.926298  $100.00           Celeste   17323473    12691805   \n",
      "39  52.373259   4.857807  $120.00             Derek    3495182    18135424   \n",
      "40  52.372363   4.861959   $95.00             Chris   64866261    12098879   \n",
      "41  52.368708   4.872378   $79.00            Wouter  115640292    17245058   \n",
      "42  52.376362   4.875004  $150.00           Martijn  130154926    18718306   \n",
      "43  52.356490   4.891159  $197.00       Alex Allard   47092412    11328772   \n",
      "44  52.364585   4.876128  $138.00             Roger    6632561     1406133   \n",
      "45  52.370279   4.865910  $150.00             Barry   19750278     3835253   \n",
      "46  52.349318   4.787816   $75.00             Klaas   18482089     4864384   \n",
      "47  52.385606   4.890174  $100.00         Cap Homes   13405827    15030853   \n",
      "48  52.356745   4.869118  $240.00             Ernst   41127172     7812285   \n",
      "49  52.357808   4.896627  $277.00             Anton   82770991    13929944   \n",
      "\n",
      "                                             comments  \n",
      "0   This apartment is in the perfect spot. Quiet i...  \n",
      "1   This is the perfect place for a single travele...  \n",
      "2   Merel made us feel so welcome from the moment ...  \n",
      "3   Really nice, clean and well located place. Nin...  \n",
      "4   We had the perfect stay at Jutka's gorgeous ap...  \n",
      "5   Great location right next to the Vondelpark. T...  \n",
      "6   It's a lovely place, in a quiet part of Amster...  \n",
      "7   Lilly was so easy to work with. She got back t...  \n",
      "8   Apartment was very clean, nicely decorated and...  \n",
      "9   Maurine apartment is perfect. It is located a ...  \n",
      "10  She is very nice even more then i expected tha...  \n",
      "11  Fantastic we recommend Vondel house and the ow...  \n",
      "12  We had a good stay at Martin's, we also loved ...  \n",
      "13  There was no question about why Reza is a supe...  \n",
      "14  Thanks Anouk for your hospitality, the flat wa...  \n",
      "15  Great flat, great owner. It is 10 mins to the ...  \n",
      "16                                  It clean and tidy  \n",
      "17  I would recommend staying here to anyone! \\nTh...  \n",
      "18  Joke was brilliant and the flat is nice and ti...  \n",
      "19  I'm grateful to Harm for keeping, and making a...  \n",
      "20  Very convenient to all the main sights and his...  \n",
      "21  This duplex was just perfect for our trip. It'...  \n",
      "22  Staying at Dana's boat is a real experience ! ...  \n",
      "23  Before we left on our trip we were told that a...  \n",
      "24  An accurate depiction of the room and an easy ...  \n",
      "25  This apartment has everything you need when st...  \n",
      "26  It was unforgettable! Ben's apartment located ...  \n",
      "27  Nice place. \\nLocation is great and lovely nei...  \n",
      "28  Bas' place is nothing short of outstanding. He...  \n",
      "29  Great place to stay in Amsterdam! We took the ...  \n",
      "30  Lovely place and lovely hosts!!! I recommend t...  \n",
      "31  Jesse’s place was in a great location. It was ...  \n",
      "32  This is a great find - terrific location, clea...  \n",
      "33  We had a lovely stay at this apartment. We arr...  \n",
      "34  Jessica's place is very comfortable, especiall...  \n",
      "35  Myrthe's hospitality was great. She gave us gr...  \n",
      "36  Annick and her girlfriend were extremely helpf...  \n",
      "37  At Ingrid's house everything was more than per...  \n",
      "38  Without a doubt the best stay we could have ch...  \n",
      "39  It is a real pleasure to have spent the weeken...  \n",
      "40  The apartment Chris has to offer is a great pl...  \n",
      "41  Great place! Looks exactly like the pictures. ...  \n",
      "42  Epic airbnb! Would love to have stayed a few E...  \n",
      "43       Lovely apartment, top hosts, great location   \n",
      "44  We had a wounderfull stay at Roger's Place!! I...  \n",
      "45  Barry si à very nice host..he took time to sho...  \n",
      "46  The accomodation was great (good location, spa...  \n",
      "47  Nice place. I would love to be back here again...  \n",
      "48  This is a great flat that is every bit as good...  \n",
      "49  Anton is an amazing host! Communication was gr...  \n"
     ]
    }
   ],
   "execution_count": 5
  },
  {
   "metadata": {
    "ExecuteTime": {
     "end_time": "2024-06-25T12:57:27.887079Z",
     "start_time": "2024-06-25T12:57:27.861776Z"
    }
   },
   "cell_type": "code",
   "source": [
    "# imports to have a progress bar displayed\n",
    "from tqdm import tqdm\n",
    "from tqdm.auto import tqdm"
   ],
   "id": "5cb4881ba5bc6a2b",
   "outputs": [],
   "execution_count": 6
  },
  {
   "metadata": {
    "ExecuteTime": {
     "end_time": "2024-06-25T15:02:40.469283Z",
     "start_time": "2024-06-25T12:57:28.589377Z"
    }
   },
   "cell_type": "code",
   "source": [
    "# The dataset is sorted on id now we add a column with the review matrix \n",
    "# Now we translate each review in a review matrix\n",
    "print(len(df_reviews_full))\n",
    "print('Processing reviews...')\n",
    "\n",
    "tqdm.pandas()\n",
    "\n",
    "df_reviews_full['rev_matrix'] = df_reviews_full['comments'].progress_apply(review_to_matrix_1,args=(LDA, vectorizer, sia))\n",
    "print(df_reviews_full['rev_matrix'])"
   ],
   "id": "4a2e571dd008438f",
   "outputs": [
    {
     "name": "stdout",
     "output_type": "stream",
     "text": [
      "102043\n",
      "Processing reviews...\n"
     ]
    },
    {
     "data": {
      "text/plain": [
       "  0%|          | 0/102043 [00:00<?, ?it/s]"
      ],
      "application/vnd.jupyter.widget-view+json": {
       "version_major": 2,
       "version_minor": 0,
       "model_id": "f0a39be9bd914c63b17dd0fb6f28a46e"
      }
     },
     "metadata": {},
     "output_type": "display_data"
    },
    {
     "name": "stdout",
     "output_type": "stream",
     "text": [
      "0         [[0.0, 0.0, 0.781112152437849, 0.9124018103622...\n",
      "1         [[0.0, 0.8904492751602125, 0.8540025145138379,...\n",
      "2         [[0.0, 0.0, 0.7080558820992712, 0.488841056583...\n",
      "3         [[0.8540614189967389, 0.0, 0.0, 0.0, 0.0, 0.90...\n",
      "4         [[0.0, 0.0, 0.854067618073787, 0.0, 0.93747997...\n",
      "                                ...                        \n",
      "102038    [[0.0, 0.9027090162476086, 0.7809435923636496,...\n",
      "102039    [[0.0, 0.8904727240951846, 0.8539974798898768,...\n",
      "102040    [[0.0, 0.0, 0.7081126294603026, 0.0, 0.0, 0.0,...\n",
      "102041    [[0.0, 0.0, 0.4490542194471466, 0.596389344014...\n",
      "102042    [[0.781130677356257, 0.0, 0.7080558820992712, ...\n",
      "Name: rev_matrix, Length: 102043, dtype: object\n"
     ]
    }
   ],
   "execution_count": 7
  },
  {
   "metadata": {
    "ExecuteTime": {
     "end_time": "2024-06-22T09:53:18.030967Z",
     "start_time": "2024-06-22T09:53:18.009398Z"
    }
   },
   "cell_type": "code",
   "source": [
    "#save the output csv\n",
    "df_reviews_full.to_csv(r'C:\\Users\\flavi\\PycharmProjects\\lda_test\\processed_data\\dataset_with_rev_matrix.csv')"
   ],
   "id": "1733e7707fee9cd5",
   "outputs": [
    {
     "ename": "NameError",
     "evalue": "name 'df_reviews_full' is not defined",
     "output_type": "error",
     "traceback": [
      "\u001B[1;31m---------------------------------------------------------------------------\u001B[0m",
      "\u001B[1;31mNameError\u001B[0m                                 Traceback (most recent call last)",
      "Cell \u001B[1;32mIn[1], line 2\u001B[0m\n\u001B[0;32m      1\u001B[0m \u001B[38;5;66;03m#save the output csv\u001B[39;00m\n\u001B[1;32m----> 2\u001B[0m \u001B[43mdf_reviews_full\u001B[49m\u001B[38;5;241m.\u001B[39mto_csv(\u001B[38;5;124mr\u001B[39m\u001B[38;5;124m'\u001B[39m\u001B[38;5;124mC:\u001B[39m\u001B[38;5;124m\\\u001B[39m\u001B[38;5;124mUsers\u001B[39m\u001B[38;5;124m\\\u001B[39m\u001B[38;5;124mflavi\u001B[39m\u001B[38;5;124m\\\u001B[39m\u001B[38;5;124mPycharmProjects\u001B[39m\u001B[38;5;124m\\\u001B[39m\u001B[38;5;124mlda_test\u001B[39m\u001B[38;5;124m\\\u001B[39m\u001B[38;5;124mprocessed_data\u001B[39m\u001B[38;5;124m\\\u001B[39m\u001B[38;5;124mdataset_with_rev_matrix.csv\u001B[39m\u001B[38;5;124m'\u001B[39m)\n",
      "\u001B[1;31mNameError\u001B[0m: name 'df_reviews_full' is not defined"
     ]
    }
   ],
   "execution_count": 1
  },
  {
   "metadata": {
    "ExecuteTime": {
     "end_time": "2024-06-25T15:03:02.797426Z",
     "start_time": "2024-06-25T15:02:44.222851Z"
    }
   },
   "cell_type": "code",
   "source": [
    "# Now we compute the average for each airbnb and save the result in a new dataframe\n",
    "tqdm.pandas()\n",
    "def calculate_avg_rev_matrix(x):\n",
    "    return np.mean(np.array(x.tolist()), axis=0)\n",
    "\n",
    "df_avg_reviews = df_reviews_full.groupby('id')['rev_matrix'].progress_apply(calculate_avg_rev_matrix)\n",
    "#print(df_avg_reviews.head(20))\n",
    "\n",
    "df_avg_reviews = df_reviews_full.merge(df_avg_reviews, on='id',suffixes=('','_avg'))\n",
    "\n",
    "#print(df_avg_reviews.head(20))\n",
    "\n",
    "df_avg_reviews['price'] = df_avg_reviews['price'].str.replace(r\"[\\$,]\", \"\", regex = True).astype(float)\n",
    "\n",
    "print(df_avg_reviews.head(10))\n",
    "\n",
    "df_avg_reviews.to_csv(r'C:\\Users\\flavi\\PycharmProjects\\lda_test\\processed_data\\dataset_with_avg_rev_matrix.csv')"
   ],
   "id": "87486dc0160ce846",
   "outputs": [
    {
     "data": {
      "text/plain": [
       "  0%|          | 0/14107 [00:00<?, ?it/s]"
      ],
      "application/vnd.jupyter.widget-view+json": {
       "version_major": 2,
       "version_minor": 0,
       "model_id": "976785ae695d4188b5a934b878312027"
      }
     },
     "metadata": {},
     "output_type": "display_data"
    },
    {
     "name": "stdout",
     "output_type": "stream",
     "text": [
      "   Unnamed: 0        id                                               name  \\\n",
      "0       41010    846281                     Stylish studio in canal house    \n",
      "1      118010   4248769      Citycentre, Canal-house, 5 Star, Room+Ensuite   \n",
      "2       82918   2206038                      Lovely 4p apartment in Center   \n",
      "3        8630    118117           Lovely self contained studio in Oud West   \n",
      "4      128933   4892972                   Stylish, super central apartment   \n",
      "5       80267   2080040             Centrally located apt. near Vondelpark   \n",
      "6      258741  15814593  Modern apt, direct line to popular sights, che...   \n",
      "7      218681  12549908                Luxury family home Amsterdam Oud-Zu   \n",
      "8         870     28658                Cosy guest room near city centre -1   \n",
      "9      330808  25220875   Spacious and Cosy flat in the heart of Amsterdam   \n",
      "\n",
      "    latitude  longitude  price        host_name   host_id  listing_id  \\\n",
      "0  52.375980   4.887675   85.0         Bastiaan   4418792      846281   \n",
      "1  52.370514   4.902550  130.0           Gerard  22047244     4248769   \n",
      "2  52.376915   4.861912  180.0            Merel   6514651     2206038   \n",
      "3  52.368883   4.869548   87.0  Nina & Benjamin    596513      118117   \n",
      "4  52.355095   4.884252  155.0            Jutka  20674116     4892972   \n",
      "5  52.354934   4.847173  130.0            Guido   8226123     2080040   \n",
      "6  52.349422   4.830788   90.0       BnB-Beheer  39113987    15814593   \n",
      "7  52.353783   4.871543  220.0            Lilly  17975563    12549908   \n",
      "8  52.375342   4.857289   65.0          Michele    123414       28658   \n",
      "9  52.365568   4.868008  280.0          Maurine  14197515    25220875   \n",
      "\n",
      "                                            comments  \\\n",
      "0  This apartment is in the perfect spot. Quiet i...   \n",
      "1  This is the perfect place for a single travele...   \n",
      "2  Merel made us feel so welcome from the moment ...   \n",
      "3  Really nice, clean and well located place. Nin...   \n",
      "4  We had the perfect stay at Jutka's gorgeous ap...   \n",
      "5  Great location right next to the Vondelpark. T...   \n",
      "6  It's a lovely place, in a quiet part of Amster...   \n",
      "7  Lilly was so easy to work with. She got back t...   \n",
      "8  Apartment was very clean, nicely decorated and...   \n",
      "9  Maurine apartment is perfect. It is located a ...   \n",
      "\n",
      "                                          rev_matrix  \\\n",
      "0  [[0.0, 0.0, 0.781112152437849, 0.9124018103622...   \n",
      "1  [[0.0, 0.8904492751602125, 0.8540025145138379,...   \n",
      "2  [[0.0, 0.0, 0.7080558820992712, 0.488841056583...   \n",
      "3  [[0.8540614189967389, 0.0, 0.0, 0.0, 0.0, 0.90...   \n",
      "4  [[0.0, 0.0, 0.854067618073787, 0.0, 0.93747997...   \n",
      "5  [[0.5622811021301959, 0.0, 0.8748178878643644,...   \n",
      "6  [[0.5624849619387642, 0.0, 0.0, 0.0, 0.8540422...   \n",
      "7  [[0.6655248266079418, 0.5499686915595313, 0.82...   \n",
      "8  [[0.0, 0.0, 0.7810900593662966, 0.0, 0.6274829...   \n",
      "9  [[0.5339686739183929, 0.0, 0.8540521750240769,...   \n",
      "\n",
      "                                      rev_matrix_avg  \n",
      "0  [[0.18983335974996812, 0.25941635896584925, 0....  \n",
      "1  [[0.26036243795793346, 0.30601132164321543, 0....  \n",
      "2  [[0.5207710727708, 0.17810372634738494, 0.2457...  \n",
      "3  [[0.4075579823197241, 0.2403005474452924, 0.56...  \n",
      "4  [[0.39517640037039053, 0.033989774734164424, 0...  \n",
      "5  [[0.40122793056619216, 0.14864137471416827, 0....  \n",
      "6  [[0.4624408259544705, 0.0, 0.26038360403191185...  \n",
      "7  [[0.5995091404689342, 0.35199769087177213, 0.5...  \n",
      "8  [[0.3564711949750329, 0.47922229679030476, 0.4...  \n",
      "9  [[0.37486544355963675, 0.1676362788579452, 0.8...  \n"
     ]
    }
   ],
   "execution_count": 8
  },
  {
   "metadata": {
    "ExecuteTime": {
     "end_time": "2024-06-25T15:03:03.724077Z",
     "start_time": "2024-06-25T15:03:02.798469Z"
    }
   },
   "cell_type": "code",
   "source": [
    "# Now we want to decide how to bin the prices in order to decide how to best bin them\n",
    "import matplotlib.ticker as ticker\n",
    "\n",
    "price_counts = df_avg_reviews['price'].value_counts()\n",
    "price_counts = price_counts.sort_index()\n",
    "price_counts.plot(kind='bar')\n",
    "plt.title('Price Histogram')\n",
    "plt.xlabel('Prices')\n",
    "plt.ylabel('Price_occurrences')\n",
    "plt.tight_layout()\n",
    "plt.gca().xaxis.set_major_locator(ticker.MaxNLocator(nbins=15)) \n",
    "plt.show()\n",
    "print(price_counts.iloc[0])"
   ],
   "id": "a0ef91e2b97c7800",
   "outputs": [
    {
     "data": {
      "text/plain": [
       "<Figure size 640x480 with 1 Axes>"
      ],
      "image/png": "[encoded data removed]"
     },
     "metadata": {},
     "output_type": "display_data"
    },
    {
     "name": "stdout",
     "output_type": "stream",
     "text": [
      "3\n"
     ]
    }
   ],
   "execution_count": 9
  },
  {
   "metadata": {
    "ExecuteTime": {
     "end_time": "2024-06-25T15:03:07.785699Z",
     "start_time": "2024-06-25T15:03:07.782315Z"
    }
   },
   "cell_type": "code",
   "source": "",
   "id": "9dd295cb8d13d65",
   "outputs": [],
   "execution_count": 9
  },
  {
   "metadata": {
    "ExecuteTime": {
     "end_time": "2024-06-25T15:03:08.470874Z",
     "start_time": "2024-06-25T15:03:08.456797Z"
    }
   },
   "cell_type": "code",
   "source": [
    "prices = df_avg_reviews['price'].unique()\n",
    "prices.sort()\n",
    "print(prices)"
   ],
   "id": "d18f8fb5f0600572",
   "outputs": [
    {
     "name": "stdout",
     "output_type": "stream",
     "text": [
      "[   0.    8.   12.   19.   23.   24.   25.   26.   28.   29.   30.   32.\n",
      "   33.   34.   35.   36.   37.   38.   39.   40.   41.   42.   43.   44.\n",
      "   45.   46.   47.   48.   49.   50.   51.   52.   53.   54.   55.   56.\n",
      "   57.   58.   59.   60.   61.   62.   63.   64.   65.   66.   67.   68.\n",
      "   69.   70.   71.   72.   73.   74.   75.   76.   77.   78.   79.   80.\n",
      "   81.   82.   83.   84.   85.   86.   87.   88.   89.   90.   91.   92.\n",
      "   93.   94.   95.   96.   97.   98.   99.  100.  101.  102.  103.  104.\n",
      "  105.  106.  107.  108.  109.  110.  111.  112.  113.  114.  115.  116.\n",
      "  117.  118.  119.  120.  121.  122.  123.  124.  125.  126.  127.  128.\n",
      "  129.  130.  131.  132.  133.  134.  135.  136.  137.  138.  139.  140.\n",
      "  141.  142.  143.  144.  145.  146.  147.  148.  149.  150.  151.  152.\n",
      "  153.  154.  155.  156.  157.  158.  159.  160.  161.  162.  163.  164.\n",
      "  165.  166.  167.  168.  169.  170.  171.  172.  173.  174.  175.  176.\n",
      "  177.  178.  179.  180.  181.  182.  183.  184.  185.  186.  187.  188.\n",
      "  189.  190.  191.  192.  193.  194.  195.  196.  197.  198.  199.  200.\n",
      "  201.  202.  203.  204.  205.  206.  207.  208.  209.  210.  211.  212.\n",
      "  213.  214.  215.  216.  217.  218.  219.  220.  221.  222.  223.  224.\n",
      "  225.  226.  227.  228.  229.  230.  231.  232.  234.  235.  236.  237.\n",
      "  238.  239.  240.  244.  245.  246.  247.  248.  249.  250.  251.  252.\n",
      "  254.  255.  256.  258.  259.  260.  262.  263.  265.  266.  267.  269.\n",
      "  270.  271.  273.  274.  275.  277.  279.  280.  281.  284.  285.  287.\n",
      "  288.  289.  290.  291.  292.  295.  297.  298.  299.  300.  301.  303.\n",
      "  304.  306.  307.  308.  310.  314.  315.  319.  320.  323.  325.  329.\n",
      "  330.  332.  333.  335.  336.  337.  339.  340.  343.  344.  345.  346.\n",
      "  348.  349.  350.  354.  355.  359.  360.  363.  369.  370.  375.  376.\n",
      "  377.  379.  380.  383.  385.  386.  389.  390.  394.  395.  396.  397.\n",
      "  398.  399.  400.  403.  405.  410.  415.  418.  420.  425.  430.  433.\n",
      "  440.  447.  448.  449.  450.  453.  457.  459.  460.  464.  468.  470.\n",
      "  475.  480.  485.  490.  495.  498.  499.  500.  504.  511.  525.  530.\n",
      "  540.  542.  545.  550.  555.  569.  575.  590.  595.  599.  600.  601.\n",
      "  615.  647.  650.  675.  680.  695.  699.  700.  745.  750.  795.  799.\n",
      "  800.  850.  875.  896.  900.  935.  950.  999. 1000. 1190. 1200. 1600.\n",
      " 3000. 5040. 8000.]\n"
     ]
    }
   ],
   "execution_count": 10
  },
  {
   "metadata": {},
   "cell_type": "markdown",
   "source": [
    "From this plot we are able to extract the bins. We have decided to hand-pick the bins in order to put a more 'human' touch on the price range choice.\n",
    "We also have discarded some absurdly high and absurdly low prices. This is done to remove the ifluence from misleading listings and listing-squatting"
   ],
   "id": "8a9992d8c8d54642"
  },
  {
   "metadata": {
    "ExecuteTime": {
     "end_time": "2024-06-25T15:03:20.044717Z",
     "start_time": "2024-06-25T15:03:20.042004Z"
    }
   },
   "cell_type": "code",
   "source": "",
   "id": "5721970e787eb905",
   "outputs": [],
   "execution_count": 10
  },
  {
   "metadata": {
    "ExecuteTime": {
     "end_time": "2024-06-25T15:46:33.010376Z",
     "start_time": "2024-06-25T15:46:33.003464Z"
    }
   },
   "cell_type": "code",
   "source": [
    "# now we create a function that returns the bin tag given the price\n",
    "bin_tags_1 = ['EXTRA_CHEAP','CHEAP','AFFORDABLE','AVERAGE_PRICE','MID_HIGH','EXPENSIVE','EXTRA_EXPENSIVE','LUXURY']\n",
    "bin_intervals_1 = [(0,35),(35,55),(55,100),(100,150),(150,200),(200,300),(300,450),(450,3000)]\n",
    "\n",
    "bin_tags_2 = ['CHEAP','AFFORDABLE','MID','EXPENSIVE','LUXURY']\n",
    "\n",
    "bin_intervals_2 = [(0,75),(75,200),(200,300),(300,3000)]\n",
    "bin_intervals_3 = [(0,50),(50,70),(70,80),(80,90),(90,95),(95,100),(100,110),(120,130),(130,140),(150,160),(160,170),(170,180),(180,190),(200,300),(300,450),(450,3000)]\n",
    "\n",
    "def price_to_bin_ID(price):\n",
    "    for i, (start, end) in enumerate(bin_intervals_2):\n",
    "        if start <= price < end:\n",
    "            return i\n",
    "    return -1\n",
    "\n",
    "print(bin_tags_2[price_to_bin_ID(90)])\n"
   ],
   "id": "f87c7ace2badb275",
   "outputs": [
    {
     "name": "stdout",
     "output_type": "stream",
     "text": [
      "AFFORDABLE\n"
     ]
    }
   ],
   "execution_count": 53
  },
  {
   "metadata": {
    "ExecuteTime": {
     "end_time": "2024-06-25T15:46:33.818736Z",
     "start_time": "2024-06-25T15:46:33.748225Z"
    }
   },
   "cell_type": "code",
   "source": [
    "# with the price bins defined now we proceed to start cutting the dataframe to prepare it for training\n",
    "\n",
    "useful_columns_1 = ['id','rev_matrix','price']\n",
    "df_cut = df_avg_reviews[useful_columns_1]\n",
    "#print(df_cut.head(10))\n",
    "print(df_cut.shape[0])\n",
    "df_cut['price_bin'] = df_cut['price'].apply(price_to_bin_ID)\n",
    "#df_cut['price_bin'] = pd.qcut(df_cut['price'], q = 5, labels= [0,1,2,3,4])\n",
    "#df_cut['price_bin'] = df_cut.iloc[:,'price'] \n",
    "useful_columns_2 = ['id','rev_matrix','price_bin']\n",
    "df_cut = df_cut[useful_columns_2]\n",
    "df_cut = df_cut.loc[df_cut['price_bin']!=-1]\n",
    "\n",
    "print(df_cut.head(10))\n",
    "print(df_cut.shape[0])\n",
    "elements_per_bin = df_cut['price_bin'].value_counts()\n",
    "print(elements_per_bin)"
   ],
   "id": "dc0836781c6c392",
   "outputs": [
    {
     "name": "stdout",
     "output_type": "stream",
     "text": [
      "102043\n",
      "         id                                         rev_matrix  price_bin\n",
      "0    846281  [[0.0, 0.0, 0.781112152437849, 0.9124018103622...          1\n",
      "1   4248769  [[0.0, 0.8904492751602125, 0.8540025145138379,...          1\n",
      "2   2206038  [[0.0, 0.0, 0.7080558820992712, 0.488841056583...          1\n",
      "3    118117  [[0.8540614189967389, 0.0, 0.0, 0.0, 0.0, 0.90...          1\n",
      "4   4892972  [[0.0, 0.0, 0.854067618073787, 0.0, 0.93747997...          1\n",
      "5   2080040  [[0.5622811021301959, 0.0, 0.8748178878643644,...          1\n",
      "6  15814593  [[0.5624849619387642, 0.0, 0.0, 0.0, 0.8540422...          1\n",
      "7  12549908  [[0.6655248266079418, 0.5499686915595313, 0.82...          2\n",
      "8     28658  [[0.0, 0.0, 0.7810900593662966, 0.0, 0.6274829...          0\n",
      "9  25220875  [[0.5339686739183929, 0.0, 0.8540521750240769,...          2\n",
      "102039\n",
      "price_bin\n",
      "1    72445\n",
      "0    15743\n",
      "2     9883\n",
      "3     3968\n",
      "Name: count, dtype: int64\n"
     ]
    },
    {
     "name": "stderr",
     "output_type": "stream",
     "text": [
      "C:\\Users\\flavi\\AppData\\Local\\Temp\\ipykernel_55100\\4240101277.py:7: SettingWithCopyWarning: \n",
      "A value is trying to be set on a copy of a slice from a DataFrame.\n",
      "Try using .loc[row_indexer,col_indexer] = value instead\n",
      "\n",
      "See the caveats in the documentation: https://pandas.pydata.org/pandas-docs/stable/user_guide/indexing.html#returning-a-view-versus-a-copy\n",
      "  df_cut['price_bin'] = df_cut['price'].apply(price_to_bin_ID)\n"
     ]
    }
   ],
   "execution_count": 54
  },
  {
   "metadata": {},
   "cell_type": "markdown",
   "source": "The next operation is to explode the matrix in the rev_matrix field. The matrix gets flattened by multiplying each value of the first row by the corresponding one in the second row. This is just one strategy to take in to account the weigh of the topic in each review. I could also just use the topic probabilities or the overall sentiment of each topic alone.",
   "id": "9e427262b2a4c93e"
  },
  {
   "metadata": {
    "ExecuteTime": {
     "end_time": "2024-06-25T15:46:35.181255Z",
     "start_time": "2024-06-25T15:46:35.176420Z"
    }
   },
   "cell_type": "code",
   "source": [
    "def multiply_rev_matrix(rev_matrix):\n",
    "    return np.multiply(rev_matrix[0],rev_matrix[1])\n",
    "\n",
    "print('Multiplication test:', multiply_rev_matrix(np.array([[1,2,3,4],[1,2,3,4]])))"
   ],
   "id": "2915a4d4d485e7bc",
   "outputs": [
    {
     "name": "stdout",
     "output_type": "stream",
     "text": [
      "Multiplication test: [ 1  4  9 16]\n"
     ]
    }
   ],
   "execution_count": 55
  },
  {
   "metadata": {
    "ExecuteTime": {
     "end_time": "2024-06-25T15:46:35.610840Z",
     "start_time": "2024-06-25T15:46:35.606734Z"
    }
   },
   "cell_type": "code",
   "source": [
    "def multiply_and_normalize(rev_matrix):\n",
    "    return np.multiply(rev_matrix[0],(rev_matrix[1]+1))"
   ],
   "id": "14a5ae3445ec93c",
   "outputs": [],
   "execution_count": 56
  },
  {
   "metadata": {
    "ExecuteTime": {
     "end_time": "2024-06-25T15:46:36.079579Z",
     "start_time": "2024-06-25T15:46:36.076737Z"
    }
   },
   "cell_type": "code",
   "source": [
    "def just_topic_scores(rev_matrix):\n",
    "    return rev_matrix[0]"
   ],
   "id": "efe75fde34a648fe",
   "outputs": [],
   "execution_count": 57
  },
  {
   "metadata": {
    "ExecuteTime": {
     "end_time": "2024-06-25T15:46:36.528852Z",
     "start_time": "2024-06-25T15:46:36.525285Z"
    }
   },
   "cell_type": "code",
   "source": [
    "def just_sentiment(rev_matrix):\n",
    "    return rev_matrix[1]"
   ],
   "id": "9e5391e860e5c7eb",
   "outputs": [],
   "execution_count": 58
  },
  {
   "metadata": {
    "ExecuteTime": {
     "end_time": "2024-06-25T15:46:37.849554Z",
     "start_time": "2024-06-25T15:46:36.952377Z"
    }
   },
   "cell_type": "code",
   "source": [
    "#print(df_cut.head(10))\n",
    "print(df_cut['rev_matrix'].head(10))\n",
    "#df_cut['rev_matrix'] = df_cut['rev_matrix'].apply(multiply_rev_matrix)\n",
    "#df_cut['rev_matrix'] = df_cut['rev_matrix'].apply(just_sentiment)\n",
    "#df_cut['rev_matrix'] = df_cut['rev_matrix'].apply(just_topic_scores)\n",
    "df_cut['rev_matrix'] = df_cut['rev_matrix'].apply(multiply_and_normalize)\n",
    "print(df_cut.head(10))\n",
    "\n",
    "scores_df = pd.DataFrame(df_cut['rev_matrix'].tolist(),index=df_cut.index)\n",
    "print(scores_df.head(10))\n",
    "\n",
    "scores_df.columns = ['Ts_0','Ts_1','Ts_2','Ts_3','Ts_4','Ts_5','Ts_6','Ts_7']\n",
    "df_cut = pd.concat([df_cut.drop(columns = ['rev_matrix']),scores_df], axis=1)\n",
    "df_cut.to_csv(r'C:\\Users\\flavi\\PycharmProjects\\lda_test\\processed_data\\dataset_for_training_arbitrary_binning.csv')\n",
    "zeros = (df_cut == 0.0).all(axis=1)\n",
    "df_cut = df_cut[~zeros]\n",
    "zeros = df_cut.eq(0.0).any(axis = 1)\n",
    "#df_cut = df_cut[~zeros]\n",
    "print(df_cut.head(10))"
   ],
   "id": "b173657a811f31da",
   "outputs": [
    {
     "name": "stdout",
     "output_type": "stream",
     "text": [
      "0    [[0.0, 0.0, 0.781112152437849, 0.9124018103622...\n",
      "1    [[0.0, 0.8904492751602125, 0.8540025145138379,...\n",
      "2    [[0.0, 0.0, 0.7080558820992712, 0.488841056583...\n",
      "3    [[0.8540614189967389, 0.0, 0.0, 0.0, 0.0, 0.90...\n",
      "4    [[0.0, 0.0, 0.854067618073787, 0.0, 0.93747997...\n",
      "5    [[0.5622811021301959, 0.0, 0.8748178878643644,...\n",
      "6    [[0.5624849619387642, 0.0, 0.0, 0.0, 0.8540422...\n",
      "7    [[0.6655248266079418, 0.5499686915595313, 0.82...\n",
      "8    [[0.0, 0.0, 0.7810900593662966, 0.0, 0.6274829...\n",
      "9    [[0.5339686739183929, 0.0, 0.8540521750240769,...\n",
      "Name: rev_matrix, dtype: object\n",
      "         id                                         rev_matrix  price_bin\n",
      "0    846281  [0.0, 0.0, 1.004471172427452, 1.25108536236873...          1\n",
      "1   4248769  [0.0, 1.1450732453922752, 1.2720367453683616, ...          1\n",
      "2   2206038  [0.0, 0.0, 0.9292879424611885, 0.6342468288643...          1\n",
      "3    118117  [1.2444528936201484, 0.0, 0.0, 0.0, 0.0, 0.902...          1\n",
      "4   4892972  [0.0, 0.0, 1.312872742503025, 0.0, 0.937479972...          1\n",
      "5   2080040  [0.7908483701461205, 0.0, 1.2802084971007108, ...          1\n",
      "6  15814593  [0.5624849619387642, 0.0, 0.0, 0.0, 1.02083664...          1\n",
      "7  12549908  [0.8953971017183248, 0.7088271481165019, 1.127...          2\n",
      "8     28658  [0.0, 0.0, 0.887083980422303, 0.0, 0.857392736...          0\n",
      "9  25220875  [0.7280395884540328, 0.0, 1.1312561597325168, ...          2\n",
      "          0         1         2         3         4         5         6  \\\n",
      "0  0.000000  0.000000  1.004471  1.251085  0.000000  0.000000  0.000000   \n",
      "1  0.000000  1.145073  1.272037  0.962174  0.000000  0.000000  0.000000   \n",
      "2  0.000000  0.000000  0.929288  0.634247  0.993342  0.000000  0.783876   \n",
      "3  1.244453  0.000000  0.000000  0.000000  0.000000  0.902698  0.000000   \n",
      "4  0.000000  0.000000  1.312873  0.000000  0.937480  0.000000  0.000000   \n",
      "5  0.790848  0.000000  1.280208  0.000000  0.591273  0.000000  0.000000   \n",
      "6  0.562485  0.000000  0.000000  0.000000  1.020837  0.000000  0.000000   \n",
      "7  0.895397  0.708827  1.127047  0.680442  0.995514  0.000000  0.000000   \n",
      "8  0.000000  0.000000  0.887084  0.000000  0.857393  0.000000  0.000000   \n",
      "9  0.728040  0.000000  1.131256  0.000000  0.824998  0.000000  0.000000   \n",
      "\n",
      "          7  \n",
      "0  0.480494  \n",
      "1  0.000000  \n",
      "2  0.000000  \n",
      "3  0.000000  \n",
      "4  1.049541  \n",
      "5  0.000000  \n",
      "6  0.000000  \n",
      "7  0.708247  \n",
      "8  0.000000  \n",
      "9  0.488945  \n",
      "         id  price_bin      Ts_0      Ts_1      Ts_2      Ts_3      Ts_4  \\\n",
      "0    846281          1  0.000000  0.000000  1.004471  1.251085  0.000000   \n",
      "1   4248769          1  0.000000  1.145073  1.272037  0.962174  0.000000   \n",
      "2   2206038          1  0.000000  0.000000  0.929288  0.634247  0.993342   \n",
      "3    118117          1  1.244453  0.000000  0.000000  0.000000  0.000000   \n",
      "4   4892972          1  0.000000  0.000000  1.312873  0.000000  0.937480   \n",
      "5   2080040          1  0.790848  0.000000  1.280208  0.000000  0.591273   \n",
      "6  15814593          1  0.562485  0.000000  0.000000  0.000000  1.020837   \n",
      "7  12549908          2  0.895397  0.708827  1.127047  0.680442  0.995514   \n",
      "8     28658          0  0.000000  0.000000  0.887084  0.000000  0.857393   \n",
      "9  25220875          2  0.728040  0.000000  1.131256  0.000000  0.824998   \n",
      "\n",
      "       Ts_5      Ts_6      Ts_7  \n",
      "0  0.000000  0.000000  0.480494  \n",
      "1  0.000000  0.000000  0.000000  \n",
      "2  0.000000  0.783876  0.000000  \n",
      "3  0.902698  0.000000  0.000000  \n",
      "4  0.000000  0.000000  1.049541  \n",
      "5  0.000000  0.000000  0.000000  \n",
      "6  0.000000  0.000000  0.000000  \n",
      "7  0.000000  0.000000  0.708247  \n",
      "8  0.000000  0.000000  0.000000  \n",
      "9  0.000000  0.000000  0.488945  \n"
     ]
    }
   ],
   "execution_count": 59
  },
  {
   "metadata": {
    "ExecuteTime": {
     "end_time": "2024-06-25T15:46:37.921583Z",
     "start_time": "2024-06-25T15:46:37.913629Z"
    }
   },
   "cell_type": "code",
   "source": [
    "print(df_cut.head(10))\n",
    "print(df_cut.shape[0])"
   ],
   "id": "46a86b9ad4a7ad6c",
   "outputs": [
    {
     "name": "stdout",
     "output_type": "stream",
     "text": [
      "         id  price_bin      Ts_0      Ts_1      Ts_2      Ts_3      Ts_4  \\\n",
      "0    846281          1  0.000000  0.000000  1.004471  1.251085  0.000000   \n",
      "1   4248769          1  0.000000  1.145073  1.272037  0.962174  0.000000   \n",
      "2   2206038          1  0.000000  0.000000  0.929288  0.634247  0.993342   \n",
      "3    118117          1  1.244453  0.000000  0.000000  0.000000  0.000000   \n",
      "4   4892972          1  0.000000  0.000000  1.312873  0.000000  0.937480   \n",
      "5   2080040          1  0.790848  0.000000  1.280208  0.000000  0.591273   \n",
      "6  15814593          1  0.562485  0.000000  0.000000  0.000000  1.020837   \n",
      "7  12549908          2  0.895397  0.708827  1.127047  0.680442  0.995514   \n",
      "8     28658          0  0.000000  0.000000  0.887084  0.000000  0.857393   \n",
      "9  25220875          2  0.728040  0.000000  1.131256  0.000000  0.824998   \n",
      "\n",
      "       Ts_5      Ts_6      Ts_7  \n",
      "0  0.000000  0.000000  0.480494  \n",
      "1  0.000000  0.000000  0.000000  \n",
      "2  0.000000  0.783876  0.000000  \n",
      "3  0.902698  0.000000  0.000000  \n",
      "4  0.000000  0.000000  1.049541  \n",
      "5  0.000000  0.000000  0.000000  \n",
      "6  0.000000  0.000000  0.000000  \n",
      "7  0.000000  0.000000  0.708247  \n",
      "8  0.000000  0.000000  0.000000  \n",
      "9  0.000000  0.000000  0.488945  \n",
      "102039\n"
     ]
    }
   ],
   "execution_count": 60
  },
  {
   "metadata": {},
   "cell_type": "markdown",
   "source": "Now we could try different techniques to fit the model I am splitting the dataset with a 80, 20 configuration",
   "id": "2c4448b21f0188b3"
  },
  {
   "metadata": {
    "ExecuteTime": {
     "end_time": "2024-06-25T15:46:39.026745Z",
     "start_time": "2024-06-25T15:46:39.007485Z"
    }
   },
   "cell_type": "code",
   "source": [
    "# Balancing the dataset \n",
    "from sklearn.utils import resample\n",
    "\n",
    "min_class = df_cut['price_bin'].value_counts().min()\n",
    "\n",
    "balanced_data = []\n",
    "\n",
    "for cls in df_cut['price_bin'].unique():\n",
    "    cls_subset = df_cut[df_cut['price_bin'] == cls]\n",
    "    cls_downsampled = resample(cls_subset, replace= False, n_samples= min_class, random_state= 34)\n",
    "    balanced_data.append(cls_downsampled)\n",
    "    \n",
    "df_cut=pd.concat(balanced_data)"
   ],
   "id": "cd53c08ab20c72aa",
   "outputs": [],
   "execution_count": 61
  },
  {
   "metadata": {
    "ExecuteTime": {
     "end_time": "2024-06-25T15:46:40.002851Z",
     "start_time": "2024-06-25T15:46:39.990398Z"
    }
   },
   "cell_type": "code",
   "source": [
    "Train_80 = df_cut.sample(frac = 0.8)\n",
    "Xt_df = Train_80[['Ts_0','Ts_1','Ts_2','Ts_3','Ts_4','Ts_5','Ts_6','Ts_7']]\n",
    "Xt = Xt_df.to_numpy()\n",
    "Yt = Train_80['price_bin'].to_numpy()\n",
    "print(Xt)\n",
    "print(Yt)\n",
    "Test_20 = df_cut.drop(Train_80.index)\n",
    "Xtest = Test_20[['Ts_0','Ts_1','Ts_2','Ts_3','Ts_4','Ts_5','Ts_6','Ts_7']].to_numpy()\n",
    "Ytest = Test_20['price_bin'].to_numpy()"
   ],
   "id": "e146e4c1115a9a95",
   "outputs": [
    {
     "name": "stdout",
     "output_type": "stream",
     "text": [
      "[[0.         0.99829384 1.19820794 ... 0.60729133 0.         0.        ]\n",
      " [0.         0.         0.94124366 ... 0.         0.         0.        ]\n",
      " [0.         0.         1.08719545 ... 0.         0.         0.        ]\n",
      " ...\n",
      " [0.68026723 0.         0.99212516 ... 0.         0.         0.        ]\n",
      " [0.68026723 0.         0.89368635 ... 0.         0.58881101 0.92051803]\n",
      " [0.         0.         1.39930298 ... 1.24031598 0.         0.        ]]\n",
      "[0 0 3 ... 1 3 2]\n"
     ]
    }
   ],
   "execution_count": 62
  },
  {
   "metadata": {
    "ExecuteTime": {
     "end_time": "2024-06-25T15:46:41.338951Z",
     "start_time": "2024-06-25T15:46:40.860443Z"
    }
   },
   "cell_type": "code",
   "source": [
    "#investigating the correlation\n",
    "from statsmodels.stats.outliers_influence import variance_inflation_factor\n",
    "import seaborn as sns\n",
    "\n",
    "sns_plot = sns.clustermap(Xt_df.corr(), cmap=\"rocket_r\")\n",
    "vif_data = pd.DataFrame()\n",
    "vif_data[\"Feature\"] = Xt_df.columns\n",
    "vif_data[\"VIF\"] = [variance_inflation_factor(Xt_df.values, i) for i in range(len(Xt_df.columns))]\n",
    "\n",
    "print(vif_data)"
   ],
   "id": "c8b85918cea01ddf",
   "outputs": [
    {
     "name": "stdout",
     "output_type": "stream",
     "text": [
      "  Feature       VIF\n",
      "0    Ts_0  1.341323\n",
      "1    Ts_1  1.238543\n",
      "2    Ts_2  1.785182\n",
      "3    Ts_3  1.432795\n",
      "4    Ts_4  1.641438\n",
      "5    Ts_5  1.338737\n",
      "6    Ts_6  1.409673\n",
      "7    Ts_7  1.481722\n"
     ]
    },
    {
     "data": {
      "text/plain": [
       "<Figure size 1000x1000 with 4 Axes>"
      ],
      "image/png": "[encoded data removed]"
     },
     "metadata": {},
     "output_type": "display_data"
    }
   ],
   "execution_count": 63
  },
  {
   "metadata": {},
   "cell_type": "markdown",
   "source": "Let's try with randoom forest! ",
   "id": "822a0a6a00cb065d"
  },
  {
   "metadata": {
    "ExecuteTime": {
     "end_time": "2024-06-25T15:49:46.706601Z",
     "start_time": "2024-06-25T15:49:46.630968Z"
    }
   },
   "cell_type": "code",
   "source": [
    "from sklearn.datasets import load_iris\n",
    "from sklearn.model_selection import train_test_split\n",
    "from sklearn.ensemble import RandomForestClassifier\n",
    "from sklearn.metrics import accuracy_score, classification_report\n",
    "from sklearn.preprocessing import StandardScaler\n",
    "from sklearn.preprocessing import MaxAbsScaler\n",
    "\n",
    "scaler = StandardScaler()\n",
    "Xt = scaler.fit_transform(Xt)\n",
    "print(Xt)\n",
    "Xtest = scaler.fit_transform(Xtest)\n",
    "print(Xtest)\n",
    "\n",
    "print('Number of training samples: ',Xt.shape[0])\n",
    "\n",
    "rf_classifier = RandomForestClassifier(n_estimators=10,random_state=42, n_jobs=-1)\n",
    "rf_classifier.fit(Xt,Yt)\n"
   ],
   "id": "4a03f01603098742",
   "outputs": [
    {
     "name": "stdout",
     "output_type": "stream",
     "text": [
      "[[-0.79710912  1.59687514  0.98116145 ...  1.21605097 -0.56314187\n",
      "  -0.73456391]\n",
      " [-0.79710912 -0.65231707  0.47786581 ... -0.5428084  -0.56314187\n",
      "  -0.73456391]\n",
      " [-0.79710912 -0.65231707  0.76373005 ... -0.5428084  -0.56314187\n",
      "  -0.73456391]\n",
      " ...\n",
      " [ 0.62136626 -0.65231707  0.57752337 ... -0.5428084  -0.56314187\n",
      "  -0.73456391]\n",
      " [ 0.62136626 -0.65231707  0.38471906 ... -0.5428084   0.92039341\n",
      "   1.19647983]\n",
      " [-0.79710912 -0.65231707  1.37503045 ...  3.04944012 -0.56314187\n",
      "  -0.73456391]]\n",
      "[[-0.79985339 -0.65660425  0.81813972 ... -0.50856436 -0.54498351\n",
      "   1.78692051]\n",
      " [ 1.59492097 -0.65660425  1.26356717 ... -0.50856436 -0.54498351\n",
      "  -0.74143176]\n",
      " [-0.79985339 -0.65660425  0.98339574 ... -0.50856436 -0.54498351\n",
      "  -0.74143176]\n",
      " ...\n",
      " [ 1.68345145 -0.65660425  0.22590581 ... -0.50856436 -0.54498351\n",
      "  -0.74143176]\n",
      " [ 0.2494115  -0.65660425 -1.37957976 ...  1.94502326  1.6054833\n",
      "  -0.74143176]\n",
      " [-0.79985339 -0.65660425 -1.37957976 ...  1.8354053  -0.54498351\n",
      "  -0.74143176]]\n",
      "Number of training samples:  12698\n"
     ]
    },
    {
     "data": {
      "text/plain": [
       "RandomForestClassifier(n_estimators=10, n_jobs=-1, random_state=42)"
      ],
      "text/html": [
       "<style>#sk-container-id-7 {\n",
       "  /* Definition of color scheme common for light and dark mode */\n",
       "  --sklearn-color-text: black;\n",
       "  --sklearn-color-line: gray;\n",
       "  /* Definition of color scheme for unfitted estimators */\n",
       "  --sklearn-color-unfitted-level-0: #fff5e6;\n",
       "  --sklearn-color-unfitted-level-1: #f6e4d2;\n",
       "  --sklearn-color-unfitted-level-2: #ffe0b3;\n",
       "  --sklearn-color-unfitted-level-3: chocolate;\n",
       "  /* Definition of color scheme for fitted estimators */\n",
       "  --sklearn-color-fitted-level-0: #f0f8ff;\n",
       "  --sklearn-color-fitted-level-1: #d4ebff;\n",
       "  --sklearn-color-fitted-level-2: #b3dbfd;\n",
       "  --sklearn-color-fitted-level-3: cornflowerblue;\n",
       "\n",
       "  /* Specific color for light theme */\n",
       "  --sklearn-color-text-on-default-background: var(--sg-text-color, var(--theme-code-foreground, var(--jp-content-font-color1, black)));\n",
       "  --sklearn-color-background: var(--sg-background-color, var(--theme-background, var(--jp-layout-color0, white)));\n",
       "  --sklearn-color-border-box: var(--sg-text-color, var(--theme-code-foreground, var(--jp-content-font-color1, black)));\n",
       "  --sklearn-color-icon: #696969;\n",
       "\n",
       "  @media (prefers-color-scheme: dark) {\n",
       "    /* Redefinition of color scheme for dark theme */\n",
       "    --sklearn-color-text-on-default-background: var(--sg-text-color, var(--theme-code-foreground, var(--jp-content-font-color1, white)));\n",
       "    --sklearn-color-background: var(--sg-background-color, var(--theme-background, var(--jp-layout-color0, #111)));\n",
       "    --sklearn-color-border-box: var(--sg-text-color, var(--theme-code-foreground, var(--jp-content-font-color1, white)));\n",
       "    --sklearn-color-icon: #878787;\n",
       "  }\n",
       "}\n",
       "\n",
       "#sk-container-id-7 {\n",
       "  color: var(--sklearn-color-text);\n",
       "}\n",
       "\n",
       "#sk-container-id-7 pre {\n",
       "  padding: 0;\n",
       "}\n",
       "\n",
       "#sk-container-id-7 input.sk-hidden--visually {\n",
       "  border: 0;\n",
       "  clip: rect(1px 1px 1px 1px);\n",
       "  clip: rect(1px, 1px, 1px, 1px);\n",
       "  height: 1px;\n",
       "  margin: -1px;\n",
       "  overflow: hidden;\n",
       "  padding: 0;\n",
       "  position: absolute;\n",
       "  width: 1px;\n",
       "}\n",
       "\n",
       "#sk-container-id-7 div.sk-dashed-wrapped {\n",
       "  border: 1px dashed var(--sklearn-color-line);\n",
       "  margin: 0 0.4em 0.5em 0.4em;\n",
       "  box-sizing: border-box;\n",
       "  padding-bottom: 0.4em;\n",
       "  background-color: var(--sklearn-color-background);\n",
       "}\n",
       "\n",
       "#sk-container-id-7 div.sk-container {\n",
       "  /* jupyter's `normalize.less` sets `[hidden] { display: none; }`\n",
       "     but bootstrap.min.css set `[hidden] { display: none !important; }`\n",
       "     so we also need the `!important` here to be able to override the\n",
       "     default hidden behavior on the sphinx rendered scikit-learn.org.\n",
       "     See: https://github.com/scikit-learn/scikit-learn/issues/21755 */\n",
       "  display: inline-block !important;\n",
       "  position: relative;\n",
       "}\n",
       "\n",
       "#sk-container-id-7 div.sk-text-repr-fallback {\n",
       "  display: none;\n",
       "}\n",
       "\n",
       "div.sk-parallel-item,\n",
       "div.sk-serial,\n",
       "div.sk-item {\n",
       "  /* draw centered vertical line to link estimators */\n",
       "  background-image: linear-gradient(var(--sklearn-color-text-on-default-background), var(--sklearn-color-text-on-default-background));\n",
       "  background-size: 2px 100%;\n",
       "  background-repeat: no-repeat;\n",
       "  background-position: center center;\n",
       "}\n",
       "\n",
       "/* Parallel-specific style estimator block */\n",
       "\n",
       "#sk-container-id-7 div.sk-parallel-item::after {\n",
       "  content: \"\";\n",
       "  width: 100%;\n",
       "  border-bottom: 2px solid var(--sklearn-color-text-on-default-background);\n",
       "  flex-grow: 1;\n",
       "}\n",
       "\n",
       "#sk-container-id-7 div.sk-parallel {\n",
       "  display: flex;\n",
       "  align-items: stretch;\n",
       "  justify-content: center;\n",
       "  background-color: var(--sklearn-color-background);\n",
       "  position: relative;\n",
       "}\n",
       "\n",
       "#sk-container-id-7 div.sk-parallel-item {\n",
       "  display: flex;\n",
       "  flex-direction: column;\n",
       "}\n",
       "\n",
       "#sk-container-id-7 div.sk-parallel-item:first-child::after {\n",
       "  align-self: flex-end;\n",
       "  width: 50%;\n",
       "}\n",
       "\n",
       "#sk-container-id-7 div.sk-parallel-item:last-child::after {\n",
       "  align-self: flex-start;\n",
       "  width: 50%;\n",
       "}\n",
       "\n",
       "#sk-container-id-7 div.sk-parallel-item:only-child::after {\n",
       "  width: 0;\n",
       "}\n",
       "\n",
       "/* Serial-specific style estimator block */\n",
       "\n",
       "#sk-container-id-7 div.sk-serial {\n",
       "  display: flex;\n",
       "  flex-direction: column;\n",
       "  align-items: center;\n",
       "  background-color: var(--sklearn-color-background);\n",
       "  padding-right: 1em;\n",
       "  padding-left: 1em;\n",
       "}\n",
       "\n",
       "\n",
       "/* Toggleable style: style used for estimator/Pipeline/ColumnTransformer box that is\n",
       "clickable and can be expanded/collapsed.\n",
       "- Pipeline and ColumnTransformer use this feature and define the default style\n",
       "- Estimators will overwrite some part of the style using the `sk-estimator` class\n",
       "*/\n",
       "\n",
       "/* Pipeline and ColumnTransformer style (default) */\n",
       "\n",
       "#sk-container-id-7 div.sk-toggleable {\n",
       "  /* Default theme specific background. It is overwritten whether we have a\n",
       "  specific estimator or a Pipeline/ColumnTransformer */\n",
       "  background-color: var(--sklearn-color-background);\n",
       "}\n",
       "\n",
       "/* Toggleable label */\n",
       "#sk-container-id-7 label.sk-toggleable__label {\n",
       "  cursor: pointer;\n",
       "  display: block;\n",
       "  width: 100%;\n",
       "  margin-bottom: 0;\n",
       "  padding: 0.5em;\n",
       "  box-sizing: border-box;\n",
       "  text-align: center;\n",
       "}\n",
       "\n",
       "#sk-container-id-7 label.sk-toggleable__label-arrow:before {\n",
       "  /* Arrow on the left of the label */\n",
       "  content: \"▸\";\n",
       "  float: left;\n",
       "  margin-right: 0.25em;\n",
       "  color: var(--sklearn-color-icon);\n",
       "}\n",
       "\n",
       "#sk-container-id-7 label.sk-toggleable__label-arrow:hover:before {\n",
       "  color: var(--sklearn-color-text);\n",
       "}\n",
       "\n",
       "/* Toggleable content - dropdown */\n",
       "\n",
       "#sk-container-id-7 div.sk-toggleable__content {\n",
       "  max-height: 0;\n",
       "  max-width: 0;\n",
       "  overflow: hidden;\n",
       "  text-align: left;\n",
       "  /* unfitted */\n",
       "  background-color: var(--sklearn-color-unfitted-level-0);\n",
       "}\n",
       "\n",
       "#sk-container-id-7 div.sk-toggleable__content.fitted {\n",
       "  /* fitted */\n",
       "  background-color: var(--sklearn-color-fitted-level-0);\n",
       "}\n",
       "\n",
       "#sk-container-id-7 div.sk-toggleable__content pre {\n",
       "  margin: 0.2em;\n",
       "  border-radius: 0.25em;\n",
       "  color: var(--sklearn-color-text);\n",
       "  /* unfitted */\n",
       "  background-color: var(--sklearn-color-unfitted-level-0);\n",
       "}\n",
       "\n",
       "#sk-container-id-7 div.sk-toggleable__content.fitted pre {\n",
       "  /* unfitted */\n",
       "  background-color: var(--sklearn-color-fitted-level-0);\n",
       "}\n",
       "\n",
       "#sk-container-id-7 input.sk-toggleable__control:checked~div.sk-toggleable__content {\n",
       "  /* Expand drop-down */\n",
       "  max-height: 200px;\n",
       "  max-width: 100%;\n",
       "  overflow: auto;\n",
       "}\n",
       "\n",
       "#sk-container-id-7 input.sk-toggleable__control:checked~label.sk-toggleable__label-arrow:before {\n",
       "  content: \"▾\";\n",
       "}\n",
       "\n",
       "/* Pipeline/ColumnTransformer-specific style */\n",
       "\n",
       "#sk-container-id-7 div.sk-label input.sk-toggleable__control:checked~label.sk-toggleable__label {\n",
       "  color: var(--sklearn-color-text);\n",
       "  background-color: var(--sklearn-color-unfitted-level-2);\n",
       "}\n",
       "\n",
       "#sk-container-id-7 div.sk-label.fitted input.sk-toggleable__control:checked~label.sk-toggleable__label {\n",
       "  background-color: var(--sklearn-color-fitted-level-2);\n",
       "}\n",
       "\n",
       "/* Estimator-specific style */\n",
       "\n",
       "/* Colorize estimator box */\n",
       "#sk-container-id-7 div.sk-estimator input.sk-toggleable__control:checked~label.sk-toggleable__label {\n",
       "  /* unfitted */\n",
       "  background-color: var(--sklearn-color-unfitted-level-2);\n",
       "}\n",
       "\n",
       "#sk-container-id-7 div.sk-estimator.fitted input.sk-toggleable__control:checked~label.sk-toggleable__label {\n",
       "  /* fitted */\n",
       "  background-color: var(--sklearn-color-fitted-level-2);\n",
       "}\n",
       "\n",
       "#sk-container-id-7 div.sk-label label.sk-toggleable__label,\n",
       "#sk-container-id-7 div.sk-label label {\n",
       "  /* The background is the default theme color */\n",
       "  color: var(--sklearn-color-text-on-default-background);\n",
       "}\n",
       "\n",
       "/* On hover, darken the color of the background */\n",
       "#sk-container-id-7 div.sk-label:hover label.sk-toggleable__label {\n",
       "  color: var(--sklearn-color-text);\n",
       "  background-color: var(--sklearn-color-unfitted-level-2);\n",
       "}\n",
       "\n",
       "/* Label box, darken color on hover, fitted */\n",
       "#sk-container-id-7 div.sk-label.fitted:hover label.sk-toggleable__label.fitted {\n",
       "  color: var(--sklearn-color-text);\n",
       "  background-color: var(--sklearn-color-fitted-level-2);\n",
       "}\n",
       "\n",
       "/* Estimator label */\n",
       "\n",
       "#sk-container-id-7 div.sk-label label {\n",
       "  font-family: monospace;\n",
       "  font-weight: bold;\n",
       "  display: inline-block;\n",
       "  line-height: 1.2em;\n",
       "}\n",
       "\n",
       "#sk-container-id-7 div.sk-label-container {\n",
       "  text-align: center;\n",
       "}\n",
       "\n",
       "/* Estimator-specific */\n",
       "#sk-container-id-7 div.sk-estimator {\n",
       "  font-family: monospace;\n",
       "  border: 1px dotted var(--sklearn-color-border-box);\n",
       "  border-radius: 0.25em;\n",
       "  box-sizing: border-box;\n",
       "  margin-bottom: 0.5em;\n",
       "  /* unfitted */\n",
       "  background-color: var(--sklearn-color-unfitted-level-0);\n",
       "}\n",
       "\n",
       "#sk-container-id-7 div.sk-estimator.fitted {\n",
       "  /* fitted */\n",
       "  background-color: var(--sklearn-color-fitted-level-0);\n",
       "}\n",
       "\n",
       "/* on hover */\n",
       "#sk-container-id-7 div.sk-estimator:hover {\n",
       "  /* unfitted */\n",
       "  background-color: var(--sklearn-color-unfitted-level-2);\n",
       "}\n",
       "\n",
       "#sk-container-id-7 div.sk-estimator.fitted:hover {\n",
       "  /* fitted */\n",
       "  background-color: var(--sklearn-color-fitted-level-2);\n",
       "}\n",
       "\n",
       "/* Specification for estimator info (e.g. \"i\" and \"?\") */\n",
       "\n",
       "/* Common style for \"i\" and \"?\" */\n",
       "\n",
       ".sk-estimator-doc-link,\n",
       "a:link.sk-estimator-doc-link,\n",
       "a:visited.sk-estimator-doc-link {\n",
       "  float: right;\n",
       "  font-size: smaller;\n",
       "  line-height: 1em;\n",
       "  font-family: monospace;\n",
       "  background-color: var(--sklearn-color-background);\n",
       "  border-radius: 1em;\n",
       "  height: 1em;\n",
       "  width: 1em;\n",
       "  text-decoration: none !important;\n",
       "  margin-left: 1ex;\n",
       "  /* unfitted */\n",
       "  border: var(--sklearn-color-unfitted-level-1) 1pt solid;\n",
       "  color: var(--sklearn-color-unfitted-level-1);\n",
       "}\n",
       "\n",
       ".sk-estimator-doc-link.fitted,\n",
       "a:link.sk-estimator-doc-link.fitted,\n",
       "a:visited.sk-estimator-doc-link.fitted {\n",
       "  /* fitted */\n",
       "  border: var(--sklearn-color-fitted-level-1) 1pt solid;\n",
       "  color: var(--sklearn-color-fitted-level-1);\n",
       "}\n",
       "\n",
       "/* On hover */\n",
       "div.sk-estimator:hover .sk-estimator-doc-link:hover,\n",
       ".sk-estimator-doc-link:hover,\n",
       "div.sk-label-container:hover .sk-estimator-doc-link:hover,\n",
       ".sk-estimator-doc-link:hover {\n",
       "  /* unfitted */\n",
       "  background-color: var(--sklearn-color-unfitted-level-3);\n",
       "  color: var(--sklearn-color-background);\n",
       "  text-decoration: none;\n",
       "}\n",
       "\n",
       "div.sk-estimator.fitted:hover .sk-estimator-doc-link.fitted:hover,\n",
       ".sk-estimator-doc-link.fitted:hover,\n",
       "div.sk-label-container:hover .sk-estimator-doc-link.fitted:hover,\n",
       ".sk-estimator-doc-link.fitted:hover {\n",
       "  /* fitted */\n",
       "  background-color: var(--sklearn-color-fitted-level-3);\n",
       "  color: var(--sklearn-color-background);\n",
       "  text-decoration: none;\n",
       "}\n",
       "\n",
       "/* Span, style for the box shown on hovering the info icon */\n",
       ".sk-estimator-doc-link span {\n",
       "  display: none;\n",
       "  z-index: 9999;\n",
       "  position: relative;\n",
       "  font-weight: normal;\n",
       "  right: .2ex;\n",
       "  padding: .5ex;\n",
       "  margin: .5ex;\n",
       "  width: min-content;\n",
       "  min-width: 20ex;\n",
       "  max-width: 50ex;\n",
       "  color: var(--sklearn-color-text);\n",
       "  box-shadow: 2pt 2pt 4pt #999;\n",
       "  /* unfitted */\n",
       "  background: var(--sklearn-color-unfitted-level-0);\n",
       "  border: .5pt solid var(--sklearn-color-unfitted-level-3);\n",
       "}\n",
       "\n",
       ".sk-estimator-doc-link.fitted span {\n",
       "  /* fitted */\n",
       "  background: var(--sklearn-color-fitted-level-0);\n",
       "  border: var(--sklearn-color-fitted-level-3);\n",
       "}\n",
       "\n",
       ".sk-estimator-doc-link:hover span {\n",
       "  display: block;\n",
       "}\n",
       "\n",
       "/* \"?\"-specific style due to the `<a>` HTML tag */\n",
       "\n",
       "#sk-container-id-7 a.estimator_doc_link {\n",
       "  float: right;\n",
       "  font-size: 1rem;\n",
       "  line-height: 1em;\n",
       "  font-family: monospace;\n",
       "  background-color: var(--sklearn-color-background);\n",
       "  border-radius: 1rem;\n",
       "  height: 1rem;\n",
       "  width: 1rem;\n",
       "  text-decoration: none;\n",
       "  /* unfitted */\n",
       "  color: var(--sklearn-color-unfitted-level-1);\n",
       "  border: var(--sklearn-color-unfitted-level-1) 1pt solid;\n",
       "}\n",
       "\n",
       "#sk-container-id-7 a.estimator_doc_link.fitted {\n",
       "  /* fitted */\n",
       "  border: var(--sklearn-color-fitted-level-1) 1pt solid;\n",
       "  color: var(--sklearn-color-fitted-level-1);\n",
       "}\n",
       "\n",
       "/* On hover */\n",
       "#sk-container-id-7 a.estimator_doc_link:hover {\n",
       "  /* unfitted */\n",
       "  background-color: var(--sklearn-color-unfitted-level-3);\n",
       "  color: var(--sklearn-color-background);\n",
       "  text-decoration: none;\n",
       "}\n",
       "\n",
       "#sk-container-id-7 a.estimator_doc_link.fitted:hover {\n",
       "  /* fitted */\n",
       "  background-color: var(--sklearn-color-fitted-level-3);\n",
       "}\n",
       "</style><div id=\"sk-container-id-7\" class=\"sk-top-container\"><div class=\"sk-text-repr-fallback\"><pre>RandomForestClassifier(n_estimators=10, n_jobs=-1, random_state=42)</pre><b>In a Jupyter environment, please rerun this cell to show the HTML representation or trust the notebook. <br />On GitHub, the HTML representation is unable to render, please try loading this page with nbviewer.org.</b></div><div class=\"sk-container\" hidden><div class=\"sk-item\"><div class=\"sk-estimator fitted sk-toggleable\"><input class=\"sk-toggleable__control sk-hidden--visually\" id=\"sk-estimator-id-7\" type=\"checkbox\" checked><label for=\"sk-estimator-id-7\" class=\"sk-toggleable__label fitted sk-toggleable__label-arrow fitted\">&nbsp;&nbsp;RandomForestClassifier<a class=\"sk-estimator-doc-link fitted\" rel=\"noreferrer\" target=\"_blank\" href=\"https://scikit-learn.org/1.5/modules/generated/sklearn.ensemble.RandomForestClassifier.html\">?<span>Documentation for RandomForestClassifier</span></a><span class=\"sk-estimator-doc-link fitted\">i<span>Fitted</span></span></label><div class=\"sk-toggleable__content fitted\"><pre>RandomForestClassifier(n_estimators=10, n_jobs=-1, random_state=42)</pre></div> </div></div></div></div>"
      ]
     },
     "execution_count": 73,
     "metadata": {},
     "output_type": "execute_result"
    }
   ],
   "execution_count": 73
  },
  {
   "metadata": {
    "ExecuteTime": {
     "end_time": "2024-06-25T15:49:52.050925Z",
     "start_time": "2024-06-25T15:49:52.025715Z"
    }
   },
   "cell_type": "code",
   "source": [
    "y_pred = rf_classifier.predict(Xt)\n",
    "accuracy = accuracy_score(Yt, y_pred)\n",
    "print(f'Train accuracy: {accuracy}')"
   ],
   "id": "294d7871c71b901",
   "outputs": [
    {
     "name": "stdout",
     "output_type": "stream",
     "text": [
      "Train accuracy: 0.9684202236572689\n"
     ]
    }
   ],
   "execution_count": 74
  },
  {
   "metadata": {
    "ExecuteTime": {
     "end_time": "2024-06-25T15:49:53.120439Z",
     "start_time": "2024-06-25T15:49:52.929172Z"
    }
   },
   "cell_type": "code",
   "source": [
    "from sklearn.metrics import accuracy_score, classification_report, confusion_matrix, ConfusionMatrixDisplay\n",
    "import seaborn as sns \n",
    "\n",
    "y_pred_test = rf_classifier.predict(Xtest)\n",
    "test_accuracy = accuracy_score(Ytest, y_pred_test)\n",
    "conf_matrix = confusion_matrix(Ytest,y_pred_test)\n",
    "print(f'Test accuracy: {test_accuracy}')\n",
    "print(conf_matrix)\n",
    "vis_cf = sns.heatmap(conf_matrix, annot= True, cmap='Blues')\n"
   ],
   "id": "16fac281c119f07d",
   "outputs": [
    {
     "name": "stdout",
     "output_type": "stream",
     "text": [
      "Test accuracy: 0.2942659105229994\n",
      "[[332 200 127 132]\n",
      " [237 193 182 165]\n",
      " [200 197 192 204]\n",
      " [177 209 210 217]]\n"
     ]
    },
    {
     "data": {
      "text/plain": [
       "<Figure size 640x480 with 2 Axes>"
      ],
      "image/png": "[encoded data removed]"
     },
     "metadata": {},
     "output_type": "display_data"
    }
   ],
   "execution_count": 75
  },
  {
   "metadata": {},
   "cell_type": "code",
   "outputs": [],
   "execution_count": null,
   "source": [
    "from sklearn.decomposition import PCA\n",
    "\n",
    "pca = PCA"
   ],
   "id": "e90a1321e06d81f8"
  },
  {
   "metadata": {
    "ExecuteTime": {
     "end_time": "2024-06-25T15:47:33.725961Z",
     "start_time": "2024-06-25T15:47:32.742982Z"
    }
   },
   "cell_type": "code",
   "source": [
    "import graphviz\n",
    "from sklearn.tree import export_graphviz\n",
    "\n",
    "tree = rf_classifier.estimators_[0]\n",
    "\n",
    "dot_data = export_graphviz(tree, out_file=None,filled=True,rounded=True, special_characters=True) \n",
    "\n",
    "graph = graphviz.Source(dot_data)  \n",
    "graph.render(\"iris_tree\")  # Save the tree as a file\n",
    "graph.view()\n"
   ],
   "id": "13867d06dfa07e20",
   "outputs": [
    {
     "ename": "ExecutableNotFound",
     "evalue": "failed to execute WindowsPath('dot'), make sure the Graphviz executables are on your systems' PATH",
     "output_type": "error",
     "traceback": [
      "\u001B[1;31m---------------------------------------------------------------------------\u001B[0m",
      "\u001B[1;31mFileNotFoundError\u001B[0m                         Traceback (most recent call last)",
      "File \u001B[1;32m~\\PycharmProjects\\lda_test\\.venv\\Lib\\site-packages\\graphviz\\backend\\execute.py:78\u001B[0m, in \u001B[0;36mrun_check\u001B[1;34m(cmd, input_lines, encoding, quiet, **kwargs)\u001B[0m\n\u001B[0;32m     77\u001B[0m     \u001B[38;5;28;01melse\u001B[39;00m:\n\u001B[1;32m---> 78\u001B[0m         proc \u001B[38;5;241m=\u001B[39m \u001B[43msubprocess\u001B[49m\u001B[38;5;241;43m.\u001B[39;49m\u001B[43mrun\u001B[49m\u001B[43m(\u001B[49m\u001B[43mcmd\u001B[49m\u001B[43m,\u001B[49m\u001B[43m \u001B[49m\u001B[38;5;241;43m*\u001B[39;49m\u001B[38;5;241;43m*\u001B[39;49m\u001B[43mkwargs\u001B[49m\u001B[43m)\u001B[49m\n\u001B[0;32m     79\u001B[0m \u001B[38;5;28;01mexcept\u001B[39;00m \u001B[38;5;167;01mOSError\u001B[39;00m \u001B[38;5;28;01mas\u001B[39;00m e:\n",
      "File \u001B[1;32mC:\\Program Files\\WindowsApps\\PythonSoftwareFoundation.Python.3.12_3.12.1008.0_x64__qbz5n2kfra8p0\\Lib\\subprocess.py:548\u001B[0m, in \u001B[0;36mrun\u001B[1;34m(input, capture_output, timeout, check, *popenargs, **kwargs)\u001B[0m\n\u001B[0;32m    546\u001B[0m     kwargs[\u001B[38;5;124m'\u001B[39m\u001B[38;5;124mstderr\u001B[39m\u001B[38;5;124m'\u001B[39m] \u001B[38;5;241m=\u001B[39m PIPE\n\u001B[1;32m--> 548\u001B[0m \u001B[38;5;28;01mwith\u001B[39;00m \u001B[43mPopen\u001B[49m\u001B[43m(\u001B[49m\u001B[38;5;241;43m*\u001B[39;49m\u001B[43mpopenargs\u001B[49m\u001B[43m,\u001B[49m\u001B[43m \u001B[49m\u001B[38;5;241;43m*\u001B[39;49m\u001B[38;5;241;43m*\u001B[39;49m\u001B[43mkwargs\u001B[49m\u001B[43m)\u001B[49m \u001B[38;5;28;01mas\u001B[39;00m process:\n\u001B[0;32m    549\u001B[0m     \u001B[38;5;28;01mtry\u001B[39;00m:\n",
      "File \u001B[1;32mC:\\Program Files\\WindowsApps\\PythonSoftwareFoundation.Python.3.12_3.12.1008.0_x64__qbz5n2kfra8p0\\Lib\\subprocess.py:1026\u001B[0m, in \u001B[0;36mPopen.__init__\u001B[1;34m(self, args, bufsize, executable, stdin, stdout, stderr, preexec_fn, close_fds, shell, cwd, env, universal_newlines, startupinfo, creationflags, restore_signals, start_new_session, pass_fds, user, group, extra_groups, encoding, errors, text, umask, pipesize, process_group)\u001B[0m\n\u001B[0;32m   1023\u001B[0m             \u001B[38;5;28mself\u001B[39m\u001B[38;5;241m.\u001B[39mstderr \u001B[38;5;241m=\u001B[39m io\u001B[38;5;241m.\u001B[39mTextIOWrapper(\u001B[38;5;28mself\u001B[39m\u001B[38;5;241m.\u001B[39mstderr,\n\u001B[0;32m   1024\u001B[0m                     encoding\u001B[38;5;241m=\u001B[39mencoding, errors\u001B[38;5;241m=\u001B[39merrors)\n\u001B[1;32m-> 1026\u001B[0m     \u001B[38;5;28;43mself\u001B[39;49m\u001B[38;5;241;43m.\u001B[39;49m\u001B[43m_execute_child\u001B[49m\u001B[43m(\u001B[49m\u001B[43margs\u001B[49m\u001B[43m,\u001B[49m\u001B[43m \u001B[49m\u001B[43mexecutable\u001B[49m\u001B[43m,\u001B[49m\u001B[43m \u001B[49m\u001B[43mpreexec_fn\u001B[49m\u001B[43m,\u001B[49m\u001B[43m \u001B[49m\u001B[43mclose_fds\u001B[49m\u001B[43m,\u001B[49m\n\u001B[0;32m   1027\u001B[0m \u001B[43m                        \u001B[49m\u001B[43mpass_fds\u001B[49m\u001B[43m,\u001B[49m\u001B[43m \u001B[49m\u001B[43mcwd\u001B[49m\u001B[43m,\u001B[49m\u001B[43m \u001B[49m\u001B[43menv\u001B[49m\u001B[43m,\u001B[49m\n\u001B[0;32m   1028\u001B[0m \u001B[43m                        \u001B[49m\u001B[43mstartupinfo\u001B[49m\u001B[43m,\u001B[49m\u001B[43m \u001B[49m\u001B[43mcreationflags\u001B[49m\u001B[43m,\u001B[49m\u001B[43m \u001B[49m\u001B[43mshell\u001B[49m\u001B[43m,\u001B[49m\n\u001B[0;32m   1029\u001B[0m \u001B[43m                        \u001B[49m\u001B[43mp2cread\u001B[49m\u001B[43m,\u001B[49m\u001B[43m \u001B[49m\u001B[43mp2cwrite\u001B[49m\u001B[43m,\u001B[49m\n\u001B[0;32m   1030\u001B[0m \u001B[43m                        \u001B[49m\u001B[43mc2pread\u001B[49m\u001B[43m,\u001B[49m\u001B[43m \u001B[49m\u001B[43mc2pwrite\u001B[49m\u001B[43m,\u001B[49m\n\u001B[0;32m   1031\u001B[0m \u001B[43m                        \u001B[49m\u001B[43merrread\u001B[49m\u001B[43m,\u001B[49m\u001B[43m \u001B[49m\u001B[43merrwrite\u001B[49m\u001B[43m,\u001B[49m\n\u001B[0;32m   1032\u001B[0m \u001B[43m                        \u001B[49m\u001B[43mrestore_signals\u001B[49m\u001B[43m,\u001B[49m\n\u001B[0;32m   1033\u001B[0m \u001B[43m                        \u001B[49m\u001B[43mgid\u001B[49m\u001B[43m,\u001B[49m\u001B[43m \u001B[49m\u001B[43mgids\u001B[49m\u001B[43m,\u001B[49m\u001B[43m \u001B[49m\u001B[43muid\u001B[49m\u001B[43m,\u001B[49m\u001B[43m \u001B[49m\u001B[43mumask\u001B[49m\u001B[43m,\u001B[49m\n\u001B[0;32m   1034\u001B[0m \u001B[43m                        \u001B[49m\u001B[43mstart_new_session\u001B[49m\u001B[43m,\u001B[49m\u001B[43m \u001B[49m\u001B[43mprocess_group\u001B[49m\u001B[43m)\u001B[49m\n\u001B[0;32m   1035\u001B[0m \u001B[38;5;28;01mexcept\u001B[39;00m:\n\u001B[0;32m   1036\u001B[0m     \u001B[38;5;66;03m# Cleanup if the child failed starting.\u001B[39;00m\n",
      "File \u001B[1;32mC:\\Program Files\\WindowsApps\\PythonSoftwareFoundation.Python.3.12_3.12.1008.0_x64__qbz5n2kfra8p0\\Lib\\subprocess.py:1538\u001B[0m, in \u001B[0;36mPopen._execute_child\u001B[1;34m(self, args, executable, preexec_fn, close_fds, pass_fds, cwd, env, startupinfo, creationflags, shell, p2cread, p2cwrite, c2pread, c2pwrite, errread, errwrite, unused_restore_signals, unused_gid, unused_gids, unused_uid, unused_umask, unused_start_new_session, unused_process_group)\u001B[0m\n\u001B[0;32m   1537\u001B[0m \u001B[38;5;28;01mtry\u001B[39;00m:\n\u001B[1;32m-> 1538\u001B[0m     hp, ht, pid, tid \u001B[38;5;241m=\u001B[39m \u001B[43m_winapi\u001B[49m\u001B[38;5;241;43m.\u001B[39;49m\u001B[43mCreateProcess\u001B[49m\u001B[43m(\u001B[49m\u001B[43mexecutable\u001B[49m\u001B[43m,\u001B[49m\u001B[43m \u001B[49m\u001B[43margs\u001B[49m\u001B[43m,\u001B[49m\n\u001B[0;32m   1539\u001B[0m \u001B[43m                             \u001B[49m\u001B[38;5;66;43;03m# no special security\u001B[39;49;00m\n\u001B[0;32m   1540\u001B[0m \u001B[43m                             \u001B[49m\u001B[38;5;28;43;01mNone\u001B[39;49;00m\u001B[43m,\u001B[49m\u001B[43m \u001B[49m\u001B[38;5;28;43;01mNone\u001B[39;49;00m\u001B[43m,\u001B[49m\n\u001B[0;32m   1541\u001B[0m \u001B[43m                             \u001B[49m\u001B[38;5;28;43mint\u001B[39;49m\u001B[43m(\u001B[49m\u001B[38;5;129;43;01mnot\u001B[39;49;00m\u001B[43m \u001B[49m\u001B[43mclose_fds\u001B[49m\u001B[43m)\u001B[49m\u001B[43m,\u001B[49m\n\u001B[0;32m   1542\u001B[0m \u001B[43m                             \u001B[49m\u001B[43mcreationflags\u001B[49m\u001B[43m,\u001B[49m\n\u001B[0;32m   1543\u001B[0m \u001B[43m                             \u001B[49m\u001B[43menv\u001B[49m\u001B[43m,\u001B[49m\n\u001B[0;32m   1544\u001B[0m \u001B[43m                             \u001B[49m\u001B[43mcwd\u001B[49m\u001B[43m,\u001B[49m\n\u001B[0;32m   1545\u001B[0m \u001B[43m                             \u001B[49m\u001B[43mstartupinfo\u001B[49m\u001B[43m)\u001B[49m\n\u001B[0;32m   1546\u001B[0m \u001B[38;5;28;01mfinally\u001B[39;00m:\n\u001B[0;32m   1547\u001B[0m     \u001B[38;5;66;03m# Child is launched. Close the parent's copy of those pipe\u001B[39;00m\n\u001B[0;32m   1548\u001B[0m     \u001B[38;5;66;03m# handles that only the child should have open.  You need\u001B[39;00m\n\u001B[1;32m   (...)\u001B[0m\n\u001B[0;32m   1551\u001B[0m     \u001B[38;5;66;03m# pipe will not close when the child process exits and the\u001B[39;00m\n\u001B[0;32m   1552\u001B[0m     \u001B[38;5;66;03m# ReadFile will hang.\u001B[39;00m\n",
      "\u001B[1;31mFileNotFoundError\u001B[0m: [WinError 2] Impossibile trovare il file specificato",
      "\nThe above exception was the direct cause of the following exception:\n",
      "\u001B[1;31mExecutableNotFound\u001B[0m                        Traceback (most recent call last)",
      "Cell \u001B[1;32mIn[67], line 9\u001B[0m\n\u001B[0;32m      6\u001B[0m dot_data \u001B[38;5;241m=\u001B[39m export_graphviz(tree, out_file\u001B[38;5;241m=\u001B[39m\u001B[38;5;28;01mNone\u001B[39;00m,filled\u001B[38;5;241m=\u001B[39m\u001B[38;5;28;01mTrue\u001B[39;00m,rounded\u001B[38;5;241m=\u001B[39m\u001B[38;5;28;01mTrue\u001B[39;00m, special_characters\u001B[38;5;241m=\u001B[39m\u001B[38;5;28;01mTrue\u001B[39;00m) \n\u001B[0;32m      8\u001B[0m graph \u001B[38;5;241m=\u001B[39m graphviz\u001B[38;5;241m.\u001B[39mSource(dot_data)  \n\u001B[1;32m----> 9\u001B[0m \u001B[43mgraph\u001B[49m\u001B[38;5;241;43m.\u001B[39;49m\u001B[43mrender\u001B[49m\u001B[43m(\u001B[49m\u001B[38;5;124;43m\"\u001B[39;49m\u001B[38;5;124;43miris_tree\u001B[39;49m\u001B[38;5;124;43m\"\u001B[39;49m\u001B[43m)\u001B[49m  \u001B[38;5;66;03m# Save the tree as a file\u001B[39;00m\n\u001B[0;32m     10\u001B[0m graph\u001B[38;5;241m.\u001B[39mview()\n",
      "File \u001B[1;32m~\\PycharmProjects\\lda_test\\.venv\\Lib\\site-packages\\graphviz\\_tools.py:171\u001B[0m, in \u001B[0;36mdeprecate_positional_args.<locals>.decorator.<locals>.wrapper\u001B[1;34m(*args, **kwargs)\u001B[0m\n\u001B[0;32m    162\u001B[0m     wanted \u001B[38;5;241m=\u001B[39m \u001B[38;5;124m'\u001B[39m\u001B[38;5;124m, \u001B[39m\u001B[38;5;124m'\u001B[39m\u001B[38;5;241m.\u001B[39mjoin(\u001B[38;5;124mf\u001B[39m\u001B[38;5;124m'\u001B[39m\u001B[38;5;132;01m{\u001B[39;00mname\u001B[38;5;132;01m}\u001B[39;00m\u001B[38;5;124m=\u001B[39m\u001B[38;5;132;01m{\u001B[39;00mvalue\u001B[38;5;132;01m!r}\u001B[39;00m\u001B[38;5;124m'\u001B[39m\n\u001B[0;32m    163\u001B[0m                        \u001B[38;5;28;01mfor\u001B[39;00m name, value \u001B[38;5;129;01min\u001B[39;00m deprecated\u001B[38;5;241m.\u001B[39mitems())\n\u001B[0;32m    164\u001B[0m     warnings\u001B[38;5;241m.\u001B[39mwarn(\u001B[38;5;124mf\u001B[39m\u001B[38;5;124m'\u001B[39m\u001B[38;5;124mThe signature of \u001B[39m\u001B[38;5;132;01m{\u001B[39;00mfunc\u001B[38;5;241m.\u001B[39m\u001B[38;5;18m__name__\u001B[39m\u001B[38;5;132;01m}\u001B[39;00m\u001B[38;5;124m will be reduced\u001B[39m\u001B[38;5;124m'\u001B[39m\n\u001B[0;32m    165\u001B[0m                   \u001B[38;5;124mf\u001B[39m\u001B[38;5;124m'\u001B[39m\u001B[38;5;124m to \u001B[39m\u001B[38;5;132;01m{\u001B[39;00msupported_number\u001B[38;5;132;01m}\u001B[39;00m\u001B[38;5;124m positional args\u001B[39m\u001B[38;5;124m'\u001B[39m\n\u001B[0;32m    166\u001B[0m                   \u001B[38;5;124mf\u001B[39m\u001B[38;5;124m'\u001B[39m\u001B[38;5;124m \u001B[39m\u001B[38;5;132;01m{\u001B[39;00m\u001B[38;5;28mlist\u001B[39m(supported)\u001B[38;5;132;01m}\u001B[39;00m\u001B[38;5;124m: pass \u001B[39m\u001B[38;5;132;01m{\u001B[39;00mwanted\u001B[38;5;132;01m}\u001B[39;00m\u001B[38;5;124m'\u001B[39m\n\u001B[0;32m    167\u001B[0m                   \u001B[38;5;124m'\u001B[39m\u001B[38;5;124m as keyword arg(s)\u001B[39m\u001B[38;5;124m'\u001B[39m,\n\u001B[0;32m    168\u001B[0m                   stacklevel\u001B[38;5;241m=\u001B[39mstacklevel,\n\u001B[0;32m    169\u001B[0m                   category\u001B[38;5;241m=\u001B[39mcategory)\n\u001B[1;32m--> 171\u001B[0m \u001B[38;5;28;01mreturn\u001B[39;00m \u001B[43mfunc\u001B[49m\u001B[43m(\u001B[49m\u001B[38;5;241;43m*\u001B[39;49m\u001B[43margs\u001B[49m\u001B[43m,\u001B[49m\u001B[43m \u001B[49m\u001B[38;5;241;43m*\u001B[39;49m\u001B[38;5;241;43m*\u001B[39;49m\u001B[43mkwargs\u001B[49m\u001B[43m)\u001B[49m\n",
      "File \u001B[1;32m~\\PycharmProjects\\lda_test\\.venv\\Lib\\site-packages\\graphviz\\rendering.py:122\u001B[0m, in \u001B[0;36mRender.render\u001B[1;34m(self, filename, directory, view, cleanup, format, renderer, formatter, neato_no_op, quiet, quiet_view, outfile, engine, raise_if_result_exists, overwrite_source)\u001B[0m\n\u001B[0;32m    118\u001B[0m filepath \u001B[38;5;241m=\u001B[39m \u001B[38;5;28mself\u001B[39m\u001B[38;5;241m.\u001B[39msave(filename, directory\u001B[38;5;241m=\u001B[39mdirectory, skip_existing\u001B[38;5;241m=\u001B[39m\u001B[38;5;28;01mNone\u001B[39;00m)\n\u001B[0;32m    120\u001B[0m args\u001B[38;5;241m.\u001B[39mappend(filepath)\n\u001B[1;32m--> 122\u001B[0m rendered \u001B[38;5;241m=\u001B[39m \u001B[38;5;28;43mself\u001B[39;49m\u001B[38;5;241;43m.\u001B[39;49m\u001B[43m_render\u001B[49m\u001B[43m(\u001B[49m\u001B[38;5;241;43m*\u001B[39;49m\u001B[43margs\u001B[49m\u001B[43m,\u001B[49m\u001B[43m \u001B[49m\u001B[38;5;241;43m*\u001B[39;49m\u001B[38;5;241;43m*\u001B[39;49m\u001B[43mkwargs\u001B[49m\u001B[43m)\u001B[49m\n\u001B[0;32m    124\u001B[0m \u001B[38;5;28;01mif\u001B[39;00m cleanup:\n\u001B[0;32m    125\u001B[0m     log\u001B[38;5;241m.\u001B[39mdebug(\u001B[38;5;124m'\u001B[39m\u001B[38;5;124mdelete \u001B[39m\u001B[38;5;132;01m%r\u001B[39;00m\u001B[38;5;124m'\u001B[39m, filepath)\n",
      "File \u001B[1;32m~\\PycharmProjects\\lda_test\\.venv\\Lib\\site-packages\\graphviz\\_tools.py:171\u001B[0m, in \u001B[0;36mdeprecate_positional_args.<locals>.decorator.<locals>.wrapper\u001B[1;34m(*args, **kwargs)\u001B[0m\n\u001B[0;32m    162\u001B[0m     wanted \u001B[38;5;241m=\u001B[39m \u001B[38;5;124m'\u001B[39m\u001B[38;5;124m, \u001B[39m\u001B[38;5;124m'\u001B[39m\u001B[38;5;241m.\u001B[39mjoin(\u001B[38;5;124mf\u001B[39m\u001B[38;5;124m'\u001B[39m\u001B[38;5;132;01m{\u001B[39;00mname\u001B[38;5;132;01m}\u001B[39;00m\u001B[38;5;124m=\u001B[39m\u001B[38;5;132;01m{\u001B[39;00mvalue\u001B[38;5;132;01m!r}\u001B[39;00m\u001B[38;5;124m'\u001B[39m\n\u001B[0;32m    163\u001B[0m                        \u001B[38;5;28;01mfor\u001B[39;00m name, value \u001B[38;5;129;01min\u001B[39;00m deprecated\u001B[38;5;241m.\u001B[39mitems())\n\u001B[0;32m    164\u001B[0m     warnings\u001B[38;5;241m.\u001B[39mwarn(\u001B[38;5;124mf\u001B[39m\u001B[38;5;124m'\u001B[39m\u001B[38;5;124mThe signature of \u001B[39m\u001B[38;5;132;01m{\u001B[39;00mfunc\u001B[38;5;241m.\u001B[39m\u001B[38;5;18m__name__\u001B[39m\u001B[38;5;132;01m}\u001B[39;00m\u001B[38;5;124m will be reduced\u001B[39m\u001B[38;5;124m'\u001B[39m\n\u001B[0;32m    165\u001B[0m                   \u001B[38;5;124mf\u001B[39m\u001B[38;5;124m'\u001B[39m\u001B[38;5;124m to \u001B[39m\u001B[38;5;132;01m{\u001B[39;00msupported_number\u001B[38;5;132;01m}\u001B[39;00m\u001B[38;5;124m positional args\u001B[39m\u001B[38;5;124m'\u001B[39m\n\u001B[0;32m    166\u001B[0m                   \u001B[38;5;124mf\u001B[39m\u001B[38;5;124m'\u001B[39m\u001B[38;5;124m \u001B[39m\u001B[38;5;132;01m{\u001B[39;00m\u001B[38;5;28mlist\u001B[39m(supported)\u001B[38;5;132;01m}\u001B[39;00m\u001B[38;5;124m: pass \u001B[39m\u001B[38;5;132;01m{\u001B[39;00mwanted\u001B[38;5;132;01m}\u001B[39;00m\u001B[38;5;124m'\u001B[39m\n\u001B[0;32m    167\u001B[0m                   \u001B[38;5;124m'\u001B[39m\u001B[38;5;124m as keyword arg(s)\u001B[39m\u001B[38;5;124m'\u001B[39m,\n\u001B[0;32m    168\u001B[0m                   stacklevel\u001B[38;5;241m=\u001B[39mstacklevel,\n\u001B[0;32m    169\u001B[0m                   category\u001B[38;5;241m=\u001B[39mcategory)\n\u001B[1;32m--> 171\u001B[0m \u001B[38;5;28;01mreturn\u001B[39;00m \u001B[43mfunc\u001B[49m\u001B[43m(\u001B[49m\u001B[38;5;241;43m*\u001B[39;49m\u001B[43margs\u001B[49m\u001B[43m,\u001B[49m\u001B[43m \u001B[49m\u001B[38;5;241;43m*\u001B[39;49m\u001B[38;5;241;43m*\u001B[39;49m\u001B[43mkwargs\u001B[49m\u001B[43m)\u001B[49m\n",
      "File \u001B[1;32m~\\PycharmProjects\\lda_test\\.venv\\Lib\\site-packages\\graphviz\\backend\\rendering.py:326\u001B[0m, in \u001B[0;36mrender\u001B[1;34m(engine, format, filepath, renderer, formatter, neato_no_op, quiet, outfile, raise_if_result_exists, overwrite_filepath)\u001B[0m\n\u001B[0;32m    322\u001B[0m cmd \u001B[38;5;241m+\u001B[39m\u001B[38;5;241m=\u001B[39m args\n\u001B[0;32m    324\u001B[0m \u001B[38;5;28;01massert\u001B[39;00m filepath \u001B[38;5;129;01mis\u001B[39;00m \u001B[38;5;129;01mnot\u001B[39;00m \u001B[38;5;28;01mNone\u001B[39;00m, \u001B[38;5;124m'\u001B[39m\u001B[38;5;124mwork around pytype false alarm\u001B[39m\u001B[38;5;124m'\u001B[39m\n\u001B[1;32m--> 326\u001B[0m \u001B[43mexecute\u001B[49m\u001B[38;5;241;43m.\u001B[39;49m\u001B[43mrun_check\u001B[49m\u001B[43m(\u001B[49m\u001B[43mcmd\u001B[49m\u001B[43m,\u001B[49m\n\u001B[0;32m    327\u001B[0m \u001B[43m                  \u001B[49m\u001B[43mcwd\u001B[49m\u001B[38;5;241;43m=\u001B[39;49m\u001B[43mfilepath\u001B[49m\u001B[38;5;241;43m.\u001B[39;49m\u001B[43mparent\u001B[49m\u001B[43m \u001B[49m\u001B[38;5;28;43;01mif\u001B[39;49;00m\u001B[43m \u001B[49m\u001B[43mfilepath\u001B[49m\u001B[38;5;241;43m.\u001B[39;49m\u001B[43mparent\u001B[49m\u001B[38;5;241;43m.\u001B[39;49m\u001B[43mparts\u001B[49m\u001B[43m \u001B[49m\u001B[38;5;28;43;01melse\u001B[39;49;00m\u001B[43m \u001B[49m\u001B[38;5;28;43;01mNone\u001B[39;49;00m\u001B[43m,\u001B[49m\n\u001B[0;32m    328\u001B[0m \u001B[43m                  \u001B[49m\u001B[43mquiet\u001B[49m\u001B[38;5;241;43m=\u001B[39;49m\u001B[43mquiet\u001B[49m\u001B[43m,\u001B[49m\n\u001B[0;32m    329\u001B[0m \u001B[43m                  \u001B[49m\u001B[43mcapture_output\u001B[49m\u001B[38;5;241;43m=\u001B[39;49m\u001B[38;5;28;43;01mTrue\u001B[39;49;00m\u001B[43m)\u001B[49m\n\u001B[0;32m    331\u001B[0m \u001B[38;5;28;01mreturn\u001B[39;00m os\u001B[38;5;241m.\u001B[39mfspath(outfile)\n",
      "File \u001B[1;32m~\\PycharmProjects\\lda_test\\.venv\\Lib\\site-packages\\graphviz\\backend\\execute.py:81\u001B[0m, in \u001B[0;36mrun_check\u001B[1;34m(cmd, input_lines, encoding, quiet, **kwargs)\u001B[0m\n\u001B[0;32m     79\u001B[0m \u001B[38;5;28;01mexcept\u001B[39;00m \u001B[38;5;167;01mOSError\u001B[39;00m \u001B[38;5;28;01mas\u001B[39;00m e:\n\u001B[0;32m     80\u001B[0m     \u001B[38;5;28;01mif\u001B[39;00m e\u001B[38;5;241m.\u001B[39merrno \u001B[38;5;241m==\u001B[39m errno\u001B[38;5;241m.\u001B[39mENOENT:\n\u001B[1;32m---> 81\u001B[0m         \u001B[38;5;28;01mraise\u001B[39;00m ExecutableNotFound(cmd) \u001B[38;5;28;01mfrom\u001B[39;00m \u001B[38;5;21;01me\u001B[39;00m\n\u001B[0;32m     82\u001B[0m     \u001B[38;5;28;01mraise\u001B[39;00m\n\u001B[0;32m     84\u001B[0m \u001B[38;5;28;01mif\u001B[39;00m \u001B[38;5;129;01mnot\u001B[39;00m quiet \u001B[38;5;129;01mand\u001B[39;00m proc\u001B[38;5;241m.\u001B[39mstderr:\n",
      "\u001B[1;31mExecutableNotFound\u001B[0m: failed to execute WindowsPath('dot'), make sure the Graphviz executables are on your systems' PATH"
     ]
    }
   ],
   "execution_count": 67
  },
  {
   "metadata": {},
   "cell_type": "markdown",
   "source": "Let's try QDA",
   "id": "feb5357be6b5aadf"
  },
  {
   "metadata": {
    "ExecuteTime": {
     "end_time": "2024-06-25T15:55:56.895400Z",
     "start_time": "2024-06-25T15:55:56.727391Z"
    }
   },
   "cell_type": "code",
   "source": [
    "from sklearn.discriminant_analysis import QuadraticDiscriminantAnalysis\n",
    "from sklearn.metrics import accuracy_score, classification_report\n",
    "\n",
    "qda = QuadraticDiscriminantAnalysis()\n",
    "\n",
    "qda.fit(Xt,Yt)\n",
    "y_qda_predict = qda.predict(Xt)\n",
    "qda_train_accuracy = accuracy_score(Yt,y_qda_predict)\n",
    "y_pred_qda_test = qda.predict(Xtest)\n",
    "qda_test_accuracy = accuracy_score(Ytest,y_pred_qda_test)\n",
    "print(f'Train accuracy: {qda_train_accuracy}')\n",
    "print(confusion_matrix(Yt,y_qda_predict))\n",
    "print(f'Test accuracy: {qda_test_accuracy}')\n",
    "test_conf_matrix = confusion_matrix(Ytest,y_pred_qda_test)\n",
    "vis_cf_QDA = sns.heatmap(conf_matrix, annot= True, cmap='Blues')\n"
   ],
   "id": "f60a93a6cf31539d",
   "outputs": [
    {
     "name": "stdout",
     "output_type": "stream",
     "text": [
      "Train accuracy: 0.34737753977004254\n",
      "[[1649  551  235  742]\n",
      " [1022  793  364 1012]\n",
      " [ 796  648  439 1292]\n",
      " [ 702  544  379 1530]]\n",
      "Test accuracy: 0.3440453686200378\n"
     ]
    },
    {
     "data": {
      "text/plain": [
       "<Figure size 640x480 with 2 Axes>"
      ],
      "image/png": "[encoded data removed]"
     },
     "metadata": {},
     "output_type": "display_data"
    }
   ],
   "execution_count": 77
  },
  {
   "metadata": {},
   "cell_type": "markdown",
   "source": "Maybe svm with a radial kernel",
   "id": "1aba504d4f310bc4"
  },
  {
   "metadata": {
    "ExecuteTime": {
     "end_time": "2024-06-25T15:48:00.083315Z",
     "start_time": "2024-06-25T15:47:39.596151Z"
    }
   },
   "cell_type": "code",
   "source": [
    "from sklearn.model_selection import train_test_split, GridSearchCV\n",
    "from sklearn.svm import SVC\n",
    "from sklearn.preprocessing import StandardScaler\n",
    "from sklearn.metrics import accuracy_score, classification_report, confusion_matrix\n",
    "\n",
    "\n",
    "scaler =MaxAbsScaler()\n",
    "Xt_scaled = scaler.fit_transform(Xt)\n",
    "Xtest_scaled = scaler.fit_transform(Xtest)\n",
    "\n",
    "svm = SVC(kernel='rbf',C=1.0, gamma='scale',degree=5)\n",
    "svm.fit(Xt,Yt)\n",
    "Y_svm_pred = svm.predict(Xt)\n",
    "print(f'Train accuracy:', accuracy_score(Yt,Y_svm_pred))\n",
    "conf_matrix_svm = confusion_matrix(Yt,Y_svm_pred)\n",
    "print(conf_matrix_svm)\n",
    "Y_svm_pred_test = svm.predict(Xtest)\n",
    "conf_matrix_svm = confusion_matrix(Ytest,Y_svm_pred_test)\n",
    "print('Test accuracy:', accuracy_score(Ytest,Y_svm_pred_test))\n",
    "print(conf_matrix_svm)\n"
   ],
   "id": "29dde9ec48460024",
   "outputs": [
    {
     "name": "stdout",
     "output_type": "stream",
     "text": [
      "Train accuracy: 0.36793195778862814\n",
      "[[1632  728  201  616]\n",
      " [ 915 1075  319  882]\n",
      " [ 701  834  528 1112]\n",
      " [ 655  708  355 1437]]\n",
      "Test accuracy: 0.3367989918084436\n",
      "[[390 193  67 141]\n",
      " [243 235  81 218]\n",
      " [173 201 105 314]\n",
      " [155 204 115 339]]\n"
     ]
    }
   ],
   "execution_count": 69
  },
  {
   "metadata": {
    "ExecuteTime": {
     "end_time": "2024-06-23T19:50:14.681137Z",
     "start_time": "2024-06-23T19:50:14.677584Z"
    }
   },
   "cell_type": "code",
   "source": "",
   "id": "ca104739049a26a3",
   "outputs": [],
   "execution_count": 307
  },
  {
   "metadata": {},
   "cell_type": "code",
   "outputs": [],
   "execution_count": null,
   "source": "",
   "id": "b5437a18c3ee3129"
  }
 ],
 "metadata": {
  "kernelspec": {
   "display_name": "Python 3",
   "language": "python",
   "name": "python3"
  },
  "language_info": {
   "codemirror_mode": {
    "name": "ipython",
    "version": 2
   },
   "file_extension": ".py",
   "mimetype": "text/x-python",
   "name": "python",
   "nbconvert_exporter": "python",
   "pygments_lexer": "ipython2",
   "version": "2.7.6"
  }
 },
 "nbformat": 4,
 "nbformat_minor": 5
}
